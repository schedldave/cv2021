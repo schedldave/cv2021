{
  "nbformat": 4,
  "nbformat_minor": 0,
  "metadata": {
    "kernelspec": {
      "display_name": "Python 3",
      "language": "python",
      "name": "python3"
    },
    "language_info": {
      "codemirror_mode": {
        "name": "ipython",
        "version": 3
      },
      "file_extension": ".py",
      "mimetype": "text/x-python",
      "name": "python",
      "nbconvert_exporter": "python",
      "pygments_lexer": "ipython3",
      "version": "3.8.5-final"
    },
    "varInspector": {
      "cols": {
        "lenName": 16,
        "lenType": 16,
        "lenVar": 40
      },
      "kernels_config": {
        "python": {
          "delete_cmd_postfix": "",
          "delete_cmd_prefix": "del ",
          "library": "var_list.py",
          "varRefreshCmd": "print(var_dic_list())"
        },
        "r": {
          "delete_cmd_postfix": ") ",
          "delete_cmd_prefix": "rm(",
          "library": "var_list.r",
          "varRefreshCmd": "cat(var_dic_list()) "
        }
      },
      "types_to_exclude": [
        "module",
        "function",
        "builtin_function_or_method",
        "instance",
        "_Feature"
      ],
      "window_display": false
    },
    "colab": {
      "name": "PythonTutorial_6869.ipynb",
      "provenance": [],
      "collapsed_sections": [
        "pirJzx0ylsOt",
        "YTqSqOhjlsTx"
      ]
    }
  },
  "cells": [
    {
      "cell_type": "markdown",
      "metadata": {
        "id": "QuUAgQFQlsJU"
      },
      "source": [
        "# Tutorial 01 - Python for Computer Vision\n",
        "[![Open In Colab](https://colab.research.google.com/assets/colab-badge.svg)](https://colab.research.google.com/github/schedldave/cv2021/blob/main/01_PythonTutorial.ipynb)\n",
        "## Dr. David C. Schedl\n",
        "\n",
        "Note: this tutorial is geared towards students **experienced in general programming** and aims to introduce you to Python and some of the libraries we will use in the computer vision course.\n",
        "\n",
        "adapted from: \n",
        "* https://cs231n.github.io/python-numpy-tutorial/ (written by Justin Johnson; @Stanford)\n",
        "* http://6.869.csail.mit.edu/fa19/schedule.html (written by Julie Ganeshan; @MIT)\n"
      ]
    },
    {
      "source": [
        "# Content\n",
        "In this tutorial, we will cover:\n",
        "* Python Setup: Python, Miniconda, pip, Colab\n",
        "* Basic Python: Basic data types (Containers, Lists, Dictionaries, Sets, Tuples), Functions, Classes\n",
        "* Numpy: Arrays, Array indexing, Datatypes, Array math, Broadcasting\n",
        "* Matplotlib: Plotting, Subplots, Images\n",
        "* IPython: Creating notebooks, Typical workflows\n",
        "\n",
        "# Useful Links:\n",
        "* [Python Documentation](https://docs.python.org/3.8/)\n",
        "* If you know Matlab, you can find the differences [here](https://numpy.org/doc/stable/user/numpy-for-matlab-users.html)."
      ],
      "cell_type": "markdown",
      "metadata": {
        "id": "GVOsLEGclsJZ"
      }
    },
    {
      "source": [
        "# Python\n",
        "\n",
        "Python is a high-level, dynamically typed multiparadigm programming language. Python code is often said to be almost like pseudocode, since it allows you to express very powerful ideas in very few lines of code while being very readable. As an example, here is an implementation of the classic quicksort algorithm in Python:"
      ],
      "cell_type": "markdown",
      "metadata": {}
    },
    {
      "cell_type": "code",
      "execution_count": 80,
      "metadata": {},
      "outputs": [
        {
          "output_type": "stream",
          "name": "stdout",
          "text": [
            "[1, 1, 2, 3, 6, 8, 10]\n"
          ]
        }
      ],
      "source": [
        "def quicksort(arr):\n",
        "    if len(arr) <= 1:\n",
        "        return arr\n",
        "    pivot = arr[len(arr) // 2]\n",
        "    left = [x for x in arr if x < pivot]\n",
        "    middle = [x for x in arr if x == pivot]\n",
        "    right = [x for x in arr if x > pivot]\n",
        "    return quicksort(left) + middle + quicksort(right)\n",
        "\n",
        "print(quicksort([3,6,8,10,1,2,1]))"
      ]
    },
    {
      "source": [
        "## Setup\n",
        "\n",
        "You have the option to run the code *online* with Google Colab (requires a Google account), *locally* with your own installation of Python and an editor (I recommend Visual Studio Code).\n",
        "\n",
        "### Online: [![Open In Colab](https://colab.research.google.com/assets/colab-badge.svg)](https://colab.research.google.com/github/schedldave/cv2021/blob/main/PythonTutorial.ipynb)\n",
        "Everything runs on a Google machine, so you don't need to set up anything on your computer. Furthermore, the machines come with the most popular libraries preinstalled.\n",
        "\n",
        "### Local:\n",
        "Install Python on your computer via [Conda/Miniconda](https://conda.io/projects/conda/en/latest/user-guide/install/windows.html) or the [Python Installer](https://www.python.org/downloads/). Use Python3, as Python2 is not supported anymore. Furthermore, you need an Editor that support Jupyter (`.ipynb`)  notebooks. I recommend using [Visual Studio Code](https://code.visualstudio.com/download). Optionally, you can also use a local server and open [Notebooks in your browser](https://test-jupyter.readthedocs.io/en/latest/install.html) (Visual Studio simplifies this).\n"
      ],
      "cell_type": "markdown",
      "metadata": {}
    },
    {
      "source": [
        "## Libraries\n",
        "\n",
        "Python is a great general-purpose programming language on its own, but with the help of a few popular libraries it becomes a powerful environment for scientific computing. \n",
        "Per default no libraries are installed, so you need to install them to be able to use them. Any `import ...` command in Python code refers to a library. Common libraries are numpy, scipy, matplotlib.\n",
        "\n",
        "Note, you can skip this step if you use Colab!\n",
        "\n",
        "The libraries we use today are listed in `requirements.txt` and can be installed via a package manager.\n",
        "Use \n",
        "* `pip install -r requirements.txt`, if you use a regular Python installation or \n",
        "* `conda install --file requirements.txt` with Conda/Miniconda.\n",
        "\n"
      ],
      "cell_type": "markdown",
      "metadata": {}
    },
    {
      "cell_type": "markdown",
      "metadata": {
        "id": "weMMc2WZlsJc"
      },
      "source": [
        "# Initilization"
      ]
    },
    {
      "cell_type": "code",
      "metadata": {
        "id": "Gpvh7PPVlsJg"
      },
      "source": [
        "import os\n",
        "import numpy as np\n",
        "import matplotlib.pyplot as plt"
      ],
      "execution_count": 11,
      "outputs": []
    },
    {
      "cell_type": "markdown",
      "metadata": {
        "id": "IRelpfS8lsJz"
      },
      "source": [
        "# Numpy\n",
        "\n",
        "Numpy is a numerical library that provides **_tons_** of useful functions for scalar, array, and matrix types. We'll only go into a small scratch of numpy.\n",
        "\n",
        "**Why numpy instead of regular `for` loops**? \\\n",
        "In addition to the convenience of not redesigning the wheel, much of Numpy is built directly in C++ and is well optimized, so it runs *very* fast\n",
        "\n",
        "Let's import numpy now! It is customary to call it `np`, since you need to reference it a lot."
      ]
    },
    {
      "cell_type": "code",
      "metadata": {
        "id": "bPWkPZ-3lsJ3"
      },
      "source": [
        "import numpy as np"
      ],
      "execution_count": 13,
      "outputs": []
    },
    {
      "cell_type": "markdown",
      "metadata": {
        "id": "TsPlWndglsKD"
      },
      "source": [
        "## Arrays, Matrices, and Tensors"
      ]
    },
    {
      "cell_type": "markdown",
      "metadata": {
        "id": "-0UBbo9nlsKG"
      },
      "source": [
        "One of the most important primitives in numpy is the `np.array` - this represents a fixed-size array (or list) of elements.\n",
        "\n",
        "Unlike Python lists, numpy arrays **MUST HAVE THE SAME TYPE**. The types allowed by numpy are below. Note that you have greater control over how much space is used by each datatype than Python primitives:\n",
        "- float16, float32, float64 (decimal values)\n",
        "- int8, int16, int32, int64 (integers)\n",
        "- uint8, uint16, uint32, uint64 (unsigned, or positive, integers)\n",
        "- bool (boolean)\n",
        "- complex64, complex128 (Complex numbers, represented as 2 floats)\n",
        "\n",
        "All of these types have a default size that you can access with `np.float`, `np.int`, and so on.\n",
        "\n",
        "Let's make an array from a Python list!"
      ]
    },
    {
      "cell_type": "code",
      "metadata": {
        "id": "86ESPxI0lsKK",
        "colab": {
          "base_uri": "https://localhost:8080/",
          "height": 51
        },
        "outputId": "5be0217d-e181-44f1-fcf7-7373ed9362c2"
      },
      "source": [
        "a = np.array([1, 2, 3])\n",
        "b = np.array([10, 20, 30])\n",
        "print(\"A is %s. B is %s\" % (repr(a), repr(b)))\n",
        "print(\"Object Type:\",type(a))"
      ],
      "execution_count": 14,
      "outputs": [
        {
          "output_type": "stream",
          "name": "stdout",
          "text": [
            "A is array([1, 2, 3]). B is array([10, 20, 30])\nObject Type: <class 'numpy.ndarray'>\n"
          ]
        }
      ]
    },
    {
      "cell_type": "markdown",
      "metadata": {
        "id": "rxLQlv98lsKg"
      },
      "source": [
        "Let's see what type numpy inferred from our data"
      ]
    },
    {
      "cell_type": "code",
      "metadata": {
        "id": "P5s8HH06lsKj",
        "colab": {
          "base_uri": "https://localhost:8080/",
          "height": 34
        },
        "outputId": "2b7545aa-239d-42a8-92b2-f313f37aebfd"
      },
      "source": [
        "a.dtype"
      ],
      "execution_count": 15,
      "outputs": [
        {
          "output_type": "execute_result",
          "data": {
            "text/plain": [
              "dtype('int32')"
            ]
          },
          "metadata": {},
          "execution_count": 15
        }
      ]
    },
    {
      "cell_type": "markdown",
      "metadata": {
        "id": "nwLVHVtFlsKv"
      },
      "source": [
        "You can get a casted version of an array using the function `astype`"
      ]
    },
    {
      "cell_type": "code",
      "metadata": {
        "id": "xanNWFpwlsK0",
        "colab": {
          "base_uri": "https://localhost:8080/",
          "height": 34
        },
        "outputId": "4e7587aa-54f7-4e4f-edc3-bb26eb9c83f2"
      },
      "source": [
        "a.astype(np.complex)"
      ],
      "execution_count": 16,
      "outputs": [
        {
          "output_type": "execute_result",
          "data": {
            "text/plain": [
              "array([1.+0.j, 2.+0.j, 3.+0.j])"
            ]
          },
          "metadata": {},
          "execution_count": 16
        }
      ]
    },
    {
      "cell_type": "markdown",
      "metadata": {
        "id": "8Yxd-jJqlsK_"
      },
      "source": [
        "We can access elements of an array using the same `[]` notation we're used to. We can even use negatives to index from the end, and make slices."
      ]
    },
    {
      "cell_type": "code",
      "metadata": {
        "id": "_r4tMqNzlsLC",
        "colab": {
          "base_uri": "https://localhost:8080/",
          "height": 68
        },
        "outputId": "8f407aeb-9e3a-4891-8c7e-d2d1ddc0f81b"
      },
      "source": [
        "print(a[1])\n",
        "print(b[-1])\n",
        "print(repr(a[0:3:2]))"
      ],
      "execution_count": 17,
      "outputs": [
        {
          "output_type": "stream",
          "name": "stdout",
          "text": [
            "2\n30\narray([1, 3])\n"
          ]
        }
      ]
    },
    {
      "cell_type": "markdown",
      "metadata": {
        "id": "tZTqTerwlsLP"
      },
      "source": [
        "Since arrays have a fixed size, we can get this size as a tuple using the `shape` attribute - you can't set this though!"
      ]
    },
    {
      "cell_type": "code",
      "metadata": {
        "id": "2_HeIgCnlsLT",
        "colab": {
          "base_uri": "https://localhost:8080/",
          "height": 51
        },
        "outputId": "98b5cd29-6ebe-4287-c407-5fe5c19b7229"
      },
      "source": [
        "print(a.shape)\n",
        "print(b.shape)"
      ],
      "execution_count": 18,
      "outputs": [
        {
          "output_type": "stream",
          "name": "stdout",
          "text": [
            "(3,)\n(3,)\n"
          ]
        }
      ]
    },
    {
      "cell_type": "markdown",
      "metadata": {
        "id": "NcFvaJAxlsLg"
      },
      "source": [
        "We can also change elements of the array - we just can't add new elements"
      ]
    },
    {
      "cell_type": "code",
      "metadata": {
        "id": "X2IBQgOIlsLk",
        "colab": {
          "base_uri": "https://localhost:8080/",
          "height": 34
        },
        "outputId": "55ee54d0-553c-436d-e084-e7726438e592"
      },
      "source": [
        "a[0] = 100\n",
        "print(repr(a))"
      ],
      "execution_count": 19,
      "outputs": [
        {
          "output_type": "stream",
          "name": "stdout",
          "text": [
            "array([100,   2,   3])\n"
          ]
        }
      ]
    },
    {
      "cell_type": "markdown",
      "metadata": {
        "id": "u1xAr63xlsLw"
      },
      "source": [
        "Since `a` and `b` are numpy arrays, we can do math with them now! These operations, by default, will happen out-of-place (a new array will be created to store the result)"
      ]
    },
    {
      "cell_type": "code",
      "metadata": {
        "id": "7GxTc80tlsLz",
        "colab": {
          "base_uri": "https://localhost:8080/",
          "height": 102
        },
        "outputId": "df8bb7ea-c209-40b1-ca35-64943382c2a0"
      },
      "source": [
        "print(\"Numpy math:\")\n",
        "print(a,\"+\",b,\"=\",a + b)\n",
        "\n",
        "# If they weren't numpy arrays\n",
        "print(\"\\nVanilla Python List math:\")\n",
        "print(list(a),\"+\",list(b),\"=\",list(a) + list(b))"
      ],
      "execution_count": 20,
      "outputs": [
        {
          "output_type": "stream",
          "name": "stdout",
          "text": [
            "Numpy math:\n[100   2   3] + [10 20 30] = [110  22  33]\n\nVanilla Python List math:\n[100, 2, 3] + [10, 20, 30] = [100, 2, 3, 10, 20, 30]\n"
          ]
        }
      ]
    },
    {
      "cell_type": "markdown",
      "metadata": {
        "id": "3mTuX0yAlsL-"
      },
      "source": [
        "This is a small example, but we'll soon see more complicated operations numpy arrays can perform!"
      ]
    },
    {
      "cell_type": "markdown",
      "metadata": {
        "id": "J7ijTZXQlsMC"
      },
      "source": [
        "### Adding Dimensions\n",
        "We can also make matrices, by simply giving the constructor the correct shape of data"
      ]
    },
    {
      "cell_type": "code",
      "metadata": {
        "id": "34cv7N9nlsMI",
        "colab": {
          "base_uri": "https://localhost:8080/",
          "height": 51
        },
        "outputId": "1a63e4ab-2da7-4b52-e30d-60cc46a564f2"
      },
      "source": [
        "my_matrix = np.array(\n",
        "    [\n",
        "        [1, 2, 3],\n",
        "        [4, 5, 6]\n",
        "    ]\n",
        ")\n",
        "print(repr(my_matrix))"
      ],
      "execution_count": 21,
      "outputs": [
        {
          "output_type": "stream",
          "name": "stdout",
          "text": [
            "array([[1, 2, 3],\n       [4, 5, 6]])\n"
          ]
        }
      ]
    },
    {
      "cell_type": "markdown",
      "metadata": {
        "id": "WkUIK3i4lsMS"
      },
      "source": [
        "Now, using shape will be more helpful - note that you couldn't get this shape with a Python list!"
      ]
    },
    {
      "cell_type": "code",
      "metadata": {
        "id": "qARpdnhelsMV",
        "colab": {
          "base_uri": "https://localhost:8080/",
          "height": 34
        },
        "outputId": "837db3dd-330e-4b50-8bae-bbf2c26200de"
      },
      "source": [
        "print(my_matrix.shape)"
      ],
      "execution_count": 22,
      "outputs": [
        {
          "output_type": "stream",
          "name": "stdout",
          "text": [
            "(2, 3)\n"
          ]
        }
      ]
    },
    {
      "cell_type": "markdown",
      "metadata": {
        "id": "cjt2c_ZnlsMh"
      },
      "source": [
        "We can access matrix elements using each of their indices in order. (All dimensions are 0-indexed)"
      ]
    },
    {
      "cell_type": "code",
      "metadata": {
        "id": "PQxw9AN_lsMk",
        "colab": {
          "base_uri": "https://localhost:8080/",
          "height": 34
        },
        "outputId": "9e617cb7-489e-4315-ee32-43c1742bf070"
      },
      "source": [
        "print(my_matrix[0,2]) # Get row 0, column 2. The order of these indices matches their respective maximums in shape."
      ],
      "execution_count": 23,
      "outputs": [
        {
          "output_type": "stream",
          "name": "stdout",
          "text": [
            "3\n"
          ]
        }
      ]
    },
    {
      "cell_type": "markdown",
      "metadata": {
        "id": "hXJwgdR9lsM0"
      },
      "source": [
        "We can still use slices, and negative indexing. Slicing a row or column from a matrix gives us a 1d array!"
      ]
    },
    {
      "cell_type": "code",
      "metadata": {
        "id": "ufOBsi-llsM5",
        "colab": {
          "base_uri": "https://localhost:8080/",
          "height": 68
        },
        "outputId": "89f05493-5361-438b-a0c7-587ffbf5a983"
      },
      "source": [
        "# Get row 0, all columns except the last one\n",
        "print(repr(my_matrix[0,:-1]))\n",
        "\n",
        "# Get columns 1 and 2.\n",
        "print(repr(my_matrix[:, 1:3]))"
      ],
      "execution_count": 24,
      "outputs": [
        {
          "output_type": "stream",
          "name": "stdout",
          "text": [
            "array([1, 2])\narray([[2, 3],\n       [5, 6]])\n"
          ]
        }
      ]
    },
    {
      "cell_type": "markdown",
      "metadata": {
        "id": "9uW_xhnqlsNM"
      },
      "source": [
        "We can also still index into this as an outer-array"
      ]
    },
    {
      "cell_type": "code",
      "metadata": {
        "id": "ovj7O-0mlsNP",
        "colab": {
          "base_uri": "https://localhost:8080/",
          "height": 34
        },
        "outputId": "986c7093-5995-4ac1-f8d9-92a564878ebe"
      },
      "source": [
        "# Gets the 0th element of the outer array - that's the 0th row!\n",
        "print(repr(my_matrix[0]))"
      ],
      "execution_count": 25,
      "outputs": [
        {
          "output_type": "stream",
          "name": "stdout",
          "text": [
            "array([1, 2, 3])\n"
          ]
        }
      ]
    },
    {
      "cell_type": "markdown",
      "metadata": {
        "id": "UIkyPTQtlsNd"
      },
      "source": [
        "**NOTE:** Matrices in numpy MUST be rectangular. Unlike nested Python lists, which can have the first list contain 1 element, and the second list contain 3 elements, in a numpy matrix, all rows have to have the same length. In other words, the matrix cannot be \"jagged\""
      ]
    },
    {
      "cell_type": "markdown",
      "metadata": {
        "id": "AdUEoK8PlsNh"
      },
      "source": [
        "Matrices, and other multi-dimensional arrays, are stored in \"row-major\" format - that is, elements of a row are stored next to each other. \n",
        "\n",
        "So, in this way, we can think of a multidimensional matrix as a single contiguous array, where shapes are just a human abstraction. Let's get this matrix as a 1d array."
      ]
    },
    {
      "cell_type": "code",
      "metadata": {
        "id": "WezpQGbUlsNq",
        "colab": {
          "base_uri": "https://localhost:8080/",
          "height": 34
        },
        "outputId": "356414de-1934-439c-f42c-5b06ffa8c5f5"
      },
      "source": [
        "print(my_matrix.ravel())"
      ],
      "execution_count": 26,
      "outputs": [
        {
          "output_type": "stream",
          "name": "stdout",
          "text": [
            "[1 2 3 4 5 6]\n"
          ]
        }
      ]
    },
    {
      "cell_type": "markdown",
      "metadata": {
        "id": "5Gu6uF9AlsOH"
      },
      "source": [
        "So, we can actually shape these 6 elements into whatever shape we want! This can be useful to create high dimensional arrays."
      ]
    },
    {
      "cell_type": "code",
      "metadata": {
        "id": "75xHCDVElsOL",
        "colab": {
          "base_uri": "https://localhost:8080/",
          "height": 68
        },
        "outputId": "9bf15e1f-fcf6-44d5-a2ba-1851f6323d3f"
      },
      "source": [
        "my_reshaped_matrix = my_matrix.reshape((3,2))\n",
        "my_reshaped_matrix"
      ],
      "execution_count": 27,
      "outputs": [
        {
          "output_type": "execute_result",
          "data": {
            "text/plain": [
              "array([[1, 2],\n",
              "       [3, 4],\n",
              "       [5, 6]])"
            ]
          },
          "metadata": {},
          "execution_count": 27
        }
      ]
    },
    {
      "cell_type": "markdown",
      "metadata": {
        "id": "kPGcM7iUlsOa"
      },
      "source": [
        "Unless you explicitly use `np.copy`, Reshapes and slices create *views* of your data - that is, they all reference the same data! So, since the variables are all aliases to the same data, changes to one will reflect in all the others! This is a double-edged sword that can boost your performance, but might catch you off guard."
      ]
    },
    {
      "cell_type": "code",
      "metadata": {
        "id": "FBF6eDCvlsOd",
        "colab": {
          "base_uri": "https://localhost:8080/",
          "height": 272
        },
        "outputId": "c6cd6611-a1fe-479c-955a-d59264b1788e"
      },
      "source": [
        "print(\"Original my_matrix\")\n",
        "print(repr(my_matrix))\n",
        "print(\"Original my_reshaped_matrix\")\n",
        "print(repr(my_reshaped_matrix))\n",
        "\n",
        "# Change an element\n",
        "print(\"===MAKING A CHANGE===\")\n",
        "my_matrix[0,0] = 100 - my_matrix[0, 0]\n",
        "\n",
        "print(\"New my_matrix\")\n",
        "print(repr(my_matrix))\n",
        "print(\"New my_reshaped_matrix\")\n",
        "print(repr(my_reshaped_matrix))"
      ],
      "execution_count": 28,
      "outputs": [
        {
          "output_type": "stream",
          "name": "stdout",
          "text": [
            "Original my_matrix\narray([[1, 2, 3],\n       [4, 5, 6]])\nOriginal my_reshaped_matrix\narray([[1, 2],\n       [3, 4],\n       [5, 6]])\n===MAKING A CHANGE===\nNew my_matrix\narray([[99,  2,  3],\n       [ 4,  5,  6]])\nNew my_reshaped_matrix\narray([[99,  2],\n       [ 3,  4],\n       [ 5,  6]])\n"
          ]
        }
      ]
    },
    {
      "cell_type": "markdown",
      "metadata": {
        "id": "pirJzx0ylsOt"
      },
      "source": [
        "### Try it yourself!\n",
        "\n",
        "You should now be able to do Exercise 1"
      ]
    },
    {
      "cell_type": "markdown",
      "metadata": {
        "id": "iax2QveulsOw"
      },
      "source": [
        "### The third dimension and beyond\n",
        "\n",
        "We were able to add a dimension to a 1d array to make a 2d matrix.\n",
        "In fact, numpy can handle even more dimensions! \n",
        "In computer vision, we often will use 3 dimensions worth of data (Height x Width x 3 colors)\n",
        "\n",
        "A \"matrix\" with 3 or more dimensions is called a *Tensor*.  \n",
        "Let's make a 2 x 3 x 4 tensor (2 stacked 3x4 matrices)"
      ]
    },
    {
      "cell_type": "code",
      "metadata": {
        "id": "G7X_1MEqlsO1",
        "colab": {
          "base_uri": "https://localhost:8080/",
          "height": 136
        },
        "outputId": "b8c679bc-9ea9-4b6b-e76e-6a8bf5533069"
      },
      "source": [
        "my_tensor = np.array(range(2*3*4)).reshape(2,3,4)\n",
        "print(my_tensor)"
      ],
      "execution_count": 29,
      "outputs": [
        {
          "output_type": "stream",
          "name": "stdout",
          "text": [
            "[[[ 0  1  2  3]\n  [ 4  5  6  7]\n  [ 8  9 10 11]]\n\n [[12 13 14 15]\n  [16 17 18 19]\n  [20 21 22 23]]]\n"
          ]
        }
      ]
    },
    {
      "cell_type": "markdown",
      "metadata": {
        "id": "jLAg8eaAlsO8"
      },
      "source": [
        "We can use a tensor like any matrix or array"
      ]
    },
    {
      "cell_type": "code",
      "metadata": {
        "id": "s4aNEjs1lsO9",
        "colab": {
          "base_uri": "https://localhost:8080/",
          "height": 34
        },
        "outputId": "982f38c6-306e-40a5-9306-165c55a87390"
      },
      "source": [
        "# Get the 0th matrix slice, the 1st row of that matrix, and the 2nd column of that row\n",
        "print(my_tensor[0,1,2])"
      ],
      "execution_count": 30,
      "outputs": [
        {
          "output_type": "stream",
          "name": "stdout",
          "text": [
            "6\n"
          ]
        }
      ]
    },
    {
      "cell_type": "markdown",
      "metadata": {
        "id": "j1Rz7PmnlsPF"
      },
      "source": [
        "### Array Creation\n",
        "Numpy also provides several convenience functions to help you make make empty ndarrays"
      ]
    },
    {
      "cell_type": "code",
      "metadata": {
        "id": "KGixnygUlsPI"
      },
      "source": [
        "desired_shape = (2,3)"
      ],
      "execution_count": 31,
      "outputs": []
    },
    {
      "cell_type": "markdown",
      "metadata": {
        "id": "K2aU2SuRlsPN"
      },
      "source": [
        "Some useful ones:\n",
        "- zeros: Creates an array filled with zeros\n",
        "- ones: An array of ones\n",
        "- eye: The identity matrix I (needs 1 integer for square size)\n",
        "- full: Fills with an element\n",
        "- np.random.random: Random between 0 and 1\n",
        "- np.random.randn: Random normal"
      ]
    },
    {
      "cell_type": "code",
      "metadata": {
        "id": "0tj2E41OlsPP",
        "colab": {
          "base_uri": "https://localhost:8080/",
          "height": 289
        },
        "outputId": "33938ec8-f1fa-4fb5-ecd9-cdb1cc8d3c83"
      },
      "source": [
        "print(repr(  np.zeros(desired_shape)          ),end=\"\\n\\n\")\n",
        "print(repr(  np.ones(desired_shape)           ),end=\"\\n\\n\")\n",
        "print(repr(  np.eye(3)                        ),end=\"\\n\\n\")\n",
        "print(repr(  np.full(desired_shape, 7)        ),end=\"\\n\\n\")\n",
        "print(repr(  np.random.random(desired_shape)  ),end=\"\\n\\n\")"
      ],
      "execution_count": 32,
      "outputs": [
        {
          "output_type": "stream",
          "name": "stdout",
          "text": [
            "array([[0., 0., 0.],\n       [0., 0., 0.]])\n\narray([[1., 1., 1.],\n       [1., 1., 1.]])\n\narray([[1., 0., 0.],\n       [0., 1., 0.],\n       [0., 0., 1.]])\n\narray([[7, 7, 7],\n       [7, 7, 7]])\n\narray([[0.94826107, 0.26453807, 0.01794258],\n       [0.79722434, 0.79151863, 0.81929117]])\n\n"
          ]
        }
      ]
    },
    {
      "cell_type": "markdown",
      "metadata": {
        "id": "p-k3yNZRlsPW"
      },
      "source": [
        "They are float32's by default, but we can also choose the datatype of the created array"
      ]
    },
    {
      "cell_type": "code",
      "metadata": {
        "id": "xDo_j0_elsPY",
        "colab": {
          "base_uri": "https://localhost:8080/",
          "height": 68
        },
        "outputId": "5e49d2cd-d2b5-477e-b4c2-5b9131a62422"
      },
      "source": [
        "np.eye(3, dtype=np.int)"
      ],
      "execution_count": 33,
      "outputs": [
        {
          "output_type": "execute_result",
          "data": {
            "text/plain": [
              "array([[1, 0, 0],\n",
              "       [0, 1, 0],\n",
              "       [0, 0, 1]])"
            ]
          },
          "metadata": {},
          "execution_count": 33
        }
      ]
    },
    {
      "cell_type": "markdown",
      "metadata": {
        "id": "cglN-VeGlsPd"
      },
      "source": [
        "## Array Indexing"
      ]
    },
    {
      "cell_type": "markdown",
      "metadata": {
        "id": "6MKuMsnblsPj"
      },
      "source": [
        "We've already done a lot of indexing into arrays above, but let's look at some more details"
      ]
    },
    {
      "cell_type": "code",
      "metadata": {
        "id": "XiCgaCR9lsPk",
        "colab": {
          "base_uri": "https://localhost:8080/",
          "height": 136
        },
        "outputId": "86621c3a-ae4d-47de-8289-704d977e8083"
      },
      "source": [
        "my_tensor = np.array(range(2*3*4)).reshape(2,3,4).astype(np.int)\n",
        "my_tensor"
      ],
      "execution_count": 34,
      "outputs": [
        {
          "output_type": "execute_result",
          "data": {
            "text/plain": [
              "array([[[ 0,  1,  2,  3],\n",
              "        [ 4,  5,  6,  7],\n",
              "        [ 8,  9, 10, 11]],\n",
              "\n",
              "       [[12, 13, 14, 15],\n",
              "        [16, 17, 18, 19],\n",
              "        [20, 21, 22, 23]]])"
            ]
          },
          "metadata": {},
          "execution_count": 34
        }
      ]
    },
    {
      "cell_type": "markdown",
      "metadata": {
        "id": "ZCGNxWnVlsPu"
      },
      "source": [
        "### Getting Elements\n",
        "We can get elements by fully specifying the index"
      ]
    },
    {
      "cell_type": "code",
      "metadata": {
        "id": "q1MNo2yWlsPw",
        "colab": {
          "base_uri": "https://localhost:8080/",
          "height": 34
        },
        "outputId": "43c64498-a6eb-4ff7-a89a-44dd98c828a5"
      },
      "source": [
        "my_tensor[0,1,2]"
      ],
      "execution_count": 35,
      "outputs": [
        {
          "output_type": "execute_result",
          "data": {
            "text/plain": [
              "6"
            ]
          },
          "metadata": {},
          "execution_count": 35
        }
      ]
    },
    {
      "cell_type": "markdown",
      "metadata": {
        "id": "U2zellPGlsP1"
      },
      "source": [
        "If we partially specify the index (in order), since this is a list-of-lists, basically, we'll get \"rows\" (or matrices, if taking parts of a tensor"
      ]
    },
    {
      "cell_type": "code",
      "metadata": {
        "id": "cb9PtRoclsP3",
        "colab": {
          "base_uri": "https://localhost:8080/",
          "height": 68
        },
        "outputId": "9e12c208-60cc-47f1-cbd8-65c1d24c6dea"
      },
      "source": [
        "my_tensor[0]"
      ],
      "execution_count": 36,
      "outputs": [
        {
          "output_type": "execute_result",
          "data": {
            "text/plain": [
              "array([[ 0,  1,  2,  3],\n",
              "       [ 4,  5,  6,  7],\n",
              "       [ 8,  9, 10, 11]])"
            ]
          },
          "metadata": {},
          "execution_count": 36
        }
      ]
    },
    {
      "cell_type": "code",
      "metadata": {
        "id": "e7bFnquClsP8",
        "colab": {
          "base_uri": "https://localhost:8080/",
          "height": 34
        },
        "outputId": "ff1e088d-57b1-406b-fbf4-0895636103be"
      },
      "source": [
        "my_tensor[0, 0]"
      ],
      "execution_count": 37,
      "outputs": [
        {
          "output_type": "execute_result",
          "data": {
            "text/plain": [
              "array([0, 1, 2, 3])"
            ]
          },
          "metadata": {},
          "execution_count": 37
        }
      ]
    },
    {
      "cell_type": "markdown",
      "metadata": {
        "id": "uo0r2zUYlsQH"
      },
      "source": [
        "By this logic, we can also keep adding square brackets (get the matrix, then the row, then the column)."
      ]
    },
    {
      "cell_type": "code",
      "metadata": {
        "id": "mmxBD63HlsQL",
        "colab": {
          "base_uri": "https://localhost:8080/",
          "height": 34
        },
        "outputId": "2e2cbce6-508e-492d-ccb9-bc85e39d38bc"
      },
      "source": [
        "my_tensor[0][0]"
      ],
      "execution_count": 38,
      "outputs": [
        {
          "output_type": "execute_result",
          "data": {
            "text/plain": [
              "array([0, 1, 2, 3])"
            ]
          },
          "metadata": {},
          "execution_count": 38
        }
      ]
    },
    {
      "cell_type": "markdown",
      "metadata": {
        "id": "cnu9vSm2lsQW"
      },
      "source": [
        "We can also use standard slice notation. Again, we don't have to specify all the dimensions"
      ]
    },
    {
      "cell_type": "code",
      "metadata": {
        "id": "2l4uM8talsQY",
        "colab": {
          "base_uri": "https://localhost:8080/",
          "height": 51
        },
        "outputId": "7a593a47-8b1d-43fd-9b82-675faf2e80d9"
      },
      "source": [
        "my_tensor[0, 0:2]"
      ],
      "execution_count": 39,
      "outputs": [
        {
          "output_type": "execute_result",
          "data": {
            "text/plain": [
              "array([[0, 1, 2, 3],\n",
              "       [4, 5, 6, 7]])"
            ]
          },
          "metadata": {},
          "execution_count": 39
        }
      ]
    },
    {
      "cell_type": "markdown",
      "metadata": {
        "id": "sNcr8ZiulsQd"
      },
      "source": [
        "### Setting elements\n",
        "\n",
        "We can set elements that we index to"
      ]
    },
    {
      "cell_type": "code",
      "metadata": {
        "id": "HGVgxGdClsQf",
        "colab": {
          "base_uri": "https://localhost:8080/",
          "height": 136
        },
        "outputId": "2795714f-7f99-4a2c-fea8-287240f572f1"
      },
      "source": [
        "my_tensor[0, 0, 0] = 100\n",
        "my_tensor"
      ],
      "execution_count": 40,
      "outputs": [
        {
          "output_type": "execute_result",
          "data": {
            "text/plain": [
              "array([[[100,   1,   2,   3],\n",
              "        [  4,   5,   6,   7],\n",
              "        [  8,   9,  10,  11]],\n",
              "\n",
              "       [[ 12,  13,  14,  15],\n",
              "        [ 16,  17,  18,  19],\n",
              "        [ 20,  21,  22,  23]]])"
            ]
          },
          "metadata": {},
          "execution_count": 40
        }
      ]
    },
    {
      "cell_type": "markdown",
      "metadata": {
        "id": "Gi-LHTp_lsQm"
      },
      "source": [
        "We can also set blocks / slices that we index into, as long as the shapes match!"
      ]
    },
    {
      "cell_type": "code",
      "metadata": {
        "id": "3a7_ftSqlsQo",
        "colab": {
          "base_uri": "https://localhost:8080/",
          "height": 51
        },
        "outputId": "358f1230-866d-415f-8a09-3401f674bdb1"
      },
      "source": [
        "# Get the 0th matrix slice. Rows 1 and 2. Get every other column starting from 0\n",
        "my_tensor[0,1:3,0::2]"
      ],
      "execution_count": 41,
      "outputs": [
        {
          "output_type": "execute_result",
          "data": {
            "text/plain": [
              "array([[ 4,  6],\n",
              "       [ 8, 10]])"
            ]
          },
          "metadata": {},
          "execution_count": 41
        }
      ]
    },
    {
      "cell_type": "code",
      "metadata": {
        "id": "nHPPR42nlsQt",
        "colab": {
          "base_uri": "https://localhost:8080/",
          "height": 51
        },
        "outputId": "e9baf020-43a4-4d93-d2d6-42fd2c2bd602"
      },
      "source": [
        "replacement = (np.eye(2, dtype=np.int) + 2) * 100\n",
        "replacement"
      ],
      "execution_count": 42,
      "outputs": [
        {
          "output_type": "execute_result",
          "data": {
            "text/plain": [
              "array([[300, 200],\n",
              "       [200, 300]])"
            ]
          },
          "metadata": {},
          "execution_count": 42
        }
      ]
    },
    {
      "cell_type": "code",
      "metadata": {
        "id": "ENDMmY3WlsQ0",
        "colab": {
          "base_uri": "https://localhost:8080/",
          "height": 136
        },
        "outputId": "c71c45f4-ee81-4411-f499-3cd210d227bb"
      },
      "source": [
        "my_tensor[0, 1:3, 0::2] = replacement\n",
        "my_tensor"
      ],
      "execution_count": 43,
      "outputs": [
        {
          "output_type": "execute_result",
          "data": {
            "text/plain": [
              "array([[[100,   1,   2,   3],\n",
              "        [300,   5, 200,   7],\n",
              "        [200,   9, 300,  11]],\n",
              "\n",
              "       [[ 12,  13,  14,  15],\n",
              "        [ 16,  17,  18,  19],\n",
              "        [ 20,  21,  22,  23]]])"
            ]
          },
          "metadata": {},
          "execution_count": 43
        }
      ]
    },
    {
      "cell_type": "markdown",
      "metadata": {
        "id": "LTABPyeIlsQ8"
      },
      "source": [
        "### Using Boolean and Integer Arrays as indices\n",
        "\n",
        "What if we want some sort of permutation of the tensor, that's not easy to express in slice notation?\n",
        "\n",
        "We can index into an array using an array of integers!\n",
        "\n",
        "Let's test this out on a small array first.\n"
      ]
    },
    {
      "cell_type": "code",
      "metadata": {
        "id": "I9Wunm3ilsRE",
        "colab": {
          "base_uri": "https://localhost:8080/",
          "height": 34
        },
        "outputId": "0f547046-eae4-475d-accd-3b998048a1d4"
      },
      "source": [
        "my_array = np.array(range(5)) * 10 + 3\n",
        "my_array"
      ],
      "execution_count": 44,
      "outputs": [
        {
          "output_type": "execute_result",
          "data": {
            "text/plain": [
              "array([ 3, 13, 23, 33, 43])"
            ]
          },
          "metadata": {},
          "execution_count": 44
        }
      ]
    },
    {
      "cell_type": "code",
      "metadata": {
        "id": "7Sv0NxJ8lsRM",
        "colab": {
          "base_uri": "https://localhost:8080/",
          "height": 34
        },
        "outputId": "e2d1723e-ff8f-4b90-c25d-f9beeadf89a2"
      },
      "source": [
        "# We want the elements in this order\n",
        "array_of_indices = np.array([4,1,3,0,2])\n",
        "array_of_indices"
      ],
      "execution_count": 45,
      "outputs": [
        {
          "output_type": "execute_result",
          "data": {
            "text/plain": [
              "array([4, 1, 3, 0, 2])"
            ]
          },
          "metadata": {},
          "execution_count": 45
        }
      ]
    },
    {
      "cell_type": "markdown",
      "metadata": {
        "id": "RWPj6Jx9lsRR"
      },
      "source": [
        "Let's index into our array with our index-array!"
      ]
    },
    {
      "cell_type": "code",
      "metadata": {
        "id": "O34Fauc7lsRS",
        "colab": {
          "base_uri": "https://localhost:8080/",
          "height": 34
        },
        "outputId": "83914431-49c3-4f42-98f3-addd761c3642"
      },
      "source": [
        "my_array[array_of_indices]"
      ],
      "execution_count": 46,
      "outputs": [
        {
          "output_type": "execute_result",
          "data": {
            "text/plain": [
              "array([43, 13, 33,  3, 23])"
            ]
          },
          "metadata": {},
          "execution_count": 46
        }
      ]
    },
    {
      "cell_type": "markdown",
      "metadata": {
        "id": "_hKOdDO7lsRX"
      },
      "source": [
        "The shape of the output is determined by the index-array. We can use this to make complicated shapes, repeat elements, or exclude elements!"
      ]
    },
    {
      "cell_type": "code",
      "metadata": {
        "id": "DyIvHAPhlsRZ",
        "colab": {
          "base_uri": "https://localhost:8080/",
          "height": 68
        },
        "outputId": "c106eaa7-5863-4b5b-ebd7-0c31a1308e2e"
      },
      "source": [
        "# Make a selector array\n",
        "selector = (np.random.random((3,4)) * len(my_array)).astype(np.int)\n",
        "selector"
      ],
      "execution_count": 47,
      "outputs": [
        {
          "output_type": "execute_result",
          "data": {
            "text/plain": [
              "array([[4, 2, 4, 4],\n",
              "       [2, 1, 2, 4],\n",
              "       [4, 0, 3, 1]])"
            ]
          },
          "metadata": {},
          "execution_count": 47
        }
      ]
    },
    {
      "cell_type": "code",
      "metadata": {
        "id": "ncub78F9lsRo",
        "colab": {
          "base_uri": "https://localhost:8080/",
          "height": 68
        },
        "outputId": "c38ed517-a3e3-42e4-f06e-343d513d3015"
      },
      "source": [
        "# Now, we can use these to get elements from our original array!\n",
        "my_array[selector]"
      ],
      "execution_count": 48,
      "outputs": [
        {
          "output_type": "execute_result",
          "data": {
            "text/plain": [
              "array([[43, 23, 43, 43],\n",
              "       [23, 13, 23, 43],\n",
              "       [43,  3, 33, 13]])"
            ]
          },
          "metadata": {},
          "execution_count": 48
        }
      ]
    },
    {
      "cell_type": "markdown",
      "metadata": {
        "id": "uXxyPFaNlsRy"
      },
      "source": [
        "We can also use boolean arrays (masks) of the same size as the input, to get a part of the output!"
      ]
    },
    {
      "cell_type": "code",
      "metadata": {
        "id": "3RTyoSWglsR1",
        "colab": {
          "base_uri": "https://localhost:8080/",
          "height": 34
        },
        "outputId": "4ecc7faf-7b67-4c57-b570-a66d8431a76c"
      },
      "source": [
        "my_mask = np.array([1, 0, 0, 1, 1], dtype=np.bool)\n",
        "my_mask"
      ],
      "execution_count": 49,
      "outputs": [
        {
          "output_type": "execute_result",
          "data": {
            "text/plain": [
              "array([ True, False, False,  True,  True])"
            ]
          },
          "metadata": {},
          "execution_count": 49
        }
      ]
    },
    {
      "cell_type": "code",
      "metadata": {
        "id": "sfz7P2zhlsR7",
        "colab": {
          "base_uri": "https://localhost:8080/",
          "height": 85
        },
        "outputId": "aae94233-fb08-4d31-91dc-cad9ac10cb05"
      },
      "source": [
        "print(\"Original\")\n",
        "print(repr(my_array))\n",
        "print(\"Masked with\",repr(my_mask))\n",
        "print(repr(my_array[my_mask]))"
      ],
      "execution_count": 50,
      "outputs": [
        {
          "output_type": "stream",
          "name": "stdout",
          "text": [
            "Original\narray([ 3, 13, 23, 33, 43])\nMasked with array([ True, False, False,  True,  True])\narray([ 3, 33, 43])\n"
          ]
        }
      ]
    },
    {
      "cell_type": "markdown",
      "metadata": {
        "id": "hF-Sh9z8lsSC"
      },
      "source": [
        "This is indexing - so we can also SET elements like this!"
      ]
    },
    {
      "cell_type": "code",
      "metadata": {
        "id": "Lkq7xsL4lsSD",
        "colab": {
          "base_uri": "https://localhost:8080/",
          "height": 51
        },
        "outputId": "70a6a6d7-8428-40a2-9533-f1b42698abf8"
      },
      "source": [
        "print(repr(my_array))\n",
        "replacement = np.array([600, 700, 800])\n",
        "my_array[my_mask] = replacement\n",
        "print(repr(my_array))"
      ],
      "execution_count": 51,
      "outputs": [
        {
          "output_type": "stream",
          "name": "stdout",
          "text": [
            "array([ 3, 13, 23, 33, 43])\narray([600,  13,  23, 700, 800])\n"
          ]
        }
      ]
    },
    {
      "cell_type": "markdown",
      "metadata": {
        "id": "f4pYwWZUlsSJ"
      },
      "source": [
        "The `<` and `>` operators return masks - so you can use these to mask the original array, or even other arrays!"
      ]
    },
    {
      "cell_type": "code",
      "metadata": {
        "id": "AM26CBJilsSK",
        "colab": {
          "base_uri": "https://localhost:8080/",
          "height": 34
        },
        "outputId": "2713fb53-dff9-411d-e3f3-e00152f6820e"
      },
      "source": [
        "my_array > 20"
      ],
      "execution_count": 52,
      "outputs": [
        {
          "output_type": "execute_result",
          "data": {
            "text/plain": [
              "array([ True, False,  True,  True,  True])"
            ]
          },
          "metadata": {},
          "execution_count": 52
        }
      ]
    },
    {
      "cell_type": "code",
      "metadata": {
        "id": "l67F-Z5klsSU",
        "colab": {
          "base_uri": "https://localhost:8080/",
          "height": 34
        },
        "outputId": "0b060b4f-bcf3-4697-c4e4-aea89f2d97bd"
      },
      "source": [
        "my_array[my_array > 20]"
      ],
      "execution_count": 53,
      "outputs": [
        {
          "output_type": "execute_result",
          "data": {
            "text/plain": [
              "array([600,  23, 700, 800])"
            ]
          },
          "metadata": {},
          "execution_count": 53
        }
      ]
    },
    {
      "cell_type": "markdown",
      "metadata": {
        "id": "68P4RBS3lsSZ"
      },
      "source": [
        "These concepts all hold in multiple dimensions as well"
      ]
    },
    {
      "cell_type": "markdown",
      "metadata": {
        "id": "wn4EUsu3lsSa"
      },
      "source": [
        "### Elementwise- and Matrix Math\n",
        "\n",
        "Indexing and creating arrays is cool, but the real power of Numpy is doing math using those arrays."
      ]
    },
    {
      "cell_type": "markdown",
      "metadata": {
        "id": "K2qjvNr7lsSb"
      },
      "source": [
        "The basic mathematical operators (+, -, /, \\*, %) are treated as \"elementwise\" operators - they do something with each element. Which operands are used depends on a concept called \"broadcasting\". In practice - if you have two ndarrays of the same shape, then the operands will be corresponding elements in each ndarray. Otherwise, if possible, the smaller ndarray/scalar is repeated to be the same size as the larger array."
      ]
    },
    {
      "cell_type": "code",
      "metadata": {
        "id": "xKbDvKXflsSd",
        "colab": {
          "base_uri": "https://localhost:8080/",
          "height": 85
        },
        "outputId": "aa1a73d8-44d4-4035-f662-13d6603d3fe0"
      },
      "source": [
        "a = np.array(range(10)).reshape(2,5)\n",
        "b = np.array(range(100,1100,100)).reshape(2,5)\n",
        "print(\"a =\",repr(  a  ))\n",
        "print(\"b =\",repr(  b  ))"
      ],
      "execution_count": 54,
      "outputs": [
        {
          "output_type": "stream",
          "name": "stdout",
          "text": [
            "a = array([[0, 1, 2, 3, 4],\n       [5, 6, 7, 8, 9]])\nb = array([[ 100,  200,  300,  400,  500],\n       [ 600,  700,  800,  900, 1000]])\n"
          ]
        }
      ]
    },
    {
      "cell_type": "markdown",
      "metadata": {
        "id": "WUc4W7zXlsSi"
      },
      "source": [
        "Operate on corresponding elements of a and b"
      ]
    },
    {
      "cell_type": "code",
      "metadata": {
        "id": "l5sbCnHUlsSj",
        "colab": {
          "base_uri": "https://localhost:8080/",
          "height": 51
        },
        "outputId": "7f98f9c4-85af-42c3-9fc8-9384e91e3d45"
      },
      "source": [
        "a + b"
      ],
      "execution_count": 55,
      "outputs": [
        {
          "output_type": "execute_result",
          "data": {
            "text/plain": [
              "array([[ 100,  201,  302,  403,  504],\n",
              "       [ 605,  706,  807,  908, 1009]])"
            ]
          },
          "metadata": {},
          "execution_count": 55
        }
      ]
    },
    {
      "cell_type": "code",
      "metadata": {
        "id": "XrfLmt_3lsSp",
        "colab": {
          "base_uri": "https://localhost:8080/",
          "height": 51
        },
        "outputId": "a3f6f228-e0d1-44c0-aa63-e85938f4d858"
      },
      "source": [
        "a * b"
      ],
      "execution_count": 56,
      "outputs": [
        {
          "output_type": "execute_result",
          "data": {
            "text/plain": [
              "array([[   0,  200,  600, 1200, 2000],\n",
              "       [3000, 4200, 5600, 7200, 9000]])"
            ]
          },
          "metadata": {},
          "execution_count": 56
        }
      ]
    },
    {
      "cell_type": "markdown",
      "metadata": {
        "id": "LHzMZue0lsSt"
      },
      "source": [
        "We can also use scalars as operands, which will be \"broadcast\" to every element."
      ]
    },
    {
      "cell_type": "code",
      "metadata": {
        "id": "uMMQc84dlsSv",
        "colab": {
          "base_uri": "https://localhost:8080/",
          "height": 51
        },
        "outputId": "916e9d74-dc5b-4426-f0a0-12d3551f6d94"
      },
      "source": [
        "a * 2"
      ],
      "execution_count": 57,
      "outputs": [
        {
          "output_type": "execute_result",
          "data": {
            "text/plain": [
              "array([[ 0,  2,  4,  6,  8],\n",
              "       [10, 12, 14, 16, 18]])"
            ]
          },
          "metadata": {},
          "execution_count": 57
        }
      ]
    },
    {
      "cell_type": "code",
      "metadata": {
        "id": "JHbA-iQ5lsSz",
        "colab": {
          "base_uri": "https://localhost:8080/",
          "height": 51
        },
        "outputId": "d527d828-8e79-45f6-b4a1-5b20c60e2ae4"
      },
      "source": [
        "b % 3"
      ],
      "execution_count": 58,
      "outputs": [
        {
          "output_type": "execute_result",
          "data": {
            "text/plain": [
              "array([[1, 2, 0, 1, 2],\n",
              "       [0, 1, 2, 0, 1]], dtype=int32)"
            ]
          },
          "metadata": {},
          "execution_count": 58
        }
      ]
    },
    {
      "cell_type": "markdown",
      "metadata": {
        "id": "B6JGm6tnlsS3"
      },
      "source": [
        "### Matrix Math\n",
        "\n",
        "We can also do more complex math, that accounts for the shape of inputs. For example, matrix multiplication!"
      ]
    },
    {
      "cell_type": "code",
      "metadata": {
        "id": "UG2MAb6ylsS4",
        "colab": {
          "base_uri": "https://localhost:8080/",
          "height": 102
        },
        "outputId": "d7844088-13f1-451c-d616-6cadab1b4e1f"
      },
      "source": [
        "A = np.array( range(6) ). reshape((3,2))\n",
        "B = np.array( range(10,16) ). reshape((2,3))\n",
        "\n",
        "print(\"A =\", repr(A))\n",
        "print(\"B =\", repr(B))"
      ],
      "execution_count": 59,
      "outputs": [
        {
          "output_type": "stream",
          "name": "stdout",
          "text": [
            "A = array([[0, 1],\n       [2, 3],\n       [4, 5]])\nB = array([[10, 11, 12],\n       [13, 14, 15]])\n"
          ]
        }
      ]
    },
    {
      "cell_type": "code",
      "metadata": {
        "id": "ZnqwCBZtlsS_",
        "colab": {
          "base_uri": "https://localhost:8080/",
          "height": 68
        },
        "outputId": "2c4342a9-5f6e-49de-f782-02585b7592e2"
      },
      "source": [
        "np.matmul(A, B)"
      ],
      "execution_count": 60,
      "outputs": [
        {
          "output_type": "execute_result",
          "data": {
            "text/plain": [
              "array([[ 13,  14,  15],\n",
              "       [ 59,  64,  69],\n",
              "       [105, 114, 123]])"
            ]
          },
          "metadata": {},
          "execution_count": 60
        }
      ]
    },
    {
      "cell_type": "markdown",
      "metadata": {
        "id": "FTmJT3qLlsTD"
      },
      "source": [
        "Here we have multiplied a (3 x 2) matrix by a (2 x 3) matrix to get a (3 x 3). We can get a different result by multiplying the other way. (Attempting an invalid multiplication"
      ]
    },
    {
      "cell_type": "code",
      "metadata": {
        "id": "lsZUzJK7lsTE",
        "colab": {
          "base_uri": "https://localhost:8080/",
          "height": 51
        },
        "outputId": "e2ecfc84-fa33-4ee6-b68c-799f47dca9ae"
      },
      "source": [
        "np.matmul(B,A)"
      ],
      "execution_count": 61,
      "outputs": [
        {
          "output_type": "execute_result",
          "data": {
            "text/plain": [
              "array([[ 70, 103],\n",
              "       [ 88, 130]])"
            ]
          },
          "metadata": {},
          "execution_count": 61
        }
      ]
    },
    {
      "cell_type": "markdown",
      "metadata": {
        "id": "M1vkrea_lsTH"
      },
      "source": [
        "You can also use the `@` operator for matrix multiplication"
      ]
    },
    {
      "cell_type": "code",
      "metadata": {
        "id": "EnEXc8vulsTH",
        "colab": {
          "base_uri": "https://localhost:8080/",
          "height": 51
        },
        "outputId": "5e1c3c0e-43f0-489d-cc8b-b9bb73871f57"
      },
      "source": [
        "B @ A"
      ],
      "execution_count": 62,
      "outputs": [
        {
          "output_type": "execute_result",
          "data": {
            "text/plain": [
              "array([[ 70, 103],\n",
              "       [ 88, 130]])"
            ]
          },
          "metadata": {},
          "execution_count": 62
        }
      ]
    },
    {
      "cell_type": "markdown",
      "metadata": {
        "id": "f9s_XiIKlsTK"
      },
      "source": [
        "Some other useful operations:\n",
        "- Transpose: In fact, this is done so often there is a property `.T` of any matrix that computes the transpose\n",
        "- Inverse: In the linalg submodule (`numpy.linalg.inv`)\n",
        "\n",
        "Many other useful operators exist in numpy!\n"
      ]
    },
    {
      "cell_type": "code",
      "metadata": {
        "id": "RfV3qnjDlsTM",
        "colab": {
          "base_uri": "https://localhost:8080/",
          "height": 85
        },
        "outputId": "753b720b-e13c-4ef7-c680-d522a4662808"
      },
      "source": [
        "# Some arbitrary matrix, maybe representing a system of equations\n",
        "A = np.array([\n",
        "    [3, 2, 1],\n",
        "    [4, 8, 2],\n",
        "    [1, 2, 3]\n",
        "])\n",
        "print(\"shape\", A.shape)\n",
        "print(repr(A))"
      ],
      "execution_count": 63,
      "outputs": [
        {
          "output_type": "stream",
          "name": "stdout",
          "text": [
            "shape (3, 3)\narray([[3, 2, 1],\n       [4, 8, 2],\n       [1, 2, 3]])\n"
          ]
        }
      ]
    },
    {
      "cell_type": "code",
      "metadata": {
        "id": "ste9G-a2lsTT",
        "colab": {
          "base_uri": "https://localhost:8080/",
          "height": 85
        },
        "outputId": "4f21aaef-738e-4435-bb9c-0f6f5d34f5e7"
      },
      "source": [
        "print(\"Transpose:\\n\", repr(A.T))"
      ],
      "execution_count": 64,
      "outputs": [
        {
          "output_type": "stream",
          "name": "stdout",
          "text": [
            "Transpose:\n array([[3, 4, 1],\n       [2, 8, 2],\n       [1, 2, 3]])\n"
          ]
        }
      ]
    },
    {
      "cell_type": "code",
      "metadata": {
        "id": "4MJiizuelsTV",
        "colab": {
          "base_uri": "https://localhost:8080/",
          "height": 85
        },
        "outputId": "aae961e2-016c-4714-cff4-e7a06d044f1b"
      },
      "source": [
        "A_inv = np.linalg.inv(A)\n",
        "print(\"Inverse:\", repr(A_inv), sep=\"\\n\")"
      ],
      "execution_count": 65,
      "outputs": [
        {
          "output_type": "stream",
          "name": "stdout",
          "text": [
            "Inverse:\narray([[ 0.5 , -0.1 , -0.1 ],\n       [-0.25,  0.2 , -0.05],\n       [ 0.  , -0.1 ,  0.4 ]])\n"
          ]
        }
      ]
    },
    {
      "cell_type": "markdown",
      "metadata": {
        "id": "z7-Sjw8JlsTZ"
      },
      "source": [
        "We expect that multiplying the inverse should yield the identity"
      ]
    },
    {
      "cell_type": "code",
      "metadata": {
        "id": "ADTlhhyClsTZ",
        "colab": {
          "base_uri": "https://localhost:8080/",
          "height": 68
        },
        "outputId": "0d906a74-5182-49f7-cd48-736a3daaba76"
      },
      "source": [
        "maybe_identity = np.matmul(A_inv, A)\n",
        "maybe_identity"
      ],
      "execution_count": 66,
      "outputs": [
        {
          "output_type": "execute_result",
          "data": {
            "text/plain": [
              "array([[ 1.00000000e+00, -2.77555756e-16, -1.11022302e-16],\n",
              "       [ 4.16333634e-17,  1.00000000e+00,  0.00000000e+00],\n",
              "       [ 0.00000000e+00,  0.00000000e+00,  1.00000000e+00]])"
            ]
          },
          "metadata": {},
          "execution_count": 66
        }
      ]
    },
    {
      "cell_type": "markdown",
      "metadata": {
        "id": "1gQyebtklsTd"
      },
      "source": [
        "Since we're doing arithmetic with floats, we have small floating point errors. Let's use the elementwise `np.round`"
      ]
    },
    {
      "cell_type": "code",
      "metadata": {
        "id": "aofXjCn-lsTe",
        "colab": {
          "base_uri": "https://localhost:8080/",
          "height": 68
        },
        "outputId": "6e6dacb0-8093-4b08-d24e-416ddecd9320"
      },
      "source": [
        "np.round(maybe_identity)"
      ],
      "execution_count": 67,
      "outputs": [
        {
          "output_type": "execute_result",
          "data": {
            "text/plain": [
              "array([[ 1., -0., -0.],\n",
              "       [ 0.,  1.,  0.],\n",
              "       [ 0.,  0.,  1.]])"
            ]
          },
          "metadata": {},
          "execution_count": 67
        }
      ]
    },
    {
      "cell_type": "markdown",
      "metadata": {
        "id": "7-4In7ZklsTi"
      },
      "source": [
        "### Other Useful Functions"
      ]
    },
    {
      "cell_type": "markdown",
      "metadata": {
        "id": "2vQjTdJIlsTj"
      },
      "source": [
        "Other functions in Numpy that are useful:\n",
        "- sum: Adds all elements of an ndarray, or sums along a given dimension (\"axis\")\n",
        "- stack: joins two arrays in a new dimension\n",
        "- concatenate: joins two arrays in an existing dimension"
      ]
    },
    {
      "cell_type": "code",
      "metadata": {
        "id": "P5l--J5nlsTk",
        "colab": {
          "base_uri": "https://localhost:8080/",
          "height": 51
        },
        "outputId": "dcef4e75-a031-4857-f49e-17d36b81aad9"
      },
      "source": [
        "A = np.array(range(10)).reshape(2,5)\n",
        "A"
      ],
      "execution_count": 68,
      "outputs": [
        {
          "output_type": "execute_result",
          "data": {
            "text/plain": [
              "array([[0, 1, 2, 3, 4],\n",
              "       [5, 6, 7, 8, 9]])"
            ]
          },
          "metadata": {},
          "execution_count": 68
        }
      ]
    },
    {
      "cell_type": "code",
      "metadata": {
        "id": "4TBnwn6olsTm",
        "colab": {
          "base_uri": "https://localhost:8080/",
          "height": 136
        },
        "outputId": "de5dc715-10db-4287-addc-496206c41847"
      },
      "source": [
        "print(\"A's Shape is\", A.shape)\n",
        "col_sum = np.sum(A, axis = 0)\n",
        "row_sum = np.sum(A, axis = 1)\n",
        "total_sum = np.sum(A)\n",
        "print(\"Row sums (shape: %s) - sum all values on axis 1 (along the column)\" % str(row_sum.shape))\n",
        "print(repr(row_sum))\n",
        "print(\"Col sums (shape: %s) - sum all values on axis 0 (along the row)\" % str(col_sum.shape))\n",
        "print(repr(col_sum))\n",
        "print(\"Full array sum (scalar)\")\n",
        "print(repr(total_sum))"
      ],
      "execution_count": 69,
      "outputs": [
        {
          "output_type": "stream",
          "name": "stdout",
          "text": [
            "A's Shape is (2, 5)\nRow sums (shape: (2,)) - sum all values on axis 1 (along the column)\narray([10, 35])\nCol sums (shape: (5,)) - sum all values on axis 0 (along the row)\narray([ 5,  7,  9, 11, 13])\nFull array sum (scalar)\n45\n"
          ]
        }
      ]
    },
    {
      "cell_type": "markdown",
      "metadata": {
        "id": "qDOGS3dOlsTo"
      },
      "source": [
        "**Stacking Arrays**"
      ]
    },
    {
      "cell_type": "code",
      "metadata": {
        "id": "3eoEBIkBlsTo",
        "colab": {
          "base_uri": "https://localhost:8080/",
          "height": 119
        },
        "outputId": "bda566c7-62a8-4b34-e06c-dfe82f38467b"
      },
      "source": [
        "A = np.array((range(10))).reshape(2,5)\n",
        "B = np.array((range(10,20))).reshape(2,5)\n",
        "print(\"A=\",repr(A),sep=\"\\n\")\n",
        "print(\"B=\",repr(B),sep=\"\\n\")"
      ],
      "execution_count": 70,
      "outputs": [
        {
          "output_type": "stream",
          "name": "stdout",
          "text": [
            "A=\narray([[0, 1, 2, 3, 4],\n       [5, 6, 7, 8, 9]])\nB=\narray([[10, 11, 12, 13, 14],\n       [15, 16, 17, 18, 19]])\n"
          ]
        }
      ]
    },
    {
      "cell_type": "markdown",
      "metadata": {
        "id": "9SDMe68nlsTr"
      },
      "source": [
        "Stack arrays on a new axis"
      ]
    },
    {
      "cell_type": "code",
      "metadata": {
        "id": "qTXvlPq8lsTs",
        "colab": {
          "base_uri": "https://localhost:8080/",
          "height": 119
        },
        "outputId": "e59e2a62-d6b5-48c2-f632-58c9293061d5"
      },
      "source": [
        "stacked = np.stack([A,B])\n",
        "print(\"A shape: %s  ---  B shape: %s  ---  stacked shape: %s\" % (A.shape, B.shape, stacked.shape))\n",
        "stacked"
      ],
      "execution_count": 71,
      "outputs": [
        {
          "output_type": "stream",
          "name": "stdout",
          "text": [
            "A shape: (2, 5)  ---  B shape: (2, 5)  ---  stacked shape: (2, 2, 5)\n"
          ]
        },
        {
          "output_type": "execute_result",
          "data": {
            "text/plain": [
              "array([[[ 0,  1,  2,  3,  4],\n",
              "        [ 5,  6,  7,  8,  9]],\n",
              "\n",
              "       [[10, 11, 12, 13, 14],\n",
              "        [15, 16, 17, 18, 19]]])"
            ]
          },
          "metadata": {},
          "execution_count": 71
        }
      ]
    },
    {
      "cell_type": "markdown",
      "metadata": {
        "id": "nlX3LjKylsTv"
      },
      "source": [
        "**Concatenating arrays** \\\n",
        "Concatenate arrays along an existing axis 0 (change only axis 0, rest of shape should be same)"
      ]
    },
    {
      "cell_type": "code",
      "metadata": {
        "id": "aG5GyJPrlsTw",
        "colab": {
          "base_uri": "https://localhost:8080/",
          "height": 102
        },
        "outputId": "d92d1d06-e1a3-4991-aac6-accc6ea7c467"
      },
      "source": [
        "catted = np.concatenate([A,B], axis=0)\n",
        "print(\"A shape: %s  ---  B shape: %s  ---  catted shape (meow!): %s\" % (A.shape, B.shape, catted.shape))\n",
        "catted"
      ],
      "execution_count": 72,
      "outputs": [
        {
          "output_type": "stream",
          "name": "stdout",
          "text": [
            "A shape: (2, 5)  ---  B shape: (2, 5)  ---  catted shape (meow!): (4, 5)\n"
          ]
        },
        {
          "output_type": "execute_result",
          "data": {
            "text/plain": [
              "array([[ 0,  1,  2,  3,  4],\n",
              "       [ 5,  6,  7,  8,  9],\n",
              "       [10, 11, 12, 13, 14],\n",
              "       [15, 16, 17, 18, 19]])"
            ]
          },
          "metadata": {},
          "execution_count": 72
        }
      ]
    },
    {
      "cell_type": "markdown",
      "metadata": {
        "id": "YTqSqOhjlsTx"
      },
      "source": [
        "### Try it yourself!\n",
        "\n",
        "You should now be able to do Exercise 2"
      ]
    },
    {
      "cell_type": "markdown",
      "metadata": {
        "id": "2U99DsPdlsTy"
      },
      "source": [
        "# Matplotlib\n",
        "\n",
        "Matplotlib is a plotting library. `natplotlib.pyplot` exposes a stateful, easy to use, plotting system"
      ]
    },
    {
      "cell_type": "code",
      "metadata": {
        "id": "azOkUU7elsTy"
      },
      "source": [
        "import matplotlib\n",
        "import matplotlib.pyplot as plt"
      ],
      "execution_count": 73,
      "outputs": []
    },
    {
      "cell_type": "markdown",
      "metadata": {
        "id": "X04gLBijlsT2"
      },
      "source": [
        "### Plotting\n",
        "\n",
        "Let's make a simple 2d plot"
      ]
    },
    {
      "cell_type": "code",
      "metadata": {
        "id": "zYnaz3CilsT3",
        "colab": {
          "base_uri": "https://localhost:8080/",
          "height": 269
        },
        "outputId": "5d9221ac-34a6-47bc-f735-94ff9316d997"
      },
      "source": [
        "# Compute the x and y coordinates for points on a sine curve\n",
        "x = np.arange(0, 3 * np.pi, 0.1)\n",
        "y = np.sin(x)\n",
        "\n",
        "# Plot the points using matplotlib\n",
        "plt.plot(x, y)\n",
        "plt.show()"
      ],
      "execution_count": 74,
      "outputs": [
        {
          "output_type": "display_data",
          "data": {
            "text/plain": "<Figure size 432x288 with 1 Axes>",
            "image/svg+xml": "<?xml version=\"1.0\" encoding=\"utf-8\" standalone=\"no\"?>\r\n<!DOCTYPE svg PUBLIC \"-//W3C//DTD SVG 1.1//EN\"\r\n  \"http://www.w3.org/Graphics/SVG/1.1/DTD/svg11.dtd\">\r\n<!-- Created with matplotlib (https://matplotlib.org/) -->\r\n<svg height=\"248.518125pt\" version=\"1.1\" viewBox=\"0 0 386.845312 248.518125\" width=\"386.845312pt\" xmlns=\"http://www.w3.org/2000/svg\" xmlns:xlink=\"http://www.w3.org/1999/xlink\">\r\n <metadata>\r\n  <rdf:RDF xmlns:cc=\"http://creativecommons.org/ns#\" xmlns:dc=\"http://purl.org/dc/elements/1.1/\" xmlns:rdf=\"http://www.w3.org/1999/02/22-rdf-syntax-ns#\">\r\n   <cc:Work>\r\n    <dc:type rdf:resource=\"http://purl.org/dc/dcmitype/StillImage\"/>\r\n    <dc:date>2021-03-03T21:50:14.449305</dc:date>\r\n    <dc:format>image/svg+xml</dc:format>\r\n    <dc:creator>\r\n     <cc:Agent>\r\n      <dc:title>Matplotlib v3.3.4, https://matplotlib.org/</dc:title>\r\n     </cc:Agent>\r\n    </dc:creator>\r\n   </cc:Work>\r\n  </rdf:RDF>\r\n </metadata>\r\n <defs>\r\n  <style type=\"text/css\">*{stroke-linecap:butt;stroke-linejoin:round;}</style>\r\n </defs>\r\n <g id=\"figure_1\">\r\n  <g id=\"patch_1\">\r\n   <path d=\"M 0 248.518125 \r\nL 386.845312 248.518125 \r\nL 386.845312 0 \r\nL 0 0 \r\nz\r\n\" style=\"fill:none;\"/>\r\n  </g>\r\n  <g id=\"axes_1\">\r\n   <g id=\"patch_2\">\r\n    <path d=\"M 44.845313 224.64 \r\nL 379.645313 224.64 \r\nL 379.645313 7.2 \r\nL 44.845313 7.2 \r\nz\r\n\" style=\"fill:#ffffff;\"/>\r\n   </g>\r\n   <g id=\"matplotlib.axis_1\">\r\n    <g id=\"xtick_1\">\r\n     <g id=\"line2d_1\">\r\n      <defs>\r\n       <path d=\"M 0 0 \r\nL 0 3.5 \r\n\" id=\"mbf2a4ccd57\" style=\"stroke:#000000;stroke-width:0.8;\"/>\r\n      </defs>\r\n      <g>\r\n       <use style=\"stroke:#000000;stroke-width:0.8;\" x=\"60.063494\" xlink:href=\"#mbf2a4ccd57\" y=\"224.64\"/>\r\n      </g>\r\n     </g>\r\n     <g id=\"text_1\">\r\n      <!-- 0 -->\r\n      <g transform=\"translate(56.882244 239.238438)scale(0.1 -0.1)\">\r\n       <defs>\r\n        <path d=\"M 31.78125 66.40625 \r\nQ 24.171875 66.40625 20.328125 58.90625 \r\nQ 16.5 51.421875 16.5 36.375 \r\nQ 16.5 21.390625 20.328125 13.890625 \r\nQ 24.171875 6.390625 31.78125 6.390625 \r\nQ 39.453125 6.390625 43.28125 13.890625 \r\nQ 47.125 21.390625 47.125 36.375 \r\nQ 47.125 51.421875 43.28125 58.90625 \r\nQ 39.453125 66.40625 31.78125 66.40625 \r\nz\r\nM 31.78125 74.21875 \r\nQ 44.046875 74.21875 50.515625 64.515625 \r\nQ 56.984375 54.828125 56.984375 36.375 \r\nQ 56.984375 17.96875 50.515625 8.265625 \r\nQ 44.046875 -1.421875 31.78125 -1.421875 \r\nQ 19.53125 -1.421875 13.0625 8.265625 \r\nQ 6.59375 17.96875 6.59375 36.375 \r\nQ 6.59375 54.828125 13.0625 64.515625 \r\nQ 19.53125 74.21875 31.78125 74.21875 \r\nz\r\n\" id=\"DejaVuSans-48\"/>\r\n       </defs>\r\n       <use xlink:href=\"#DejaVuSans-48\"/>\r\n      </g>\r\n     </g>\r\n    </g>\r\n    <g id=\"xtick_2\">\r\n     <g id=\"line2d_2\">\r\n      <g>\r\n       <use style=\"stroke:#000000;stroke-width:0.8;\" x=\"124.821715\" xlink:href=\"#mbf2a4ccd57\" y=\"224.64\"/>\r\n      </g>\r\n     </g>\r\n     <g id=\"text_2\">\r\n      <!-- 2 -->\r\n      <g transform=\"translate(121.640465 239.238438)scale(0.1 -0.1)\">\r\n       <defs>\r\n        <path d=\"M 19.1875 8.296875 \r\nL 53.609375 8.296875 \r\nL 53.609375 0 \r\nL 7.328125 0 \r\nL 7.328125 8.296875 \r\nQ 12.9375 14.109375 22.625 23.890625 \r\nQ 32.328125 33.6875 34.8125 36.53125 \r\nQ 39.546875 41.84375 41.421875 45.53125 \r\nQ 43.3125 49.21875 43.3125 52.78125 \r\nQ 43.3125 58.59375 39.234375 62.25 \r\nQ 35.15625 65.921875 28.609375 65.921875 \r\nQ 23.96875 65.921875 18.8125 64.3125 \r\nQ 13.671875 62.703125 7.8125 59.421875 \r\nL 7.8125 69.390625 \r\nQ 13.765625 71.78125 18.9375 73 \r\nQ 24.125 74.21875 28.421875 74.21875 \r\nQ 39.75 74.21875 46.484375 68.546875 \r\nQ 53.21875 62.890625 53.21875 53.421875 \r\nQ 53.21875 48.921875 51.53125 44.890625 \r\nQ 49.859375 40.875 45.40625 35.40625 \r\nQ 44.1875 33.984375 37.640625 27.21875 \r\nQ 31.109375 20.453125 19.1875 8.296875 \r\nz\r\n\" id=\"DejaVuSans-50\"/>\r\n       </defs>\r\n       <use xlink:href=\"#DejaVuSans-50\"/>\r\n      </g>\r\n     </g>\r\n    </g>\r\n    <g id=\"xtick_3\">\r\n     <g id=\"line2d_3\">\r\n      <g>\r\n       <use style=\"stroke:#000000;stroke-width:0.8;\" x=\"189.579935\" xlink:href=\"#mbf2a4ccd57\" y=\"224.64\"/>\r\n      </g>\r\n     </g>\r\n     <g id=\"text_3\">\r\n      <!-- 4 -->\r\n      <g transform=\"translate(186.398685 239.238438)scale(0.1 -0.1)\">\r\n       <defs>\r\n        <path d=\"M 37.796875 64.3125 \r\nL 12.890625 25.390625 \r\nL 37.796875 25.390625 \r\nz\r\nM 35.203125 72.90625 \r\nL 47.609375 72.90625 \r\nL 47.609375 25.390625 \r\nL 58.015625 25.390625 \r\nL 58.015625 17.1875 \r\nL 47.609375 17.1875 \r\nL 47.609375 0 \r\nL 37.796875 0 \r\nL 37.796875 17.1875 \r\nL 4.890625 17.1875 \r\nL 4.890625 26.703125 \r\nz\r\n\" id=\"DejaVuSans-52\"/>\r\n       </defs>\r\n       <use xlink:href=\"#DejaVuSans-52\"/>\r\n      </g>\r\n     </g>\r\n    </g>\r\n    <g id=\"xtick_4\">\r\n     <g id=\"line2d_4\">\r\n      <g>\r\n       <use style=\"stroke:#000000;stroke-width:0.8;\" x=\"254.338156\" xlink:href=\"#mbf2a4ccd57\" y=\"224.64\"/>\r\n      </g>\r\n     </g>\r\n     <g id=\"text_4\">\r\n      <!-- 6 -->\r\n      <g transform=\"translate(251.156906 239.238438)scale(0.1 -0.1)\">\r\n       <defs>\r\n        <path d=\"M 33.015625 40.375 \r\nQ 26.375 40.375 22.484375 35.828125 \r\nQ 18.609375 31.296875 18.609375 23.390625 \r\nQ 18.609375 15.53125 22.484375 10.953125 \r\nQ 26.375 6.390625 33.015625 6.390625 \r\nQ 39.65625 6.390625 43.53125 10.953125 \r\nQ 47.40625 15.53125 47.40625 23.390625 \r\nQ 47.40625 31.296875 43.53125 35.828125 \r\nQ 39.65625 40.375 33.015625 40.375 \r\nz\r\nM 52.59375 71.296875 \r\nL 52.59375 62.3125 \r\nQ 48.875 64.0625 45.09375 64.984375 \r\nQ 41.3125 65.921875 37.59375 65.921875 \r\nQ 27.828125 65.921875 22.671875 59.328125 \r\nQ 17.53125 52.734375 16.796875 39.40625 \r\nQ 19.671875 43.65625 24.015625 45.921875 \r\nQ 28.375 48.1875 33.59375 48.1875 \r\nQ 44.578125 48.1875 50.953125 41.515625 \r\nQ 57.328125 34.859375 57.328125 23.390625 \r\nQ 57.328125 12.15625 50.6875 5.359375 \r\nQ 44.046875 -1.421875 33.015625 -1.421875 \r\nQ 20.359375 -1.421875 13.671875 8.265625 \r\nQ 6.984375 17.96875 6.984375 36.375 \r\nQ 6.984375 53.65625 15.1875 63.9375 \r\nQ 23.390625 74.21875 37.203125 74.21875 \r\nQ 40.921875 74.21875 44.703125 73.484375 \r\nQ 48.484375 72.75 52.59375 71.296875 \r\nz\r\n\" id=\"DejaVuSans-54\"/>\r\n       </defs>\r\n       <use xlink:href=\"#DejaVuSans-54\"/>\r\n      </g>\r\n     </g>\r\n    </g>\r\n    <g id=\"xtick_5\">\r\n     <g id=\"line2d_5\">\r\n      <g>\r\n       <use style=\"stroke:#000000;stroke-width:0.8;\" x=\"319.096376\" xlink:href=\"#mbf2a4ccd57\" y=\"224.64\"/>\r\n      </g>\r\n     </g>\r\n     <g id=\"text_5\">\r\n      <!-- 8 -->\r\n      <g transform=\"translate(315.915126 239.238438)scale(0.1 -0.1)\">\r\n       <defs>\r\n        <path d=\"M 31.78125 34.625 \r\nQ 24.75 34.625 20.71875 30.859375 \r\nQ 16.703125 27.09375 16.703125 20.515625 \r\nQ 16.703125 13.921875 20.71875 10.15625 \r\nQ 24.75 6.390625 31.78125 6.390625 \r\nQ 38.8125 6.390625 42.859375 10.171875 \r\nQ 46.921875 13.96875 46.921875 20.515625 \r\nQ 46.921875 27.09375 42.890625 30.859375 \r\nQ 38.875 34.625 31.78125 34.625 \r\nz\r\nM 21.921875 38.8125 \r\nQ 15.578125 40.375 12.03125 44.71875 \r\nQ 8.5 49.078125 8.5 55.328125 \r\nQ 8.5 64.0625 14.71875 69.140625 \r\nQ 20.953125 74.21875 31.78125 74.21875 \r\nQ 42.671875 74.21875 48.875 69.140625 \r\nQ 55.078125 64.0625 55.078125 55.328125 \r\nQ 55.078125 49.078125 51.53125 44.71875 \r\nQ 48 40.375 41.703125 38.8125 \r\nQ 48.828125 37.15625 52.796875 32.3125 \r\nQ 56.78125 27.484375 56.78125 20.515625 \r\nQ 56.78125 9.90625 50.3125 4.234375 \r\nQ 43.84375 -1.421875 31.78125 -1.421875 \r\nQ 19.734375 -1.421875 13.25 4.234375 \r\nQ 6.78125 9.90625 6.78125 20.515625 \r\nQ 6.78125 27.484375 10.78125 32.3125 \r\nQ 14.796875 37.15625 21.921875 38.8125 \r\nz\r\nM 18.3125 54.390625 \r\nQ 18.3125 48.734375 21.84375 45.5625 \r\nQ 25.390625 42.390625 31.78125 42.390625 \r\nQ 38.140625 42.390625 41.71875 45.5625 \r\nQ 45.3125 48.734375 45.3125 54.390625 \r\nQ 45.3125 60.0625 41.71875 63.234375 \r\nQ 38.140625 66.40625 31.78125 66.40625 \r\nQ 25.390625 66.40625 21.84375 63.234375 \r\nQ 18.3125 60.0625 18.3125 54.390625 \r\nz\r\n\" id=\"DejaVuSans-56\"/>\r\n       </defs>\r\n       <use xlink:href=\"#DejaVuSans-56\"/>\r\n      </g>\r\n     </g>\r\n    </g>\r\n   </g>\r\n   <g id=\"matplotlib.axis_2\">\r\n    <g id=\"ytick_1\">\r\n     <g id=\"line2d_6\">\r\n      <defs>\r\n       <path d=\"M 0 0 \r\nL -3.5 0 \r\n\" id=\"m79a5f481f1\" style=\"stroke:#000000;stroke-width:0.8;\"/>\r\n      </defs>\r\n      <g>\r\n       <use style=\"stroke:#000000;stroke-width:0.8;\" x=\"44.845313\" xlink:href=\"#m79a5f481f1\" y=\"214.76395\"/>\r\n      </g>\r\n     </g>\r\n     <g id=\"text_6\">\r\n      <!-- −1.00 -->\r\n      <g transform=\"translate(7.2 218.563169)scale(0.1 -0.1)\">\r\n       <defs>\r\n        <path d=\"M 10.59375 35.5 \r\nL 73.1875 35.5 \r\nL 73.1875 27.203125 \r\nL 10.59375 27.203125 \r\nz\r\n\" id=\"DejaVuSans-8722\"/>\r\n        <path d=\"M 12.40625 8.296875 \r\nL 28.515625 8.296875 \r\nL 28.515625 63.921875 \r\nL 10.984375 60.40625 \r\nL 10.984375 69.390625 \r\nL 28.421875 72.90625 \r\nL 38.28125 72.90625 \r\nL 38.28125 8.296875 \r\nL 54.390625 8.296875 \r\nL 54.390625 0 \r\nL 12.40625 0 \r\nz\r\n\" id=\"DejaVuSans-49\"/>\r\n        <path d=\"M 10.6875 12.40625 \r\nL 21 12.40625 \r\nL 21 0 \r\nL 10.6875 0 \r\nz\r\n\" id=\"DejaVuSans-46\"/>\r\n       </defs>\r\n       <use xlink:href=\"#DejaVuSans-8722\"/>\r\n       <use x=\"83.789062\" xlink:href=\"#DejaVuSans-49\"/>\r\n       <use x=\"147.412109\" xlink:href=\"#DejaVuSans-46\"/>\r\n       <use x=\"179.199219\" xlink:href=\"#DejaVuSans-48\"/>\r\n       <use x=\"242.822266\" xlink:href=\"#DejaVuSans-48\"/>\r\n      </g>\r\n     </g>\r\n    </g>\r\n    <g id=\"ytick_2\">\r\n     <g id=\"line2d_7\">\r\n      <g>\r\n       <use style=\"stroke:#000000;stroke-width:0.8;\" x=\"44.845313\" xlink:href=\"#m79a5f481f1\" y=\"190.048642\"/>\r\n      </g>\r\n     </g>\r\n     <g id=\"text_7\">\r\n      <!-- −0.75 -->\r\n      <g transform=\"translate(7.2 193.847861)scale(0.1 -0.1)\">\r\n       <defs>\r\n        <path d=\"M 8.203125 72.90625 \r\nL 55.078125 72.90625 \r\nL 55.078125 68.703125 \r\nL 28.609375 0 \r\nL 18.3125 0 \r\nL 43.21875 64.59375 \r\nL 8.203125 64.59375 \r\nz\r\n\" id=\"DejaVuSans-55\"/>\r\n        <path d=\"M 10.796875 72.90625 \r\nL 49.515625 72.90625 \r\nL 49.515625 64.59375 \r\nL 19.828125 64.59375 \r\nL 19.828125 46.734375 \r\nQ 21.96875 47.46875 24.109375 47.828125 \r\nQ 26.265625 48.1875 28.421875 48.1875 \r\nQ 40.625 48.1875 47.75 41.5 \r\nQ 54.890625 34.8125 54.890625 23.390625 \r\nQ 54.890625 11.625 47.5625 5.09375 \r\nQ 40.234375 -1.421875 26.90625 -1.421875 \r\nQ 22.3125 -1.421875 17.546875 -0.640625 \r\nQ 12.796875 0.140625 7.71875 1.703125 \r\nL 7.71875 11.625 \r\nQ 12.109375 9.234375 16.796875 8.0625 \r\nQ 21.484375 6.890625 26.703125 6.890625 \r\nQ 35.15625 6.890625 40.078125 11.328125 \r\nQ 45.015625 15.765625 45.015625 23.390625 \r\nQ 45.015625 31 40.078125 35.4375 \r\nQ 35.15625 39.890625 26.703125 39.890625 \r\nQ 22.75 39.890625 18.8125 39.015625 \r\nQ 14.890625 38.140625 10.796875 36.28125 \r\nz\r\n\" id=\"DejaVuSans-53\"/>\r\n       </defs>\r\n       <use xlink:href=\"#DejaVuSans-8722\"/>\r\n       <use x=\"83.789062\" xlink:href=\"#DejaVuSans-48\"/>\r\n       <use x=\"147.412109\" xlink:href=\"#DejaVuSans-46\"/>\r\n       <use x=\"179.199219\" xlink:href=\"#DejaVuSans-55\"/>\r\n       <use x=\"242.822266\" xlink:href=\"#DejaVuSans-53\"/>\r\n      </g>\r\n     </g>\r\n    </g>\r\n    <g id=\"ytick_3\">\r\n     <g id=\"line2d_8\">\r\n      <g>\r\n       <use style=\"stroke:#000000;stroke-width:0.8;\" x=\"44.845313\" xlink:href=\"#m79a5f481f1\" y=\"165.333333\"/>\r\n      </g>\r\n     </g>\r\n     <g id=\"text_8\">\r\n      <!-- −0.50 -->\r\n      <g transform=\"translate(7.2 169.132552)scale(0.1 -0.1)\">\r\n       <use xlink:href=\"#DejaVuSans-8722\"/>\r\n       <use x=\"83.789062\" xlink:href=\"#DejaVuSans-48\"/>\r\n       <use x=\"147.412109\" xlink:href=\"#DejaVuSans-46\"/>\r\n       <use x=\"179.199219\" xlink:href=\"#DejaVuSans-53\"/>\r\n       <use x=\"242.822266\" xlink:href=\"#DejaVuSans-48\"/>\r\n      </g>\r\n     </g>\r\n    </g>\r\n    <g id=\"ytick_4\">\r\n     <g id=\"line2d_9\">\r\n      <g>\r\n       <use style=\"stroke:#000000;stroke-width:0.8;\" x=\"44.845313\" xlink:href=\"#m79a5f481f1\" y=\"140.618025\"/>\r\n      </g>\r\n     </g>\r\n     <g id=\"text_9\">\r\n      <!-- −0.25 -->\r\n      <g transform=\"translate(7.2 144.417244)scale(0.1 -0.1)\">\r\n       <use xlink:href=\"#DejaVuSans-8722\"/>\r\n       <use x=\"83.789062\" xlink:href=\"#DejaVuSans-48\"/>\r\n       <use x=\"147.412109\" xlink:href=\"#DejaVuSans-46\"/>\r\n       <use x=\"179.199219\" xlink:href=\"#DejaVuSans-50\"/>\r\n       <use x=\"242.822266\" xlink:href=\"#DejaVuSans-53\"/>\r\n      </g>\r\n     </g>\r\n    </g>\r\n    <g id=\"ytick_5\">\r\n     <g id=\"line2d_10\">\r\n      <g>\r\n       <use style=\"stroke:#000000;stroke-width:0.8;\" x=\"44.845313\" xlink:href=\"#m79a5f481f1\" y=\"115.902716\"/>\r\n      </g>\r\n     </g>\r\n     <g id=\"text_10\">\r\n      <!-- 0.00 -->\r\n      <g transform=\"translate(15.579688 119.701935)scale(0.1 -0.1)\">\r\n       <use xlink:href=\"#DejaVuSans-48\"/>\r\n       <use x=\"63.623047\" xlink:href=\"#DejaVuSans-46\"/>\r\n       <use x=\"95.410156\" xlink:href=\"#DejaVuSans-48\"/>\r\n       <use x=\"159.033203\" xlink:href=\"#DejaVuSans-48\"/>\r\n      </g>\r\n     </g>\r\n    </g>\r\n    <g id=\"ytick_6\">\r\n     <g id=\"line2d_11\">\r\n      <g>\r\n       <use style=\"stroke:#000000;stroke-width:0.8;\" x=\"44.845313\" xlink:href=\"#m79a5f481f1\" y=\"91.187408\"/>\r\n      </g>\r\n     </g>\r\n     <g id=\"text_11\">\r\n      <!-- 0.25 -->\r\n      <g transform=\"translate(15.579688 94.986627)scale(0.1 -0.1)\">\r\n       <use xlink:href=\"#DejaVuSans-48\"/>\r\n       <use x=\"63.623047\" xlink:href=\"#DejaVuSans-46\"/>\r\n       <use x=\"95.410156\" xlink:href=\"#DejaVuSans-50\"/>\r\n       <use x=\"159.033203\" xlink:href=\"#DejaVuSans-53\"/>\r\n      </g>\r\n     </g>\r\n    </g>\r\n    <g id=\"ytick_7\">\r\n     <g id=\"line2d_12\">\r\n      <g>\r\n       <use style=\"stroke:#000000;stroke-width:0.8;\" x=\"44.845313\" xlink:href=\"#m79a5f481f1\" y=\"66.472099\"/>\r\n      </g>\r\n     </g>\r\n     <g id=\"text_12\">\r\n      <!-- 0.50 -->\r\n      <g transform=\"translate(15.579688 70.271318)scale(0.1 -0.1)\">\r\n       <use xlink:href=\"#DejaVuSans-48\"/>\r\n       <use x=\"63.623047\" xlink:href=\"#DejaVuSans-46\"/>\r\n       <use x=\"95.410156\" xlink:href=\"#DejaVuSans-53\"/>\r\n       <use x=\"159.033203\" xlink:href=\"#DejaVuSans-48\"/>\r\n      </g>\r\n     </g>\r\n    </g>\r\n    <g id=\"ytick_8\">\r\n     <g id=\"line2d_13\">\r\n      <g>\r\n       <use style=\"stroke:#000000;stroke-width:0.8;\" x=\"44.845313\" xlink:href=\"#m79a5f481f1\" y=\"41.756791\"/>\r\n      </g>\r\n     </g>\r\n     <g id=\"text_13\">\r\n      <!-- 0.75 -->\r\n      <g transform=\"translate(15.579688 45.55601)scale(0.1 -0.1)\">\r\n       <use xlink:href=\"#DejaVuSans-48\"/>\r\n       <use x=\"63.623047\" xlink:href=\"#DejaVuSans-46\"/>\r\n       <use x=\"95.410156\" xlink:href=\"#DejaVuSans-55\"/>\r\n       <use x=\"159.033203\" xlink:href=\"#DejaVuSans-53\"/>\r\n      </g>\r\n     </g>\r\n    </g>\r\n    <g id=\"ytick_9\">\r\n     <g id=\"line2d_14\">\r\n      <g>\r\n       <use style=\"stroke:#000000;stroke-width:0.8;\" x=\"44.845313\" xlink:href=\"#m79a5f481f1\" y=\"17.041482\"/>\r\n      </g>\r\n     </g>\r\n     <g id=\"text_14\">\r\n      <!-- 1.00 -->\r\n      <g transform=\"translate(15.579688 20.840701)scale(0.1 -0.1)\">\r\n       <use xlink:href=\"#DejaVuSans-49\"/>\r\n       <use x=\"63.623047\" xlink:href=\"#DejaVuSans-46\"/>\r\n       <use x=\"95.410156\" xlink:href=\"#DejaVuSans-48\"/>\r\n       <use x=\"159.033203\" xlink:href=\"#DejaVuSans-48\"/>\r\n      </g>\r\n     </g>\r\n    </g>\r\n   </g>\r\n   <g id=\"line2d_15\">\r\n    <path clip-path=\"url(#p1faa9d9d81)\" d=\"M 60.063494 115.902716 \r\nL 63.301405 106.033062 \r\nL 66.539316 96.262021 \r\nL 69.777227 86.687224 \r\nL 73.015138 77.404338 \r\nL 76.253049 68.506116 \r\nL 79.49096 60.081465 \r\nL 82.728871 52.214561 \r\nL 85.966783 44.984008 \r\nL 89.204694 38.462051 \r\nL 92.442605 32.713856 \r\nL 95.680516 27.796857 \r\nL 98.918427 23.760182 \r\nL 102.156338 20.644165 \r\nL 105.394249 18.47994 \r\nL 108.63216 17.289131 \r\nL 111.870071 17.083636 \r\nL 115.107982 17.865509 \r\nL 118.345893 19.626938 \r\nL 121.583804 22.350322 \r\nL 124.821715 26.008451 \r\nL 128.059626 30.564773 \r\nL 131.297537 35.973764 \r\nL 134.535448 42.181379 \r\nL 137.773359 49.125593 \r\nL 141.01127 56.737022 \r\nL 144.249181 64.939615 \r\nL 147.487092 73.651414 \r\nL 150.725003 82.785374 \r\nL 153.962914 92.250232 \r\nL 157.200825 101.951418 \r\nL 160.438736 111.792001 \r\nL 163.676647 121.673656 \r\nL 166.914558 131.49765 \r\nL 170.152469 141.165825 \r\nL 173.39038 150.581579 \r\nL 176.628291 159.650834 \r\nL 179.866202 168.282971 \r\nL 183.104113 176.391743 \r\nL 186.342024 183.896128 \r\nL 189.579935 190.721145 \r\nL 192.817846 196.798601 \r\nL 196.055757 202.067773 \r\nL 199.293668 206.476012 \r\nL 202.531579 209.979272 \r\nL 205.76949 212.54255 \r\nL 209.007401 214.140235 \r\nL 212.245313 214.756364 \r\nL 215.483224 214.384779 \r\nL 218.721135 213.029194 \r\nL 221.959046 210.703154 \r\nL 225.196957 207.429898 \r\nL 228.434868 203.242134 \r\nL 231.672779 198.181703 \r\nL 234.91069 192.299167 \r\nL 238.148601 185.653304 \r\nL 241.386512 178.310515 \r\nL 244.624423 170.344169 \r\nL 247.862334 161.833861 \r\nL 251.100245 152.864625 \r\nL 254.338156 143.526077 \r\nL 257.576067 133.911526 \r\nL 260.813978 124.117037 \r\nL 264.051889 114.240473 \r\nL 267.2898 104.380518 \r\nL 270.527711 94.635689 \r\nL 273.765622 85.103353 \r\nL 277.003533 75.878754 \r\nL 280.241444 67.054061 \r\nL 283.479355 58.717447 \r\nL 286.717266 50.95221 \r\nL 289.955177 43.835937 \r\nL 293.193088 37.439732 \r\nL 296.430999 31.827502 \r\nL 299.66891 27.055325 \r\nL 302.906821 23.170881 \r\nL 306.144732 20.212983 \r\nL 309.382643 18.211185 \r\nL 312.620554 17.185489 \r\nL 315.858465 17.146142 \r\nL 319.096376 18.093539 \r\nL 322.334287 20.018213 \r\nL 325.572198 22.900933 \r\nL 328.810109 26.712895 \r\nL 332.04802 31.416014 \r\nL 335.285931 36.963295 \r\nL 338.523842 43.299313 \r\nL 341.761754 50.36076 \r\nL 344.999665 58.077081 \r\nL 348.237576 66.371176 \r\nL 351.475487 75.160174 \r\nL 354.713398 84.356258 \r\nL 357.951309 93.867544 \r\nL 361.18922 103.598998 \r\nL 364.427131 113.453387 \r\n\" style=\"fill:none;stroke:#1f77b4;stroke-linecap:square;stroke-width:1.5;\"/>\r\n   </g>\r\n   <g id=\"patch_3\">\r\n    <path d=\"M 44.845313 224.64 \r\nL 44.845313 7.2 \r\n\" style=\"fill:none;stroke:#000000;stroke-linecap:square;stroke-linejoin:miter;stroke-width:0.8;\"/>\r\n   </g>\r\n   <g id=\"patch_4\">\r\n    <path d=\"M 379.645313 224.64 \r\nL 379.645313 7.2 \r\n\" style=\"fill:none;stroke:#000000;stroke-linecap:square;stroke-linejoin:miter;stroke-width:0.8;\"/>\r\n   </g>\r\n   <g id=\"patch_5\">\r\n    <path d=\"M 44.845313 224.64 \r\nL 379.645313 224.64 \r\n\" style=\"fill:none;stroke:#000000;stroke-linecap:square;stroke-linejoin:miter;stroke-width:0.8;\"/>\r\n   </g>\r\n   <g id=\"patch_6\">\r\n    <path d=\"M 44.845313 7.2 \r\nL 379.645313 7.2 \r\n\" style=\"fill:none;stroke:#000000;stroke-linecap:square;stroke-linejoin:miter;stroke-width:0.8;\"/>\r\n   </g>\r\n  </g>\r\n </g>\r\n <defs>\r\n  <clipPath id=\"p1faa9d9d81\">\r\n   <rect height=\"217.44\" width=\"334.8\" x=\"44.845313\" y=\"7.2\"/>\r\n  </clipPath>\r\n </defs>\r\n</svg>\r\n",
            "image/png": "[encoded data removed]"
          },
          "metadata": {
            "needs_background": "light"
          }
        }
      ]
    },
    {
      "cell_type": "markdown",
      "metadata": {
        "id": "JQWNg2MilsT6"
      },
      "source": [
        "With just a little bit of extra work we can easily plot multiple lines at once, and add a title, legend, and axis labels:"
      ]
    },
    {
      "cell_type": "code",
      "metadata": {
        "id": "c6pj9c2HlsT7",
        "colab": {
          "base_uri": "https://localhost:8080/",
          "height": 295
        },
        "outputId": "42725c4c-f53e-4612-bad2-02cedb4f6d20"
      },
      "source": [
        "y_sin = np.sin(x)\n",
        "y_cos = np.cos(x)\n",
        "\n",
        "# Plot the points using matplotlib\n",
        "plt.plot(x, y_sin)\n",
        "plt.plot(x, y_cos)\n",
        "plt.xlabel('x axis label')\n",
        "plt.ylabel('y axis label')\n",
        "plt.title('Sine and Cosine')\n",
        "plt.legend(['Sine', 'Cosine'])\n",
        "plt.show()"
      ],
      "execution_count": 75,
      "outputs": [
        {
          "output_type": "display_data",
          "data": {
            "text/plain": "<Figure size 432x288 with 1 Axes>",
            "image/svg+xml": "<?xml version=\"1.0\" encoding=\"utf-8\" standalone=\"no\"?>\r\n<!DOCTYPE svg PUBLIC \"-//W3C//DTD SVG 1.1//EN\"\r\n  \"http://www.w3.org/Graphics/SVG/1.1/DTD/svg11.dtd\">\r\n<!-- Created with matplotlib (https://matplotlib.org/) -->\r\n<svg height=\"277.314375pt\" version=\"1.1\" viewBox=\"0 0 400.523437 277.314375\" width=\"400.523437pt\" xmlns=\"http://www.w3.org/2000/svg\" xmlns:xlink=\"http://www.w3.org/1999/xlink\">\r\n <metadata>\r\n  <rdf:RDF xmlns:cc=\"http://creativecommons.org/ns#\" xmlns:dc=\"http://purl.org/dc/elements/1.1/\" xmlns:rdf=\"http://www.w3.org/1999/02/22-rdf-syntax-ns#\">\r\n   <cc:Work>\r\n    <dc:type rdf:resource=\"http://purl.org/dc/dcmitype/StillImage\"/>\r\n    <dc:date>2021-03-03T21:50:14.628721</dc:date>\r\n    <dc:format>image/svg+xml</dc:format>\r\n    <dc:creator>\r\n     <cc:Agent>\r\n      <dc:title>Matplotlib v3.3.4, https://matplotlib.org/</dc:title>\r\n     </cc:Agent>\r\n    </dc:creator>\r\n   </cc:Work>\r\n  </rdf:RDF>\r\n </metadata>\r\n <defs>\r\n  <style type=\"text/css\">*{stroke-linecap:butt;stroke-linejoin:round;}</style>\r\n </defs>\r\n <g id=\"figure_1\">\r\n  <g id=\"patch_1\">\r\n   <path d=\"M 0 277.314375 \r\nL 400.523437 277.314375 \r\nL 400.523437 0 \r\nL 0 0 \r\nz\r\n\" style=\"fill:none;\"/>\r\n  </g>\r\n  <g id=\"axes_1\">\r\n   <g id=\"patch_2\">\r\n    <path d=\"M 58.523438 239.758125 \r\nL 393.323438 239.758125 \r\nL 393.323438 22.318125 \r\nL 58.523438 22.318125 \r\nz\r\n\" style=\"fill:#ffffff;\"/>\r\n   </g>\r\n   <g id=\"matplotlib.axis_1\">\r\n    <g id=\"xtick_1\">\r\n     <g id=\"line2d_1\">\r\n      <defs>\r\n       <path d=\"M 0 0 \r\nL 0 3.5 \r\n\" id=\"m313217f28c\" style=\"stroke:#000000;stroke-width:0.8;\"/>\r\n      </defs>\r\n      <g>\r\n       <use style=\"stroke:#000000;stroke-width:0.8;\" x=\"73.741619\" xlink:href=\"#m313217f28c\" y=\"239.758125\"/>\r\n      </g>\r\n     </g>\r\n     <g id=\"text_1\">\r\n      <!-- 0 -->\r\n      <g transform=\"translate(70.560369 254.356562)scale(0.1 -0.1)\">\r\n       <defs>\r\n        <path d=\"M 31.78125 66.40625 \r\nQ 24.171875 66.40625 20.328125 58.90625 \r\nQ 16.5 51.421875 16.5 36.375 \r\nQ 16.5 21.390625 20.328125 13.890625 \r\nQ 24.171875 6.390625 31.78125 6.390625 \r\nQ 39.453125 6.390625 43.28125 13.890625 \r\nQ 47.125 21.390625 47.125 36.375 \r\nQ 47.125 51.421875 43.28125 58.90625 \r\nQ 39.453125 66.40625 31.78125 66.40625 \r\nz\r\nM 31.78125 74.21875 \r\nQ 44.046875 74.21875 50.515625 64.515625 \r\nQ 56.984375 54.828125 56.984375 36.375 \r\nQ 56.984375 17.96875 50.515625 8.265625 \r\nQ 44.046875 -1.421875 31.78125 -1.421875 \r\nQ 19.53125 -1.421875 13.0625 8.265625 \r\nQ 6.59375 17.96875 6.59375 36.375 \r\nQ 6.59375 54.828125 13.0625 64.515625 \r\nQ 19.53125 74.21875 31.78125 74.21875 \r\nz\r\n\" id=\"DejaVuSans-48\"/>\r\n       </defs>\r\n       <use xlink:href=\"#DejaVuSans-48\"/>\r\n      </g>\r\n     </g>\r\n    </g>\r\n    <g id=\"xtick_2\">\r\n     <g id=\"line2d_2\">\r\n      <g>\r\n       <use style=\"stroke:#000000;stroke-width:0.8;\" x=\"138.49984\" xlink:href=\"#m313217f28c\" y=\"239.758125\"/>\r\n      </g>\r\n     </g>\r\n     <g id=\"text_2\">\r\n      <!-- 2 -->\r\n      <g transform=\"translate(135.31859 254.356562)scale(0.1 -0.1)\">\r\n       <defs>\r\n        <path d=\"M 19.1875 8.296875 \r\nL 53.609375 8.296875 \r\nL 53.609375 0 \r\nL 7.328125 0 \r\nL 7.328125 8.296875 \r\nQ 12.9375 14.109375 22.625 23.890625 \r\nQ 32.328125 33.6875 34.8125 36.53125 \r\nQ 39.546875 41.84375 41.421875 45.53125 \r\nQ 43.3125 49.21875 43.3125 52.78125 \r\nQ 43.3125 58.59375 39.234375 62.25 \r\nQ 35.15625 65.921875 28.609375 65.921875 \r\nQ 23.96875 65.921875 18.8125 64.3125 \r\nQ 13.671875 62.703125 7.8125 59.421875 \r\nL 7.8125 69.390625 \r\nQ 13.765625 71.78125 18.9375 73 \r\nQ 24.125 74.21875 28.421875 74.21875 \r\nQ 39.75 74.21875 46.484375 68.546875 \r\nQ 53.21875 62.890625 53.21875 53.421875 \r\nQ 53.21875 48.921875 51.53125 44.890625 \r\nQ 49.859375 40.875 45.40625 35.40625 \r\nQ 44.1875 33.984375 37.640625 27.21875 \r\nQ 31.109375 20.453125 19.1875 8.296875 \r\nz\r\n\" id=\"DejaVuSans-50\"/>\r\n       </defs>\r\n       <use xlink:href=\"#DejaVuSans-50\"/>\r\n      </g>\r\n     </g>\r\n    </g>\r\n    <g id=\"xtick_3\">\r\n     <g id=\"line2d_3\">\r\n      <g>\r\n       <use style=\"stroke:#000000;stroke-width:0.8;\" x=\"203.25806\" xlink:href=\"#m313217f28c\" y=\"239.758125\"/>\r\n      </g>\r\n     </g>\r\n     <g id=\"text_3\">\r\n      <!-- 4 -->\r\n      <g transform=\"translate(200.07681 254.356562)scale(0.1 -0.1)\">\r\n       <defs>\r\n        <path d=\"M 37.796875 64.3125 \r\nL 12.890625 25.390625 \r\nL 37.796875 25.390625 \r\nz\r\nM 35.203125 72.90625 \r\nL 47.609375 72.90625 \r\nL 47.609375 25.390625 \r\nL 58.015625 25.390625 \r\nL 58.015625 17.1875 \r\nL 47.609375 17.1875 \r\nL 47.609375 0 \r\nL 37.796875 0 \r\nL 37.796875 17.1875 \r\nL 4.890625 17.1875 \r\nL 4.890625 26.703125 \r\nz\r\n\" id=\"DejaVuSans-52\"/>\r\n       </defs>\r\n       <use xlink:href=\"#DejaVuSans-52\"/>\r\n      </g>\r\n     </g>\r\n    </g>\r\n    <g id=\"xtick_4\">\r\n     <g id=\"line2d_4\">\r\n      <g>\r\n       <use style=\"stroke:#000000;stroke-width:0.8;\" x=\"268.016281\" xlink:href=\"#m313217f28c\" y=\"239.758125\"/>\r\n      </g>\r\n     </g>\r\n     <g id=\"text_4\">\r\n      <!-- 6 -->\r\n      <g transform=\"translate(264.835031 254.356562)scale(0.1 -0.1)\">\r\n       <defs>\r\n        <path d=\"M 33.015625 40.375 \r\nQ 26.375 40.375 22.484375 35.828125 \r\nQ 18.609375 31.296875 18.609375 23.390625 \r\nQ 18.609375 15.53125 22.484375 10.953125 \r\nQ 26.375 6.390625 33.015625 6.390625 \r\nQ 39.65625 6.390625 43.53125 10.953125 \r\nQ 47.40625 15.53125 47.40625 23.390625 \r\nQ 47.40625 31.296875 43.53125 35.828125 \r\nQ 39.65625 40.375 33.015625 40.375 \r\nz\r\nM 52.59375 71.296875 \r\nL 52.59375 62.3125 \r\nQ 48.875 64.0625 45.09375 64.984375 \r\nQ 41.3125 65.921875 37.59375 65.921875 \r\nQ 27.828125 65.921875 22.671875 59.328125 \r\nQ 17.53125 52.734375 16.796875 39.40625 \r\nQ 19.671875 43.65625 24.015625 45.921875 \r\nQ 28.375 48.1875 33.59375 48.1875 \r\nQ 44.578125 48.1875 50.953125 41.515625 \r\nQ 57.328125 34.859375 57.328125 23.390625 \r\nQ 57.328125 12.15625 50.6875 5.359375 \r\nQ 44.046875 -1.421875 33.015625 -1.421875 \r\nQ 20.359375 -1.421875 13.671875 8.265625 \r\nQ 6.984375 17.96875 6.984375 36.375 \r\nQ 6.984375 53.65625 15.1875 63.9375 \r\nQ 23.390625 74.21875 37.203125 74.21875 \r\nQ 40.921875 74.21875 44.703125 73.484375 \r\nQ 48.484375 72.75 52.59375 71.296875 \r\nz\r\n\" id=\"DejaVuSans-54\"/>\r\n       </defs>\r\n       <use xlink:href=\"#DejaVuSans-54\"/>\r\n      </g>\r\n     </g>\r\n    </g>\r\n    <g id=\"xtick_5\">\r\n     <g id=\"line2d_5\">\r\n      <g>\r\n       <use style=\"stroke:#000000;stroke-width:0.8;\" x=\"332.774501\" xlink:href=\"#m313217f28c\" y=\"239.758125\"/>\r\n      </g>\r\n     </g>\r\n     <g id=\"text_5\">\r\n      <!-- 8 -->\r\n      <g transform=\"translate(329.593251 254.356562)scale(0.1 -0.1)\">\r\n       <defs>\r\n        <path d=\"M 31.78125 34.625 \r\nQ 24.75 34.625 20.71875 30.859375 \r\nQ 16.703125 27.09375 16.703125 20.515625 \r\nQ 16.703125 13.921875 20.71875 10.15625 \r\nQ 24.75 6.390625 31.78125 6.390625 \r\nQ 38.8125 6.390625 42.859375 10.171875 \r\nQ 46.921875 13.96875 46.921875 20.515625 \r\nQ 46.921875 27.09375 42.890625 30.859375 \r\nQ 38.875 34.625 31.78125 34.625 \r\nz\r\nM 21.921875 38.8125 \r\nQ 15.578125 40.375 12.03125 44.71875 \r\nQ 8.5 49.078125 8.5 55.328125 \r\nQ 8.5 64.0625 14.71875 69.140625 \r\nQ 20.953125 74.21875 31.78125 74.21875 \r\nQ 42.671875 74.21875 48.875 69.140625 \r\nQ 55.078125 64.0625 55.078125 55.328125 \r\nQ 55.078125 49.078125 51.53125 44.71875 \r\nQ 48 40.375 41.703125 38.8125 \r\nQ 48.828125 37.15625 52.796875 32.3125 \r\nQ 56.78125 27.484375 56.78125 20.515625 \r\nQ 56.78125 9.90625 50.3125 4.234375 \r\nQ 43.84375 -1.421875 31.78125 -1.421875 \r\nQ 19.734375 -1.421875 13.25 4.234375 \r\nQ 6.78125 9.90625 6.78125 20.515625 \r\nQ 6.78125 27.484375 10.78125 32.3125 \r\nQ 14.796875 37.15625 21.921875 38.8125 \r\nz\r\nM 18.3125 54.390625 \r\nQ 18.3125 48.734375 21.84375 45.5625 \r\nQ 25.390625 42.390625 31.78125 42.390625 \r\nQ 38.140625 42.390625 41.71875 45.5625 \r\nQ 45.3125 48.734375 45.3125 54.390625 \r\nQ 45.3125 60.0625 41.71875 63.234375 \r\nQ 38.140625 66.40625 31.78125 66.40625 \r\nQ 25.390625 66.40625 21.84375 63.234375 \r\nQ 18.3125 60.0625 18.3125 54.390625 \r\nz\r\n\" id=\"DejaVuSans-56\"/>\r\n       </defs>\r\n       <use xlink:href=\"#DejaVuSans-56\"/>\r\n      </g>\r\n     </g>\r\n    </g>\r\n    <g id=\"text_6\">\r\n     <!-- x axis label -->\r\n     <g transform=\"translate(197.675781 268.034687)scale(0.1 -0.1)\">\r\n      <defs>\r\n       <path d=\"M 54.890625 54.6875 \r\nL 35.109375 28.078125 \r\nL 55.90625 0 \r\nL 45.3125 0 \r\nL 29.390625 21.484375 \r\nL 13.484375 0 \r\nL 2.875 0 \r\nL 24.125 28.609375 \r\nL 4.6875 54.6875 \r\nL 15.28125 54.6875 \r\nL 29.78125 35.203125 \r\nL 44.28125 54.6875 \r\nz\r\n\" id=\"DejaVuSans-120\"/>\r\n       <path id=\"DejaVuSans-32\"/>\r\n       <path d=\"M 34.28125 27.484375 \r\nQ 23.390625 27.484375 19.1875 25 \r\nQ 14.984375 22.515625 14.984375 16.5 \r\nQ 14.984375 11.71875 18.140625 8.90625 \r\nQ 21.296875 6.109375 26.703125 6.109375 \r\nQ 34.1875 6.109375 38.703125 11.40625 \r\nQ 43.21875 16.703125 43.21875 25.484375 \r\nL 43.21875 27.484375 \r\nz\r\nM 52.203125 31.203125 \r\nL 52.203125 0 \r\nL 43.21875 0 \r\nL 43.21875 8.296875 \r\nQ 40.140625 3.328125 35.546875 0.953125 \r\nQ 30.953125 -1.421875 24.3125 -1.421875 \r\nQ 15.921875 -1.421875 10.953125 3.296875 \r\nQ 6 8.015625 6 15.921875 \r\nQ 6 25.140625 12.171875 29.828125 \r\nQ 18.359375 34.515625 30.609375 34.515625 \r\nL 43.21875 34.515625 \r\nL 43.21875 35.40625 \r\nQ 43.21875 41.609375 39.140625 45 \r\nQ 35.0625 48.390625 27.6875 48.390625 \r\nQ 23 48.390625 18.546875 47.265625 \r\nQ 14.109375 46.140625 10.015625 43.890625 \r\nL 10.015625 52.203125 \r\nQ 14.9375 54.109375 19.578125 55.046875 \r\nQ 24.21875 56 28.609375 56 \r\nQ 40.484375 56 46.34375 49.84375 \r\nQ 52.203125 43.703125 52.203125 31.203125 \r\nz\r\n\" id=\"DejaVuSans-97\"/>\r\n       <path d=\"M 9.421875 54.6875 \r\nL 18.40625 54.6875 \r\nL 18.40625 0 \r\nL 9.421875 0 \r\nz\r\nM 9.421875 75.984375 \r\nL 18.40625 75.984375 \r\nL 18.40625 64.59375 \r\nL 9.421875 64.59375 \r\nz\r\n\" id=\"DejaVuSans-105\"/>\r\n       <path d=\"M 44.28125 53.078125 \r\nL 44.28125 44.578125 \r\nQ 40.484375 46.53125 36.375 47.5 \r\nQ 32.28125 48.484375 27.875 48.484375 \r\nQ 21.1875 48.484375 17.84375 46.4375 \r\nQ 14.5 44.390625 14.5 40.28125 \r\nQ 14.5 37.15625 16.890625 35.375 \r\nQ 19.28125 33.59375 26.515625 31.984375 \r\nL 29.59375 31.296875 \r\nQ 39.15625 29.25 43.1875 25.515625 \r\nQ 47.21875 21.78125 47.21875 15.09375 \r\nQ 47.21875 7.46875 41.1875 3.015625 \r\nQ 35.15625 -1.421875 24.609375 -1.421875 \r\nQ 20.21875 -1.421875 15.453125 -0.5625 \r\nQ 10.6875 0.296875 5.421875 2 \r\nL 5.421875 11.28125 \r\nQ 10.40625 8.6875 15.234375 7.390625 \r\nQ 20.0625 6.109375 24.8125 6.109375 \r\nQ 31.15625 6.109375 34.5625 8.28125 \r\nQ 37.984375 10.453125 37.984375 14.40625 \r\nQ 37.984375 18.0625 35.515625 20.015625 \r\nQ 33.0625 21.96875 24.703125 23.78125 \r\nL 21.578125 24.515625 \r\nQ 13.234375 26.265625 9.515625 29.90625 \r\nQ 5.8125 33.546875 5.8125 39.890625 \r\nQ 5.8125 47.609375 11.28125 51.796875 \r\nQ 16.75 56 26.8125 56 \r\nQ 31.78125 56 36.171875 55.265625 \r\nQ 40.578125 54.546875 44.28125 53.078125 \r\nz\r\n\" id=\"DejaVuSans-115\"/>\r\n       <path d=\"M 9.421875 75.984375 \r\nL 18.40625 75.984375 \r\nL 18.40625 0 \r\nL 9.421875 0 \r\nz\r\n\" id=\"DejaVuSans-108\"/>\r\n       <path d=\"M 48.6875 27.296875 \r\nQ 48.6875 37.203125 44.609375 42.84375 \r\nQ 40.53125 48.484375 33.40625 48.484375 \r\nQ 26.265625 48.484375 22.1875 42.84375 \r\nQ 18.109375 37.203125 18.109375 27.296875 \r\nQ 18.109375 17.390625 22.1875 11.75 \r\nQ 26.265625 6.109375 33.40625 6.109375 \r\nQ 40.53125 6.109375 44.609375 11.75 \r\nQ 48.6875 17.390625 48.6875 27.296875 \r\nz\r\nM 18.109375 46.390625 \r\nQ 20.953125 51.265625 25.265625 53.625 \r\nQ 29.59375 56 35.59375 56 \r\nQ 45.5625 56 51.78125 48.09375 \r\nQ 58.015625 40.1875 58.015625 27.296875 \r\nQ 58.015625 14.40625 51.78125 6.484375 \r\nQ 45.5625 -1.421875 35.59375 -1.421875 \r\nQ 29.59375 -1.421875 25.265625 0.953125 \r\nQ 20.953125 3.328125 18.109375 8.203125 \r\nL 18.109375 0 \r\nL 9.078125 0 \r\nL 9.078125 75.984375 \r\nL 18.109375 75.984375 \r\nz\r\n\" id=\"DejaVuSans-98\"/>\r\n       <path d=\"M 56.203125 29.59375 \r\nL 56.203125 25.203125 \r\nL 14.890625 25.203125 \r\nQ 15.484375 15.921875 20.484375 11.0625 \r\nQ 25.484375 6.203125 34.421875 6.203125 \r\nQ 39.59375 6.203125 44.453125 7.46875 \r\nQ 49.3125 8.734375 54.109375 11.28125 \r\nL 54.109375 2.78125 \r\nQ 49.265625 0.734375 44.1875 -0.34375 \r\nQ 39.109375 -1.421875 33.890625 -1.421875 \r\nQ 20.796875 -1.421875 13.15625 6.1875 \r\nQ 5.515625 13.8125 5.515625 26.8125 \r\nQ 5.515625 40.234375 12.765625 48.109375 \r\nQ 20.015625 56 32.328125 56 \r\nQ 43.359375 56 49.78125 48.890625 \r\nQ 56.203125 41.796875 56.203125 29.59375 \r\nz\r\nM 47.21875 32.234375 \r\nQ 47.125 39.59375 43.09375 43.984375 \r\nQ 39.0625 48.390625 32.421875 48.390625 \r\nQ 24.90625 48.390625 20.390625 44.140625 \r\nQ 15.875 39.890625 15.1875 32.171875 \r\nz\r\n\" id=\"DejaVuSans-101\"/>\r\n      </defs>\r\n      <use xlink:href=\"#DejaVuSans-120\"/>\r\n      <use x=\"59.179688\" xlink:href=\"#DejaVuSans-32\"/>\r\n      <use x=\"90.966797\" xlink:href=\"#DejaVuSans-97\"/>\r\n      <use x=\"152.246094\" xlink:href=\"#DejaVuSans-120\"/>\r\n      <use x=\"211.425781\" xlink:href=\"#DejaVuSans-105\"/>\r\n      <use x=\"239.208984\" xlink:href=\"#DejaVuSans-115\"/>\r\n      <use x=\"291.308594\" xlink:href=\"#DejaVuSans-32\"/>\r\n      <use x=\"323.095703\" xlink:href=\"#DejaVuSans-108\"/>\r\n      <use x=\"350.878906\" xlink:href=\"#DejaVuSans-97\"/>\r\n      <use x=\"412.158203\" xlink:href=\"#DejaVuSans-98\"/>\r\n      <use x=\"475.634766\" xlink:href=\"#DejaVuSans-101\"/>\r\n      <use x=\"537.158203\" xlink:href=\"#DejaVuSans-108\"/>\r\n     </g>\r\n    </g>\r\n   </g>\r\n   <g id=\"matplotlib.axis_2\">\r\n    <g id=\"ytick_1\">\r\n     <g id=\"line2d_6\">\r\n      <defs>\r\n       <path d=\"M 0 0 \r\nL -3.5 0 \r\n\" id=\"m9690b92de8\" style=\"stroke:#000000;stroke-width:0.8;\"/>\r\n      </defs>\r\n      <g>\r\n       <use style=\"stroke:#000000;stroke-width:0.8;\" x=\"58.523438\" xlink:href=\"#m9690b92de8\" y=\"229.882074\"/>\r\n      </g>\r\n     </g>\r\n     <g id=\"text_7\">\r\n      <!-- −1.00 -->\r\n      <g transform=\"translate(20.878125 233.681293)scale(0.1 -0.1)\">\r\n       <defs>\r\n        <path d=\"M 10.59375 35.5 \r\nL 73.1875 35.5 \r\nL 73.1875 27.203125 \r\nL 10.59375 27.203125 \r\nz\r\n\" id=\"DejaVuSans-8722\"/>\r\n        <path d=\"M 12.40625 8.296875 \r\nL 28.515625 8.296875 \r\nL 28.515625 63.921875 \r\nL 10.984375 60.40625 \r\nL 10.984375 69.390625 \r\nL 28.421875 72.90625 \r\nL 38.28125 72.90625 \r\nL 38.28125 8.296875 \r\nL 54.390625 8.296875 \r\nL 54.390625 0 \r\nL 12.40625 0 \r\nz\r\n\" id=\"DejaVuSans-49\"/>\r\n        <path d=\"M 10.6875 12.40625 \r\nL 21 12.40625 \r\nL 21 0 \r\nL 10.6875 0 \r\nz\r\n\" id=\"DejaVuSans-46\"/>\r\n       </defs>\r\n       <use xlink:href=\"#DejaVuSans-8722\"/>\r\n       <use x=\"83.789062\" xlink:href=\"#DejaVuSans-49\"/>\r\n       <use x=\"147.412109\" xlink:href=\"#DejaVuSans-46\"/>\r\n       <use x=\"179.199219\" xlink:href=\"#DejaVuSans-48\"/>\r\n       <use x=\"242.822266\" xlink:href=\"#DejaVuSans-48\"/>\r\n      </g>\r\n     </g>\r\n    </g>\r\n    <g id=\"ytick_2\">\r\n     <g id=\"line2d_7\">\r\n      <g>\r\n       <use style=\"stroke:#000000;stroke-width:0.8;\" x=\"58.523438\" xlink:href=\"#m9690b92de8\" y=\"205.172035\"/>\r\n      </g>\r\n     </g>\r\n     <g id=\"text_8\">\r\n      <!-- −0.75 -->\r\n      <g transform=\"translate(20.878125 208.971254)scale(0.1 -0.1)\">\r\n       <defs>\r\n        <path d=\"M 8.203125 72.90625 \r\nL 55.078125 72.90625 \r\nL 55.078125 68.703125 \r\nL 28.609375 0 \r\nL 18.3125 0 \r\nL 43.21875 64.59375 \r\nL 8.203125 64.59375 \r\nz\r\n\" id=\"DejaVuSans-55\"/>\r\n        <path d=\"M 10.796875 72.90625 \r\nL 49.515625 72.90625 \r\nL 49.515625 64.59375 \r\nL 19.828125 64.59375 \r\nL 19.828125 46.734375 \r\nQ 21.96875 47.46875 24.109375 47.828125 \r\nQ 26.265625 48.1875 28.421875 48.1875 \r\nQ 40.625 48.1875 47.75 41.5 \r\nQ 54.890625 34.8125 54.890625 23.390625 \r\nQ 54.890625 11.625 47.5625 5.09375 \r\nQ 40.234375 -1.421875 26.90625 -1.421875 \r\nQ 22.3125 -1.421875 17.546875 -0.640625 \r\nQ 12.796875 0.140625 7.71875 1.703125 \r\nL 7.71875 11.625 \r\nQ 12.109375 9.234375 16.796875 8.0625 \r\nQ 21.484375 6.890625 26.703125 6.890625 \r\nQ 35.15625 6.890625 40.078125 11.328125 \r\nQ 45.015625 15.765625 45.015625 23.390625 \r\nQ 45.015625 31 40.078125 35.4375 \r\nQ 35.15625 39.890625 26.703125 39.890625 \r\nQ 22.75 39.890625 18.8125 39.015625 \r\nQ 14.890625 38.140625 10.796875 36.28125 \r\nz\r\n\" id=\"DejaVuSans-53\"/>\r\n       </defs>\r\n       <use xlink:href=\"#DejaVuSans-8722\"/>\r\n       <use x=\"83.789062\" xlink:href=\"#DejaVuSans-48\"/>\r\n       <use x=\"147.412109\" xlink:href=\"#DejaVuSans-46\"/>\r\n       <use x=\"179.199219\" xlink:href=\"#DejaVuSans-55\"/>\r\n       <use x=\"242.822266\" xlink:href=\"#DejaVuSans-53\"/>\r\n      </g>\r\n     </g>\r\n    </g>\r\n    <g id=\"ytick_3\">\r\n     <g id=\"line2d_8\">\r\n      <g>\r\n       <use style=\"stroke:#000000;stroke-width:0.8;\" x=\"58.523438\" xlink:href=\"#m9690b92de8\" y=\"180.461996\"/>\r\n      </g>\r\n     </g>\r\n     <g id=\"text_9\">\r\n      <!-- −0.50 -->\r\n      <g transform=\"translate(20.878125 184.261214)scale(0.1 -0.1)\">\r\n       <use xlink:href=\"#DejaVuSans-8722\"/>\r\n       <use x=\"83.789062\" xlink:href=\"#DejaVuSans-48\"/>\r\n       <use x=\"147.412109\" xlink:href=\"#DejaVuSans-46\"/>\r\n       <use x=\"179.199219\" xlink:href=\"#DejaVuSans-53\"/>\r\n       <use x=\"242.822266\" xlink:href=\"#DejaVuSans-48\"/>\r\n      </g>\r\n     </g>\r\n    </g>\r\n    <g id=\"ytick_4\">\r\n     <g id=\"line2d_9\">\r\n      <g>\r\n       <use style=\"stroke:#000000;stroke-width:0.8;\" x=\"58.523438\" xlink:href=\"#m9690b92de8\" y=\"155.751957\"/>\r\n      </g>\r\n     </g>\r\n     <g id=\"text_10\">\r\n      <!-- −0.25 -->\r\n      <g transform=\"translate(20.878125 159.551175)scale(0.1 -0.1)\">\r\n       <use xlink:href=\"#DejaVuSans-8722\"/>\r\n       <use x=\"83.789062\" xlink:href=\"#DejaVuSans-48\"/>\r\n       <use x=\"147.412109\" xlink:href=\"#DejaVuSans-46\"/>\r\n       <use x=\"179.199219\" xlink:href=\"#DejaVuSans-50\"/>\r\n       <use x=\"242.822266\" xlink:href=\"#DejaVuSans-53\"/>\r\n      </g>\r\n     </g>\r\n    </g>\r\n    <g id=\"ytick_5\">\r\n     <g id=\"line2d_10\">\r\n      <g>\r\n       <use style=\"stroke:#000000;stroke-width:0.8;\" x=\"58.523438\" xlink:href=\"#m9690b92de8\" y=\"131.041918\"/>\r\n      </g>\r\n     </g>\r\n     <g id=\"text_11\">\r\n      <!-- 0.00 -->\r\n      <g transform=\"translate(29.257813 134.841136)scale(0.1 -0.1)\">\r\n       <use xlink:href=\"#DejaVuSans-48\"/>\r\n       <use x=\"63.623047\" xlink:href=\"#DejaVuSans-46\"/>\r\n       <use x=\"95.410156\" xlink:href=\"#DejaVuSans-48\"/>\r\n       <use x=\"159.033203\" xlink:href=\"#DejaVuSans-48\"/>\r\n      </g>\r\n     </g>\r\n    </g>\r\n    <g id=\"ytick_6\">\r\n     <g id=\"line2d_11\">\r\n      <g>\r\n       <use style=\"stroke:#000000;stroke-width:0.8;\" x=\"58.523438\" xlink:href=\"#m9690b92de8\" y=\"106.331879\"/>\r\n      </g>\r\n     </g>\r\n     <g id=\"text_12\">\r\n      <!-- 0.25 -->\r\n      <g transform=\"translate(29.257813 110.131097)scale(0.1 -0.1)\">\r\n       <use xlink:href=\"#DejaVuSans-48\"/>\r\n       <use x=\"63.623047\" xlink:href=\"#DejaVuSans-46\"/>\r\n       <use x=\"95.410156\" xlink:href=\"#DejaVuSans-50\"/>\r\n       <use x=\"159.033203\" xlink:href=\"#DejaVuSans-53\"/>\r\n      </g>\r\n     </g>\r\n    </g>\r\n    <g id=\"ytick_7\">\r\n     <g id=\"line2d_12\">\r\n      <g>\r\n       <use style=\"stroke:#000000;stroke-width:0.8;\" x=\"58.523438\" xlink:href=\"#m9690b92de8\" y=\"81.621839\"/>\r\n      </g>\r\n     </g>\r\n     <g id=\"text_13\">\r\n      <!-- 0.50 -->\r\n      <g transform=\"translate(29.257813 85.421058)scale(0.1 -0.1)\">\r\n       <use xlink:href=\"#DejaVuSans-48\"/>\r\n       <use x=\"63.623047\" xlink:href=\"#DejaVuSans-46\"/>\r\n       <use x=\"95.410156\" xlink:href=\"#DejaVuSans-53\"/>\r\n       <use x=\"159.033203\" xlink:href=\"#DejaVuSans-48\"/>\r\n      </g>\r\n     </g>\r\n    </g>\r\n    <g id=\"ytick_8\">\r\n     <g id=\"line2d_13\">\r\n      <g>\r\n       <use style=\"stroke:#000000;stroke-width:0.8;\" x=\"58.523438\" xlink:href=\"#m9690b92de8\" y=\"56.9118\"/>\r\n      </g>\r\n     </g>\r\n     <g id=\"text_14\">\r\n      <!-- 0.75 -->\r\n      <g transform=\"translate(29.257813 60.711019)scale(0.1 -0.1)\">\r\n       <use xlink:href=\"#DejaVuSans-48\"/>\r\n       <use x=\"63.623047\" xlink:href=\"#DejaVuSans-46\"/>\r\n       <use x=\"95.410156\" xlink:href=\"#DejaVuSans-55\"/>\r\n       <use x=\"159.033203\" xlink:href=\"#DejaVuSans-53\"/>\r\n      </g>\r\n     </g>\r\n    </g>\r\n    <g id=\"ytick_9\">\r\n     <g id=\"line2d_14\">\r\n      <g>\r\n       <use style=\"stroke:#000000;stroke-width:0.8;\" x=\"58.523438\" xlink:href=\"#m9690b92de8\" y=\"32.201761\"/>\r\n      </g>\r\n     </g>\r\n     <g id=\"text_15\">\r\n      <!-- 1.00 -->\r\n      <g transform=\"translate(29.257813 36.00098)scale(0.1 -0.1)\">\r\n       <use xlink:href=\"#DejaVuSans-49\"/>\r\n       <use x=\"63.623047\" xlink:href=\"#DejaVuSans-46\"/>\r\n       <use x=\"95.410156\" xlink:href=\"#DejaVuSans-48\"/>\r\n       <use x=\"159.033203\" xlink:href=\"#DejaVuSans-48\"/>\r\n      </g>\r\n     </g>\r\n    </g>\r\n    <g id=\"text_16\">\r\n     <!-- y axis label -->\r\n     <g transform=\"translate(14.798438 159.285781)rotate(-90)scale(0.1 -0.1)\">\r\n      <defs>\r\n       <path d=\"M 32.171875 -5.078125 \r\nQ 28.375 -14.84375 24.75 -17.8125 \r\nQ 21.140625 -20.796875 15.09375 -20.796875 \r\nL 7.90625 -20.796875 \r\nL 7.90625 -13.28125 \r\nL 13.1875 -13.28125 \r\nQ 16.890625 -13.28125 18.9375 -11.515625 \r\nQ 21 -9.765625 23.484375 -3.21875 \r\nL 25.09375 0.875 \r\nL 2.984375 54.6875 \r\nL 12.5 54.6875 \r\nL 29.59375 11.921875 \r\nL 46.6875 54.6875 \r\nL 56.203125 54.6875 \r\nz\r\n\" id=\"DejaVuSans-121\"/>\r\n      </defs>\r\n      <use xlink:href=\"#DejaVuSans-121\"/>\r\n      <use x=\"59.179688\" xlink:href=\"#DejaVuSans-32\"/>\r\n      <use x=\"90.966797\" xlink:href=\"#DejaVuSans-97\"/>\r\n      <use x=\"152.246094\" xlink:href=\"#DejaVuSans-120\"/>\r\n      <use x=\"211.425781\" xlink:href=\"#DejaVuSans-105\"/>\r\n      <use x=\"239.208984\" xlink:href=\"#DejaVuSans-115\"/>\r\n      <use x=\"291.308594\" xlink:href=\"#DejaVuSans-32\"/>\r\n      <use x=\"323.095703\" xlink:href=\"#DejaVuSans-108\"/>\r\n      <use x=\"350.878906\" xlink:href=\"#DejaVuSans-97\"/>\r\n      <use x=\"412.158203\" xlink:href=\"#DejaVuSans-98\"/>\r\n      <use x=\"475.634766\" xlink:href=\"#DejaVuSans-101\"/>\r\n      <use x=\"537.158203\" xlink:href=\"#DejaVuSans-108\"/>\r\n     </g>\r\n    </g>\r\n   </g>\r\n   <g id=\"line2d_15\">\r\n    <path clip-path=\"url(#pf858935584)\" d=\"M 73.741619 131.041918 \r\nL 76.97953 121.174367 \r\nL 80.217441 111.40541 \r\nL 83.455352 101.832654 \r\nL 86.693263 92.551748 \r\nL 89.931174 83.655422 \r\nL 93.169085 75.232567 \r\nL 96.406996 67.367341 \r\nL 99.644908 60.13833 \r\nL 102.882819 53.617763 \r\nL 106.12073 47.870794 \r\nL 109.358641 42.954843 \r\nL 112.596552 38.919029 \r\nL 115.834463 35.803676 \r\nL 119.072374 33.639912 \r\nL 122.310285 32.449357 \r\nL 125.548196 32.243907 \r\nL 128.786107 33.025613 \r\nL 132.024018 34.786666 \r\nL 135.261929 37.509469 \r\nL 138.49984 41.166818 \r\nL 141.737751 45.722169 \r\nL 144.975662 51.130007 \r\nL 148.213573 57.336298 \r\nL 151.451484 64.279031 \r\nL 154.689395 71.888837 \r\nL 157.927306 80.089681 \r\nL 161.165217 88.799623 \r\nL 164.403128 97.931637 \r\nL 167.641039 107.394477 \r\nL 170.87895 117.093594 \r\nL 174.116861 126.932078 \r\nL 177.354772 136.811627 \r\nL 180.592683 146.633527 \r\nL 183.830594 156.29964 \r\nL 187.068505 165.713387 \r\nL 190.306416 174.780707 \r\nL 193.544327 183.411005 \r\nL 196.782238 191.518047 \r\nL 200.020149 199.020832 \r\nL 203.25806 205.844395 \r\nL 206.495971 211.920555 \r\nL 209.733882 217.188603 \r\nL 212.971793 221.595902 \r\nL 216.209704 225.098415 \r\nL 219.447615 227.661147 \r\nL 222.685526 229.258492 \r\nL 225.923437 229.874489 \r\nL 229.161349 229.502983 \r\nL 232.39926 228.147687 \r\nL 235.637171 225.822143 \r\nL 238.875082 222.549585 \r\nL 242.112993 218.362714 \r\nL 245.350904 213.303362 \r\nL 248.588815 207.42208 \r\nL 251.826726 200.777634 \r\nL 255.064637 193.436411 \r\nL 258.302548 185.471763 \r\nL 261.540459 176.96327 \r\nL 264.77837 167.995946 \r\nL 268.016281 158.659389 \r\nL 271.254192 149.046888 \r\nL 274.492103 139.254487 \r\nL 277.730014 129.380029 \r\nL 280.967925 119.522176 \r\nL 284.205836 109.779424 \r\nL 287.443747 100.249121 \r\nL 290.681658 91.026488 \r\nL 293.919569 82.203677 \r\nL 297.15748 73.868841 \r\nL 300.395391 66.10526 \r\nL 303.633302 58.990504 \r\nL 306.871213 52.595662 \r\nL 310.109124 46.984629 \r\nL 313.347035 42.213469 \r\nL 316.584946 38.329853 \r\nL 319.822857 35.372586 \r\nL 323.060768 33.371215 \r\nL 326.298679 32.345737 \r\nL 329.53659 32.306399 \r\nL 332.774501 33.253594 \r\nL 336.012412 35.177857 \r\nL 339.250323 38.059962 \r\nL 342.488234 41.871113 \r\nL 345.726145 46.573228 \r\nL 348.964056 52.119327 \r\nL 352.201967 58.453994 \r\nL 355.439879 65.513935 \r\nL 358.67779 73.228611 \r\nL 361.915701 81.520938 \r\nL 365.153612 90.308062 \r\nL 368.391523 99.502186 \r\nL 371.629434 109.011444 \r\nL 374.867345 118.740823 \r\nL 378.105256 128.593111 \r\n\" style=\"fill:none;stroke:#1f77b4;stroke-linecap:square;stroke-width:1.5;\"/>\r\n   </g>\r\n   <g id=\"line2d_16\">\r\n    <path clip-path=\"url(#pf858935584)\" d=\"M 73.741619 32.201761 \r\nL 76.97953 32.69555 \r\nL 80.217441 34.171984 \r\nL 83.455352 36.61631 \r\nL 86.693263 40.004105 \r\nL 89.931174 44.30152 \r\nL 93.169085 49.465616 \r\nL 96.406996 55.444796 \r\nL 99.644908 62.179318 \r\nL 102.882819 69.601891 \r\nL 106.12073 77.638353 \r\nL 109.358641 86.208406 \r\nL 112.596552 95.226421 \r\nL 115.834463 104.602292 \r\nL 119.072374 114.242339 \r\nL 122.310285 124.050242 \r\nL 125.548196 133.928003 \r\nL 128.786107 143.776928 \r\nL 132.024018 153.498608 \r\nL 135.261929 162.995909 \r\nL 138.49984 172.173936 \r\nL 141.737751 180.940985 \r\nL 144.975662 189.20946 \r\nL 148.213573 196.896744 \r\nL 151.451484 203.926028 \r\nL 154.689395 210.227078 \r\nL 157.927306 215.736936 \r\nL 161.165217 220.400549 \r\nL 164.403128 224.171321 \r\nL 167.641039 227.011574 \r\nL 170.87895 228.892931 \r\nL 174.116861 229.796592 \r\nL 177.354772 229.713529 \r\nL 180.592683 228.644572 \r\nL 183.830594 226.600402 \r\nL 187.068505 223.601443 \r\nL 190.306416 219.67766 \r\nL 193.544327 214.868257 \r\nL 196.782238 209.22129 \r\nL 200.020149 202.79318 \r\nL 203.25806 195.648155 \r\nL 206.495971 187.857606 \r\nL 209.733882 179.499374 \r\nL 212.971793 170.65697 \r\nL 216.209704 161.418747 \r\nL 219.447615 151.877007 \r\nL 222.685526 142.127091 \r\nL 225.923437 132.266415 \r\nL 229.161349 122.393504 \r\nL 232.39926 112.607006 \r\nL 235.637171 103.004703 \r\nL 238.875082 93.682538 \r\nL 242.112993 84.733657 \r\nL 245.350904 76.247472 \r\nL 248.588815 68.308775 \r\nL 251.826726 60.996886 \r\nL 255.064637 54.384865 \r\nL 258.302548 48.538776 \r\nL 261.540459 43.51703 \r\nL 264.77837 39.369805 \r\nL 268.016281 36.138536 \r\nL 271.254192 33.855512 \r\nL 274.492103 32.543541 \r\nL 277.730014 32.215734 \r\nL 280.967925 32.875365 \r\nL 284.205836 34.515844 \r\nL 287.443747 37.12078 \r\nL 290.681658 40.664144 \r\nL 293.919569 45.110534 \r\nL 297.15748 50.415521 \r\nL 300.395391 56.526101 \r\nL 303.633302 63.381218 \r\nL 306.871213 70.912379 \r\nL 310.109124 79.044334 \r\nL 313.347035 87.695831 \r\nL 316.584946 96.780429 \r\nL 319.822857 106.207356 \r\nL 323.060768 115.882421 \r\nL 326.298679 125.708955 \r\nL 329.53659 135.588775 \r\nL 332.774501 145.423164 \r\nL 336.012412 155.11386 \r\nL 339.250323 164.564037 \r\nL 342.488234 173.679272 \r\nL 345.726145 182.368489 \r\nL 348.964056 190.544868 \r\nL 352.201967 198.126713 \r\nL 355.439879 205.038269 \r\nL 358.67779 211.210478 \r\nL 361.915701 216.581669 \r\nL 365.153612 221.098175 \r\nL 368.391523 224.714869 \r\nL 371.629434 227.395613 \r\nL 374.867345 229.113624 \r\nL 378.105256 229.851734 \r\n\" style=\"fill:none;stroke:#ff7f0e;stroke-linecap:square;stroke-width:1.5;\"/>\r\n   </g>\r\n   <g id=\"patch_3\">\r\n    <path d=\"M 58.523438 239.758125 \r\nL 58.523438 22.318125 \r\n\" style=\"fill:none;stroke:#000000;stroke-linecap:square;stroke-linejoin:miter;stroke-width:0.8;\"/>\r\n   </g>\r\n   <g id=\"patch_4\">\r\n    <path d=\"M 393.323438 239.758125 \r\nL 393.323438 22.318125 \r\n\" style=\"fill:none;stroke:#000000;stroke-linecap:square;stroke-linejoin:miter;stroke-width:0.8;\"/>\r\n   </g>\r\n   <g id=\"patch_5\">\r\n    <path d=\"M 58.523438 239.758125 \r\nL 393.323437 239.758125 \r\n\" style=\"fill:none;stroke:#000000;stroke-linecap:square;stroke-linejoin:miter;stroke-width:0.8;\"/>\r\n   </g>\r\n   <g id=\"patch_6\">\r\n    <path d=\"M 58.523438 22.318125 \r\nL 393.323437 22.318125 \r\n\" style=\"fill:none;stroke:#000000;stroke-linecap:square;stroke-linejoin:miter;stroke-width:0.8;\"/>\r\n   </g>\r\n   <g id=\"text_17\">\r\n    <!-- Sine and Cosine -->\r\n    <g transform=\"translate(177.703125 16.318125)scale(0.12 -0.12)\">\r\n     <defs>\r\n      <path d=\"M 53.515625 70.515625 \r\nL 53.515625 60.890625 \r\nQ 47.90625 63.578125 42.921875 64.890625 \r\nQ 37.9375 66.21875 33.296875 66.21875 \r\nQ 25.25 66.21875 20.875 63.09375 \r\nQ 16.5 59.96875 16.5 54.203125 \r\nQ 16.5 49.359375 19.40625 46.890625 \r\nQ 22.3125 44.4375 30.421875 42.921875 \r\nL 36.375 41.703125 \r\nQ 47.40625 39.59375 52.65625 34.296875 \r\nQ 57.90625 29 57.90625 20.125 \r\nQ 57.90625 9.515625 50.796875 4.046875 \r\nQ 43.703125 -1.421875 29.984375 -1.421875 \r\nQ 24.8125 -1.421875 18.96875 -0.25 \r\nQ 13.140625 0.921875 6.890625 3.21875 \r\nL 6.890625 13.375 \r\nQ 12.890625 10.015625 18.65625 8.296875 \r\nQ 24.421875 6.59375 29.984375 6.59375 \r\nQ 38.421875 6.59375 43.015625 9.90625 \r\nQ 47.609375 13.234375 47.609375 19.390625 \r\nQ 47.609375 24.75 44.3125 27.78125 \r\nQ 41.015625 30.8125 33.5 32.328125 \r\nL 27.484375 33.5 \r\nQ 16.453125 35.6875 11.515625 40.375 \r\nQ 6.59375 45.0625 6.59375 53.421875 \r\nQ 6.59375 63.09375 13.40625 68.65625 \r\nQ 20.21875 74.21875 32.171875 74.21875 \r\nQ 37.3125 74.21875 42.625 73.28125 \r\nQ 47.953125 72.359375 53.515625 70.515625 \r\nz\r\n\" id=\"DejaVuSans-83\"/>\r\n      <path d=\"M 54.890625 33.015625 \r\nL 54.890625 0 \r\nL 45.90625 0 \r\nL 45.90625 32.71875 \r\nQ 45.90625 40.484375 42.875 44.328125 \r\nQ 39.84375 48.1875 33.796875 48.1875 \r\nQ 26.515625 48.1875 22.3125 43.546875 \r\nQ 18.109375 38.921875 18.109375 30.90625 \r\nL 18.109375 0 \r\nL 9.078125 0 \r\nL 9.078125 54.6875 \r\nL 18.109375 54.6875 \r\nL 18.109375 46.1875 \r\nQ 21.34375 51.125 25.703125 53.5625 \r\nQ 30.078125 56 35.796875 56 \r\nQ 45.21875 56 50.046875 50.171875 \r\nQ 54.890625 44.34375 54.890625 33.015625 \r\nz\r\n\" id=\"DejaVuSans-110\"/>\r\n      <path d=\"M 45.40625 46.390625 \r\nL 45.40625 75.984375 \r\nL 54.390625 75.984375 \r\nL 54.390625 0 \r\nL 45.40625 0 \r\nL 45.40625 8.203125 \r\nQ 42.578125 3.328125 38.25 0.953125 \r\nQ 33.9375 -1.421875 27.875 -1.421875 \r\nQ 17.96875 -1.421875 11.734375 6.484375 \r\nQ 5.515625 14.40625 5.515625 27.296875 \r\nQ 5.515625 40.1875 11.734375 48.09375 \r\nQ 17.96875 56 27.875 56 \r\nQ 33.9375 56 38.25 53.625 \r\nQ 42.578125 51.265625 45.40625 46.390625 \r\nz\r\nM 14.796875 27.296875 \r\nQ 14.796875 17.390625 18.875 11.75 \r\nQ 22.953125 6.109375 30.078125 6.109375 \r\nQ 37.203125 6.109375 41.296875 11.75 \r\nQ 45.40625 17.390625 45.40625 27.296875 \r\nQ 45.40625 37.203125 41.296875 42.84375 \r\nQ 37.203125 48.484375 30.078125 48.484375 \r\nQ 22.953125 48.484375 18.875 42.84375 \r\nQ 14.796875 37.203125 14.796875 27.296875 \r\nz\r\n\" id=\"DejaVuSans-100\"/>\r\n      <path d=\"M 64.40625 67.28125 \r\nL 64.40625 56.890625 \r\nQ 59.421875 61.53125 53.78125 63.8125 \r\nQ 48.140625 66.109375 41.796875 66.109375 \r\nQ 29.296875 66.109375 22.65625 58.46875 \r\nQ 16.015625 50.828125 16.015625 36.375 \r\nQ 16.015625 21.96875 22.65625 14.328125 \r\nQ 29.296875 6.6875 41.796875 6.6875 \r\nQ 48.140625 6.6875 53.78125 8.984375 \r\nQ 59.421875 11.28125 64.40625 15.921875 \r\nL 64.40625 5.609375 \r\nQ 59.234375 2.09375 53.4375 0.328125 \r\nQ 47.65625 -1.421875 41.21875 -1.421875 \r\nQ 24.65625 -1.421875 15.125 8.703125 \r\nQ 5.609375 18.84375 5.609375 36.375 \r\nQ 5.609375 53.953125 15.125 64.078125 \r\nQ 24.65625 74.21875 41.21875 74.21875 \r\nQ 47.75 74.21875 53.53125 72.484375 \r\nQ 59.328125 70.75 64.40625 67.28125 \r\nz\r\n\" id=\"DejaVuSans-67\"/>\r\n      <path d=\"M 30.609375 48.390625 \r\nQ 23.390625 48.390625 19.1875 42.75 \r\nQ 14.984375 37.109375 14.984375 27.296875 \r\nQ 14.984375 17.484375 19.15625 11.84375 \r\nQ 23.34375 6.203125 30.609375 6.203125 \r\nQ 37.796875 6.203125 41.984375 11.859375 \r\nQ 46.1875 17.53125 46.1875 27.296875 \r\nQ 46.1875 37.015625 41.984375 42.703125 \r\nQ 37.796875 48.390625 30.609375 48.390625 \r\nz\r\nM 30.609375 56 \r\nQ 42.328125 56 49.015625 48.375 \r\nQ 55.71875 40.765625 55.71875 27.296875 \r\nQ 55.71875 13.875 49.015625 6.21875 \r\nQ 42.328125 -1.421875 30.609375 -1.421875 \r\nQ 18.84375 -1.421875 12.171875 6.21875 \r\nQ 5.515625 13.875 5.515625 27.296875 \r\nQ 5.515625 40.765625 12.171875 48.375 \r\nQ 18.84375 56 30.609375 56 \r\nz\r\n\" id=\"DejaVuSans-111\"/>\r\n     </defs>\r\n     <use xlink:href=\"#DejaVuSans-83\"/>\r\n     <use x=\"63.476562\" xlink:href=\"#DejaVuSans-105\"/>\r\n     <use x=\"91.259766\" xlink:href=\"#DejaVuSans-110\"/>\r\n     <use x=\"154.638672\" xlink:href=\"#DejaVuSans-101\"/>\r\n     <use x=\"216.162109\" xlink:href=\"#DejaVuSans-32\"/>\r\n     <use x=\"247.949219\" xlink:href=\"#DejaVuSans-97\"/>\r\n     <use x=\"309.228516\" xlink:href=\"#DejaVuSans-110\"/>\r\n     <use x=\"372.607422\" xlink:href=\"#DejaVuSans-100\"/>\r\n     <use x=\"436.083984\" xlink:href=\"#DejaVuSans-32\"/>\r\n     <use x=\"467.871094\" xlink:href=\"#DejaVuSans-67\"/>\r\n     <use x=\"537.695312\" xlink:href=\"#DejaVuSans-111\"/>\r\n     <use x=\"598.876953\" xlink:href=\"#DejaVuSans-115\"/>\r\n     <use x=\"650.976562\" xlink:href=\"#DejaVuSans-105\"/>\r\n     <use x=\"678.759766\" xlink:href=\"#DejaVuSans-110\"/>\r\n     <use x=\"742.138672\" xlink:href=\"#DejaVuSans-101\"/>\r\n    </g>\r\n   </g>\r\n   <g id=\"legend_1\">\r\n    <g id=\"patch_7\">\r\n     <path d=\"M 65.523438 234.758125 \r\nL 131.103125 234.758125 \r\nQ 133.103125 234.758125 133.103125 232.758125 \r\nL 133.103125 204.401875 \r\nQ 133.103125 202.401875 131.103125 202.401875 \r\nL 65.523438 202.401875 \r\nQ 63.523438 202.401875 63.523438 204.401875 \r\nL 63.523438 232.758125 \r\nQ 63.523438 234.758125 65.523438 234.758125 \r\nz\r\n\" style=\"fill:#ffffff;opacity:0.8;stroke:#cccccc;stroke-linejoin:miter;\"/>\r\n    </g>\r\n    <g id=\"line2d_17\">\r\n     <path d=\"M 67.523438 210.500312 \r\nL 87.523438 210.500312 \r\n\" style=\"fill:none;stroke:#1f77b4;stroke-linecap:square;stroke-width:1.5;\"/>\r\n    </g>\r\n    <g id=\"line2d_18\"/>\r\n    <g id=\"text_18\">\r\n     <!-- Sine -->\r\n     <g transform=\"translate(95.523438 214.000312)scale(0.1 -0.1)\">\r\n      <use xlink:href=\"#DejaVuSans-83\"/>\r\n      <use x=\"63.476562\" xlink:href=\"#DejaVuSans-105\"/>\r\n      <use x=\"91.259766\" xlink:href=\"#DejaVuSans-110\"/>\r\n      <use x=\"154.638672\" xlink:href=\"#DejaVuSans-101\"/>\r\n     </g>\r\n    </g>\r\n    <g id=\"line2d_19\">\r\n     <path d=\"M 67.523438 225.178437 \r\nL 87.523438 225.178437 \r\n\" style=\"fill:none;stroke:#ff7f0e;stroke-linecap:square;stroke-width:1.5;\"/>\r\n    </g>\r\n    <g id=\"line2d_20\"/>\r\n    <g id=\"text_19\">\r\n     <!-- Cosine -->\r\n     <g transform=\"translate(95.523438 228.678437)scale(0.1 -0.1)\">\r\n      <use xlink:href=\"#DejaVuSans-67\"/>\r\n      <use x=\"69.824219\" xlink:href=\"#DejaVuSans-111\"/>\r\n      <use x=\"131.005859\" xlink:href=\"#DejaVuSans-115\"/>\r\n      <use x=\"183.105469\" xlink:href=\"#DejaVuSans-105\"/>\r\n      <use x=\"210.888672\" xlink:href=\"#DejaVuSans-110\"/>\r\n      <use x=\"274.267578\" xlink:href=\"#DejaVuSans-101\"/>\r\n     </g>\r\n    </g>\r\n   </g>\r\n  </g>\r\n </g>\r\n <defs>\r\n  <clipPath id=\"pf858935584\">\r\n   <rect height=\"217.44\" width=\"334.8\" x=\"58.523438\" y=\"22.318125\"/>\r\n  </clipPath>\r\n </defs>\r\n</svg>\r\n",
            "image/png": "[encoded data removed]"
          },
          "metadata": {
            "needs_background": "light"
          }
        }
      ]
    },
    {
      "cell_type": "markdown",
      "metadata": {
        "id": "tUmTvJD3lsT8"
      },
      "source": [
        "### Subplots \n",
        "\n",
        "You can plot different things in the same figure using the subplot function. Here is an example:"
      ]
    },
    {
      "cell_type": "code",
      "metadata": {
        "id": "cKlKQSeqlsT9",
        "colab": {
          "base_uri": "https://localhost:8080/",
          "height": 281
        },
        "outputId": "9861a98e-f743-4ea6-e729-97f32edf2481"
      },
      "source": [
        "# Compute the x and y coordinates for points on sine and cosine curves\n",
        "x = np.arange(0, 3 * np.pi, 0.1)\n",
        "y_sin = np.sin(x)\n",
        "y_cos = np.cos(x)\n",
        "\n",
        "# Set up a subplot grid that has height 2 and width 1,\n",
        "# and set the first such subplot as active.\n",
        "plt.subplot(2, 1, 1)\n",
        "\n",
        "# Make the first plot\n",
        "plt.plot(x, y_sin)\n",
        "plt.title('Sine')\n",
        "\n",
        "# Set the second subplot as active, and make the second plot.\n",
        "plt.subplot(2, 1, 2)\n",
        "plt.plot(x, y_cos)\n",
        "plt.title('Cosine')\n",
        "\n",
        "# Show the figure.\n",
        "plt.show()"
      ],
      "execution_count": 76,
      "outputs": [
        {
          "output_type": "display_data",
          "data": {
            "text/plain": "<Figure size 432x288 with 2 Axes>",
            "image/svg+xml": "<?xml version=\"1.0\" encoding=\"utf-8\" standalone=\"no\"?>\r\n<!DOCTYPE svg PUBLIC \"-//W3C//DTD SVG 1.1//EN\"\r\n  \"http://www.w3.org/Graphics/SVG/1.1/DTD/svg11.dtd\">\r\n<!-- Created with matplotlib (https://matplotlib.org/) -->\r\n<svg height=\"263.63625pt\" version=\"1.1\" viewBox=\"0 0 370.942187 263.63625\" width=\"370.942187pt\" xmlns=\"http://www.w3.org/2000/svg\" xmlns:xlink=\"http://www.w3.org/1999/xlink\">\r\n <metadata>\r\n  <rdf:RDF xmlns:cc=\"http://creativecommons.org/ns#\" xmlns:dc=\"http://purl.org/dc/elements/1.1/\" xmlns:rdf=\"http://www.w3.org/1999/02/22-rdf-syntax-ns#\">\r\n   <cc:Work>\r\n    <dc:type rdf:resource=\"http://purl.org/dc/dcmitype/StillImage\"/>\r\n    <dc:date>2021-03-03T21:50:14.840078</dc:date>\r\n    <dc:format>image/svg+xml</dc:format>\r\n    <dc:creator>\r\n     <cc:Agent>\r\n      <dc:title>Matplotlib v3.3.4, https://matplotlib.org/</dc:title>\r\n     </cc:Agent>\r\n    </dc:creator>\r\n   </cc:Work>\r\n  </rdf:RDF>\r\n </metadata>\r\n <defs>\r\n  <style type=\"text/css\">*{stroke-linecap:butt;stroke-linejoin:round;}</style>\r\n </defs>\r\n <g id=\"figure_1\">\r\n  <g id=\"patch_1\">\r\n   <path d=\"M 0 263.63625 \r\nL 370.942187 263.63625 \r\nL 370.942187 0 \r\nL 0 0 \r\nz\r\n\" style=\"fill:none;\"/>\r\n  </g>\r\n  <g id=\"axes_1\">\r\n   <g id=\"patch_2\">\r\n    <path d=\"M 28.942188 121.154489 \r\nL 363.742188 121.154489 \r\nL 363.742188 22.318125 \r\nL 28.942188 22.318125 \r\nz\r\n\" style=\"fill:#ffffff;\"/>\r\n   </g>\r\n   <g id=\"matplotlib.axis_1\">\r\n    <g id=\"xtick_1\">\r\n     <g id=\"line2d_1\">\r\n      <defs>\r\n       <path d=\"M 0 0 \r\nL 0 3.5 \r\n\" id=\"m1fd2109aa6\" style=\"stroke:#000000;stroke-width:0.8;\"/>\r\n      </defs>\r\n      <g>\r\n       <use style=\"stroke:#000000;stroke-width:0.8;\" x=\"44.160369\" xlink:href=\"#m1fd2109aa6\" y=\"121.154489\"/>\r\n      </g>\r\n     </g>\r\n     <g id=\"text_1\">\r\n      <!-- 0 -->\r\n      <g transform=\"translate(40.979119 135.752926)scale(0.1 -0.1)\">\r\n       <defs>\r\n        <path d=\"M 31.78125 66.40625 \r\nQ 24.171875 66.40625 20.328125 58.90625 \r\nQ 16.5 51.421875 16.5 36.375 \r\nQ 16.5 21.390625 20.328125 13.890625 \r\nQ 24.171875 6.390625 31.78125 6.390625 \r\nQ 39.453125 6.390625 43.28125 13.890625 \r\nQ 47.125 21.390625 47.125 36.375 \r\nQ 47.125 51.421875 43.28125 58.90625 \r\nQ 39.453125 66.40625 31.78125 66.40625 \r\nz\r\nM 31.78125 74.21875 \r\nQ 44.046875 74.21875 50.515625 64.515625 \r\nQ 56.984375 54.828125 56.984375 36.375 \r\nQ 56.984375 17.96875 50.515625 8.265625 \r\nQ 44.046875 -1.421875 31.78125 -1.421875 \r\nQ 19.53125 -1.421875 13.0625 8.265625 \r\nQ 6.59375 17.96875 6.59375 36.375 \r\nQ 6.59375 54.828125 13.0625 64.515625 \r\nQ 19.53125 74.21875 31.78125 74.21875 \r\nz\r\n\" id=\"DejaVuSans-48\"/>\r\n       </defs>\r\n       <use xlink:href=\"#DejaVuSans-48\"/>\r\n      </g>\r\n     </g>\r\n    </g>\r\n    <g id=\"xtick_2\">\r\n     <g id=\"line2d_2\">\r\n      <g>\r\n       <use style=\"stroke:#000000;stroke-width:0.8;\" x=\"108.91859\" xlink:href=\"#m1fd2109aa6\" y=\"121.154489\"/>\r\n      </g>\r\n     </g>\r\n     <g id=\"text_2\">\r\n      <!-- 2 -->\r\n      <g transform=\"translate(105.73734 135.752926)scale(0.1 -0.1)\">\r\n       <defs>\r\n        <path d=\"M 19.1875 8.296875 \r\nL 53.609375 8.296875 \r\nL 53.609375 0 \r\nL 7.328125 0 \r\nL 7.328125 8.296875 \r\nQ 12.9375 14.109375 22.625 23.890625 \r\nQ 32.328125 33.6875 34.8125 36.53125 \r\nQ 39.546875 41.84375 41.421875 45.53125 \r\nQ 43.3125 49.21875 43.3125 52.78125 \r\nQ 43.3125 58.59375 39.234375 62.25 \r\nQ 35.15625 65.921875 28.609375 65.921875 \r\nQ 23.96875 65.921875 18.8125 64.3125 \r\nQ 13.671875 62.703125 7.8125 59.421875 \r\nL 7.8125 69.390625 \r\nQ 13.765625 71.78125 18.9375 73 \r\nQ 24.125 74.21875 28.421875 74.21875 \r\nQ 39.75 74.21875 46.484375 68.546875 \r\nQ 53.21875 62.890625 53.21875 53.421875 \r\nQ 53.21875 48.921875 51.53125 44.890625 \r\nQ 49.859375 40.875 45.40625 35.40625 \r\nQ 44.1875 33.984375 37.640625 27.21875 \r\nQ 31.109375 20.453125 19.1875 8.296875 \r\nz\r\n\" id=\"DejaVuSans-50\"/>\r\n       </defs>\r\n       <use xlink:href=\"#DejaVuSans-50\"/>\r\n      </g>\r\n     </g>\r\n    </g>\r\n    <g id=\"xtick_3\">\r\n     <g id=\"line2d_3\">\r\n      <g>\r\n       <use style=\"stroke:#000000;stroke-width:0.8;\" x=\"173.67681\" xlink:href=\"#m1fd2109aa6\" y=\"121.154489\"/>\r\n      </g>\r\n     </g>\r\n     <g id=\"text_3\">\r\n      <!-- 4 -->\r\n      <g transform=\"translate(170.49556 135.752926)scale(0.1 -0.1)\">\r\n       <defs>\r\n        <path d=\"M 37.796875 64.3125 \r\nL 12.890625 25.390625 \r\nL 37.796875 25.390625 \r\nz\r\nM 35.203125 72.90625 \r\nL 47.609375 72.90625 \r\nL 47.609375 25.390625 \r\nL 58.015625 25.390625 \r\nL 58.015625 17.1875 \r\nL 47.609375 17.1875 \r\nL 47.609375 0 \r\nL 37.796875 0 \r\nL 37.796875 17.1875 \r\nL 4.890625 17.1875 \r\nL 4.890625 26.703125 \r\nz\r\n\" id=\"DejaVuSans-52\"/>\r\n       </defs>\r\n       <use xlink:href=\"#DejaVuSans-52\"/>\r\n      </g>\r\n     </g>\r\n    </g>\r\n    <g id=\"xtick_4\">\r\n     <g id=\"line2d_4\">\r\n      <g>\r\n       <use style=\"stroke:#000000;stroke-width:0.8;\" x=\"238.435031\" xlink:href=\"#m1fd2109aa6\" y=\"121.154489\"/>\r\n      </g>\r\n     </g>\r\n     <g id=\"text_4\">\r\n      <!-- 6 -->\r\n      <g transform=\"translate(235.253781 135.752926)scale(0.1 -0.1)\">\r\n       <defs>\r\n        <path d=\"M 33.015625 40.375 \r\nQ 26.375 40.375 22.484375 35.828125 \r\nQ 18.609375 31.296875 18.609375 23.390625 \r\nQ 18.609375 15.53125 22.484375 10.953125 \r\nQ 26.375 6.390625 33.015625 6.390625 \r\nQ 39.65625 6.390625 43.53125 10.953125 \r\nQ 47.40625 15.53125 47.40625 23.390625 \r\nQ 47.40625 31.296875 43.53125 35.828125 \r\nQ 39.65625 40.375 33.015625 40.375 \r\nz\r\nM 52.59375 71.296875 \r\nL 52.59375 62.3125 \r\nQ 48.875 64.0625 45.09375 64.984375 \r\nQ 41.3125 65.921875 37.59375 65.921875 \r\nQ 27.828125 65.921875 22.671875 59.328125 \r\nQ 17.53125 52.734375 16.796875 39.40625 \r\nQ 19.671875 43.65625 24.015625 45.921875 \r\nQ 28.375 48.1875 33.59375 48.1875 \r\nQ 44.578125 48.1875 50.953125 41.515625 \r\nQ 57.328125 34.859375 57.328125 23.390625 \r\nQ 57.328125 12.15625 50.6875 5.359375 \r\nQ 44.046875 -1.421875 33.015625 -1.421875 \r\nQ 20.359375 -1.421875 13.671875 8.265625 \r\nQ 6.984375 17.96875 6.984375 36.375 \r\nQ 6.984375 53.65625 15.1875 63.9375 \r\nQ 23.390625 74.21875 37.203125 74.21875 \r\nQ 40.921875 74.21875 44.703125 73.484375 \r\nQ 48.484375 72.75 52.59375 71.296875 \r\nz\r\n\" id=\"DejaVuSans-54\"/>\r\n       </defs>\r\n       <use xlink:href=\"#DejaVuSans-54\"/>\r\n      </g>\r\n     </g>\r\n    </g>\r\n    <g id=\"xtick_5\">\r\n     <g id=\"line2d_5\">\r\n      <g>\r\n       <use style=\"stroke:#000000;stroke-width:0.8;\" x=\"303.193251\" xlink:href=\"#m1fd2109aa6\" y=\"121.154489\"/>\r\n      </g>\r\n     </g>\r\n     <g id=\"text_5\">\r\n      <!-- 8 -->\r\n      <g transform=\"translate(300.012001 135.752926)scale(0.1 -0.1)\">\r\n       <defs>\r\n        <path d=\"M 31.78125 34.625 \r\nQ 24.75 34.625 20.71875 30.859375 \r\nQ 16.703125 27.09375 16.703125 20.515625 \r\nQ 16.703125 13.921875 20.71875 10.15625 \r\nQ 24.75 6.390625 31.78125 6.390625 \r\nQ 38.8125 6.390625 42.859375 10.171875 \r\nQ 46.921875 13.96875 46.921875 20.515625 \r\nQ 46.921875 27.09375 42.890625 30.859375 \r\nQ 38.875 34.625 31.78125 34.625 \r\nz\r\nM 21.921875 38.8125 \r\nQ 15.578125 40.375 12.03125 44.71875 \r\nQ 8.5 49.078125 8.5 55.328125 \r\nQ 8.5 64.0625 14.71875 69.140625 \r\nQ 20.953125 74.21875 31.78125 74.21875 \r\nQ 42.671875 74.21875 48.875 69.140625 \r\nQ 55.078125 64.0625 55.078125 55.328125 \r\nQ 55.078125 49.078125 51.53125 44.71875 \r\nQ 48 40.375 41.703125 38.8125 \r\nQ 48.828125 37.15625 52.796875 32.3125 \r\nQ 56.78125 27.484375 56.78125 20.515625 \r\nQ 56.78125 9.90625 50.3125 4.234375 \r\nQ 43.84375 -1.421875 31.78125 -1.421875 \r\nQ 19.734375 -1.421875 13.25 4.234375 \r\nQ 6.78125 9.90625 6.78125 20.515625 \r\nQ 6.78125 27.484375 10.78125 32.3125 \r\nQ 14.796875 37.15625 21.921875 38.8125 \r\nz\r\nM 18.3125 54.390625 \r\nQ 18.3125 48.734375 21.84375 45.5625 \r\nQ 25.390625 42.390625 31.78125 42.390625 \r\nQ 38.140625 42.390625 41.71875 45.5625 \r\nQ 45.3125 48.734375 45.3125 54.390625 \r\nQ 45.3125 60.0625 41.71875 63.234375 \r\nQ 38.140625 66.40625 31.78125 66.40625 \r\nQ 25.390625 66.40625 21.84375 63.234375 \r\nQ 18.3125 60.0625 18.3125 54.390625 \r\nz\r\n\" id=\"DejaVuSans-56\"/>\r\n       </defs>\r\n       <use xlink:href=\"#DejaVuSans-56\"/>\r\n      </g>\r\n     </g>\r\n    </g>\r\n   </g>\r\n   <g id=\"matplotlib.axis_2\">\r\n    <g id=\"ytick_1\">\r\n     <g id=\"line2d_6\">\r\n      <defs>\r\n       <path d=\"M 0 0 \r\nL -3.5 0 \r\n\" id=\"m5d41ffbfb5\" style=\"stroke:#000000;stroke-width:0.8;\"/>\r\n      </defs>\r\n      <g>\r\n       <use style=\"stroke:#000000;stroke-width:0.8;\" x=\"28.942188\" xlink:href=\"#m5d41ffbfb5\" y=\"116.665375\"/>\r\n      </g>\r\n     </g>\r\n     <g id=\"text_6\">\r\n      <!-- −1 -->\r\n      <g transform=\"translate(7.2 120.464594)scale(0.1 -0.1)\">\r\n       <defs>\r\n        <path d=\"M 10.59375 35.5 \r\nL 73.1875 35.5 \r\nL 73.1875 27.203125 \r\nL 10.59375 27.203125 \r\nz\r\n\" id=\"DejaVuSans-8722\"/>\r\n        <path d=\"M 12.40625 8.296875 \r\nL 28.515625 8.296875 \r\nL 28.515625 63.921875 \r\nL 10.984375 60.40625 \r\nL 10.984375 69.390625 \r\nL 28.421875 72.90625 \r\nL 38.28125 72.90625 \r\nL 38.28125 8.296875 \r\nL 54.390625 8.296875 \r\nL 54.390625 0 \r\nL 12.40625 0 \r\nz\r\n\" id=\"DejaVuSans-49\"/>\r\n       </defs>\r\n       <use xlink:href=\"#DejaVuSans-8722\"/>\r\n       <use x=\"83.789062\" xlink:href=\"#DejaVuSans-49\"/>\r\n      </g>\r\n     </g>\r\n    </g>\r\n    <g id=\"ytick_2\">\r\n     <g id=\"line2d_7\">\r\n      <g>\r\n       <use style=\"stroke:#000000;stroke-width:0.8;\" x=\"28.942188\" xlink:href=\"#m5d41ffbfb5\" y=\"71.728451\"/>\r\n      </g>\r\n     </g>\r\n     <g id=\"text_7\">\r\n      <!-- 0 -->\r\n      <g transform=\"translate(15.579688 75.527669)scale(0.1 -0.1)\">\r\n       <use xlink:href=\"#DejaVuSans-48\"/>\r\n      </g>\r\n     </g>\r\n    </g>\r\n    <g id=\"ytick_3\">\r\n     <g id=\"line2d_8\">\r\n      <g>\r\n       <use style=\"stroke:#000000;stroke-width:0.8;\" x=\"28.942188\" xlink:href=\"#m5d41ffbfb5\" y=\"26.791526\"/>\r\n      </g>\r\n     </g>\r\n     <g id=\"text_8\">\r\n      <!-- 1 -->\r\n      <g transform=\"translate(15.579688 30.590745)scale(0.1 -0.1)\">\r\n       <use xlink:href=\"#DejaVuSans-49\"/>\r\n      </g>\r\n     </g>\r\n    </g>\r\n   </g>\r\n   <g id=\"line2d_9\">\r\n    <path clip-path=\"url(#pb4c73c7d0c)\" d=\"M 44.160369 71.728451 \r\nL 47.39828 67.242244 \r\nL 50.636191 62.800862 \r\nL 53.874102 58.448681 \r\nL 57.112013 54.229188 \r\nL 60.349924 50.184541 \r\nL 63.587835 46.355154 \r\nL 66.825746 42.779289 \r\nL 70.063658 39.492674 \r\nL 73.301569 36.528148 \r\nL 76.53948 33.915332 \r\nL 79.777391 31.680333 \r\nL 83.015302 29.84548 \r\nL 86.253213 28.429109 \r\nL 89.491124 27.44537 \r\nL 92.729035 26.904094 \r\nL 95.966946 26.810687 \r\nL 99.204857 27.166084 \r\nL 102.442768 27.966733 \r\nL 105.680679 29.204635 \r\nL 108.91859 30.867421 \r\nL 112.156501 32.938476 \r\nL 115.394412 35.397109 \r\nL 118.632323 38.218752 \r\nL 121.870234 41.375213 \r\nL 125.108145 44.834953 \r\nL 128.346056 48.563404 \r\nL 131.583967 52.523313 \r\nL 134.821878 56.675113 \r\nL 138.059789 60.977322 \r\nL 141.2977 65.386951 \r\nL 144.535611 69.859944 \r\nL 147.773522 74.351605 \r\nL 151.011433 78.817057 \r\nL 154.249344 83.211682 \r\nL 157.487255 87.49157 \r\nL 160.725166 91.613958 \r\nL 163.963077 95.537657 \r\nL 167.200988 99.223463 \r\nL 170.438899 102.634547 \r\nL 173.67681 105.736827 \r\nL 176.914721 108.499307 \r\nL 180.152632 110.894385 \r\nL 183.390543 112.89813 \r\nL 186.628454 114.490521 \r\nL 189.866365 115.655648 \r\nL 193.104276 116.381868 \r\nL 196.342187 116.661927 \r\nL 199.580099 116.493025 \r\nL 202.81801 115.87685 \r\nL 206.055921 114.819558 \r\nL 209.293832 113.331715 \r\nL 212.531743 111.428186 \r\nL 215.769654 109.12799 \r\nL 219.007565 106.45411 \r\nL 222.245476 103.433263 \r\nL 225.483387 100.095632 \r\nL 228.721298 96.474565 \r\nL 231.959209 92.606244 \r\nL 235.19712 88.529318 \r\nL 238.435031 84.284524 \r\nL 241.672942 79.914273 \r\nL 244.910853 75.462233 \r\nL 248.148764 70.972886 \r\nL 251.386675 66.491088 \r\nL 254.624586 62.06162 \r\nL 257.862497 57.72874 \r\nL 261.100408 53.53574 \r\nL 264.338319 49.524516 \r\nL 267.57623 45.735147 \r\nL 270.814141 42.205493 \r\nL 274.052052 38.970824 \r\nL 277.289963 36.063458 \r\nL 280.527874 33.512444 \r\nL 283.765785 31.343273 \r\nL 287.003696 29.577616 \r\nL 290.241607 28.233117 \r\nL 293.479518 27.323209 \r\nL 296.717429 26.856984 \r\nL 299.95534 26.839099 \r\nL 303.193251 27.269734 \r\nL 306.431162 28.144585 \r\nL 309.669073 29.454913 \r\nL 312.906984 31.187623 \r\nL 316.144895 33.325404 \r\nL 319.382806 35.846895 \r\nL 322.620717 38.726904 \r\nL 325.858629 41.936652 \r\nL 329.09654 45.444071 \r\nL 332.334451 49.214114 \r\nL 335.572362 53.209113 \r\nL 338.810273 57.389152 \r\nL 342.048184 61.712463 \r\nL 345.286095 66.135852 \r\nL 348.524006 70.615119 \r\n\" style=\"fill:none;stroke:#1f77b4;stroke-linecap:square;stroke-width:1.5;\"/>\r\n   </g>\r\n   <g id=\"patch_3\">\r\n    <path d=\"M 28.942188 121.154489 \r\nL 28.942188 22.318125 \r\n\" style=\"fill:none;stroke:#000000;stroke-linecap:square;stroke-linejoin:miter;stroke-width:0.8;\"/>\r\n   </g>\r\n   <g id=\"patch_4\">\r\n    <path d=\"M 363.742188 121.154489 \r\nL 363.742188 22.318125 \r\n\" style=\"fill:none;stroke:#000000;stroke-linecap:square;stroke-linejoin:miter;stroke-width:0.8;\"/>\r\n   </g>\r\n   <g id=\"patch_5\">\r\n    <path d=\"M 28.942188 121.154489 \r\nL 363.742187 121.154489 \r\n\" style=\"fill:none;stroke:#000000;stroke-linecap:square;stroke-linejoin:miter;stroke-width:0.8;\"/>\r\n   </g>\r\n   <g id=\"patch_6\">\r\n    <path d=\"M 28.942188 22.318125 \r\nL 363.742187 22.318125 \r\n\" style=\"fill:none;stroke:#000000;stroke-linecap:square;stroke-linejoin:miter;stroke-width:0.8;\"/>\r\n   </g>\r\n   <g id=\"text_9\">\r\n    <!-- Sine -->\r\n    <g transform=\"translate(183.371875 16.318125)scale(0.12 -0.12)\">\r\n     <defs>\r\n      <path d=\"M 53.515625 70.515625 \r\nL 53.515625 60.890625 \r\nQ 47.90625 63.578125 42.921875 64.890625 \r\nQ 37.9375 66.21875 33.296875 66.21875 \r\nQ 25.25 66.21875 20.875 63.09375 \r\nQ 16.5 59.96875 16.5 54.203125 \r\nQ 16.5 49.359375 19.40625 46.890625 \r\nQ 22.3125 44.4375 30.421875 42.921875 \r\nL 36.375 41.703125 \r\nQ 47.40625 39.59375 52.65625 34.296875 \r\nQ 57.90625 29 57.90625 20.125 \r\nQ 57.90625 9.515625 50.796875 4.046875 \r\nQ 43.703125 -1.421875 29.984375 -1.421875 \r\nQ 24.8125 -1.421875 18.96875 -0.25 \r\nQ 13.140625 0.921875 6.890625 3.21875 \r\nL 6.890625 13.375 \r\nQ 12.890625 10.015625 18.65625 8.296875 \r\nQ 24.421875 6.59375 29.984375 6.59375 \r\nQ 38.421875 6.59375 43.015625 9.90625 \r\nQ 47.609375 13.234375 47.609375 19.390625 \r\nQ 47.609375 24.75 44.3125 27.78125 \r\nQ 41.015625 30.8125 33.5 32.328125 \r\nL 27.484375 33.5 \r\nQ 16.453125 35.6875 11.515625 40.375 \r\nQ 6.59375 45.0625 6.59375 53.421875 \r\nQ 6.59375 63.09375 13.40625 68.65625 \r\nQ 20.21875 74.21875 32.171875 74.21875 \r\nQ 37.3125 74.21875 42.625 73.28125 \r\nQ 47.953125 72.359375 53.515625 70.515625 \r\nz\r\n\" id=\"DejaVuSans-83\"/>\r\n      <path d=\"M 9.421875 54.6875 \r\nL 18.40625 54.6875 \r\nL 18.40625 0 \r\nL 9.421875 0 \r\nz\r\nM 9.421875 75.984375 \r\nL 18.40625 75.984375 \r\nL 18.40625 64.59375 \r\nL 9.421875 64.59375 \r\nz\r\n\" id=\"DejaVuSans-105\"/>\r\n      <path d=\"M 54.890625 33.015625 \r\nL 54.890625 0 \r\nL 45.90625 0 \r\nL 45.90625 32.71875 \r\nQ 45.90625 40.484375 42.875 44.328125 \r\nQ 39.84375 48.1875 33.796875 48.1875 \r\nQ 26.515625 48.1875 22.3125 43.546875 \r\nQ 18.109375 38.921875 18.109375 30.90625 \r\nL 18.109375 0 \r\nL 9.078125 0 \r\nL 9.078125 54.6875 \r\nL 18.109375 54.6875 \r\nL 18.109375 46.1875 \r\nQ 21.34375 51.125 25.703125 53.5625 \r\nQ 30.078125 56 35.796875 56 \r\nQ 45.21875 56 50.046875 50.171875 \r\nQ 54.890625 44.34375 54.890625 33.015625 \r\nz\r\n\" id=\"DejaVuSans-110\"/>\r\n      <path d=\"M 56.203125 29.59375 \r\nL 56.203125 25.203125 \r\nL 14.890625 25.203125 \r\nQ 15.484375 15.921875 20.484375 11.0625 \r\nQ 25.484375 6.203125 34.421875 6.203125 \r\nQ 39.59375 6.203125 44.453125 7.46875 \r\nQ 49.3125 8.734375 54.109375 11.28125 \r\nL 54.109375 2.78125 \r\nQ 49.265625 0.734375 44.1875 -0.34375 \r\nQ 39.109375 -1.421875 33.890625 -1.421875 \r\nQ 20.796875 -1.421875 13.15625 6.1875 \r\nQ 5.515625 13.8125 5.515625 26.8125 \r\nQ 5.515625 40.234375 12.765625 48.109375 \r\nQ 20.015625 56 32.328125 56 \r\nQ 43.359375 56 49.78125 48.890625 \r\nQ 56.203125 41.796875 56.203125 29.59375 \r\nz\r\nM 47.21875 32.234375 \r\nQ 47.125 39.59375 43.09375 43.984375 \r\nQ 39.0625 48.390625 32.421875 48.390625 \r\nQ 24.90625 48.390625 20.390625 44.140625 \r\nQ 15.875 39.890625 15.1875 32.171875 \r\nz\r\n\" id=\"DejaVuSans-101\"/>\r\n     </defs>\r\n     <use xlink:href=\"#DejaVuSans-83\"/>\r\n     <use x=\"63.476562\" xlink:href=\"#DejaVuSans-105\"/>\r\n     <use x=\"91.259766\" xlink:href=\"#DejaVuSans-110\"/>\r\n     <use x=\"154.638672\" xlink:href=\"#DejaVuSans-101\"/>\r\n    </g>\r\n   </g>\r\n  </g>\r\n  <g id=\"axes_2\">\r\n   <g id=\"patch_7\">\r\n    <path d=\"M 28.942188 239.758125 \r\nL 363.742188 239.758125 \r\nL 363.742188 140.921761 \r\nL 28.942188 140.921761 \r\nz\r\n\" style=\"fill:#ffffff;\"/>\r\n   </g>\r\n   <g id=\"matplotlib.axis_3\">\r\n    <g id=\"xtick_6\">\r\n     <g id=\"line2d_10\">\r\n      <g>\r\n       <use style=\"stroke:#000000;stroke-width:0.8;\" x=\"44.160369\" xlink:href=\"#m1fd2109aa6\" y=\"239.758125\"/>\r\n      </g>\r\n     </g>\r\n     <g id=\"text_10\">\r\n      <!-- 0 -->\r\n      <g transform=\"translate(40.979119 254.356562)scale(0.1 -0.1)\">\r\n       <use xlink:href=\"#DejaVuSans-48\"/>\r\n      </g>\r\n     </g>\r\n    </g>\r\n    <g id=\"xtick_7\">\r\n     <g id=\"line2d_11\">\r\n      <g>\r\n       <use style=\"stroke:#000000;stroke-width:0.8;\" x=\"108.91859\" xlink:href=\"#m1fd2109aa6\" y=\"239.758125\"/>\r\n      </g>\r\n     </g>\r\n     <g id=\"text_11\">\r\n      <!-- 2 -->\r\n      <g transform=\"translate(105.73734 254.356562)scale(0.1 -0.1)\">\r\n       <use xlink:href=\"#DejaVuSans-50\"/>\r\n      </g>\r\n     </g>\r\n    </g>\r\n    <g id=\"xtick_8\">\r\n     <g id=\"line2d_12\">\r\n      <g>\r\n       <use style=\"stroke:#000000;stroke-width:0.8;\" x=\"173.67681\" xlink:href=\"#m1fd2109aa6\" y=\"239.758125\"/>\r\n      </g>\r\n     </g>\r\n     <g id=\"text_12\">\r\n      <!-- 4 -->\r\n      <g transform=\"translate(170.49556 254.356562)scale(0.1 -0.1)\">\r\n       <use xlink:href=\"#DejaVuSans-52\"/>\r\n      </g>\r\n     </g>\r\n    </g>\r\n    <g id=\"xtick_9\">\r\n     <g id=\"line2d_13\">\r\n      <g>\r\n       <use style=\"stroke:#000000;stroke-width:0.8;\" x=\"238.435031\" xlink:href=\"#m1fd2109aa6\" y=\"239.758125\"/>\r\n      </g>\r\n     </g>\r\n     <g id=\"text_13\">\r\n      <!-- 6 -->\r\n      <g transform=\"translate(235.253781 254.356562)scale(0.1 -0.1)\">\r\n       <use xlink:href=\"#DejaVuSans-54\"/>\r\n      </g>\r\n     </g>\r\n    </g>\r\n    <g id=\"xtick_10\">\r\n     <g id=\"line2d_14\">\r\n      <g>\r\n       <use style=\"stroke:#000000;stroke-width:0.8;\" x=\"303.193251\" xlink:href=\"#m1fd2109aa6\" y=\"239.758125\"/>\r\n      </g>\r\n     </g>\r\n     <g id=\"text_14\">\r\n      <!-- 8 -->\r\n      <g transform=\"translate(300.012001 254.356562)scale(0.1 -0.1)\">\r\n       <use xlink:href=\"#DejaVuSans-56\"/>\r\n      </g>\r\n     </g>\r\n    </g>\r\n   </g>\r\n   <g id=\"matplotlib.axis_4\">\r\n    <g id=\"ytick_4\">\r\n     <g id=\"line2d_15\">\r\n      <g>\r\n       <use style=\"stroke:#000000;stroke-width:0.8;\" x=\"28.942188\" xlink:href=\"#m5d41ffbfb5\" y=\"235.279355\"/>\r\n      </g>\r\n     </g>\r\n     <g id=\"text_15\">\r\n      <!-- −1 -->\r\n      <g transform=\"translate(7.2 239.078574)scale(0.1 -0.1)\">\r\n       <use xlink:href=\"#DejaVuSans-8722\"/>\r\n       <use x=\"83.789062\" xlink:href=\"#DejaVuSans-49\"/>\r\n      </g>\r\n     </g>\r\n    </g>\r\n    <g id=\"ytick_5\">\r\n     <g id=\"line2d_16\">\r\n      <g>\r\n       <use style=\"stroke:#000000;stroke-width:0.8;\" x=\"28.942188\" xlink:href=\"#m5d41ffbfb5\" y=\"190.346839\"/>\r\n      </g>\r\n     </g>\r\n     <g id=\"text_16\">\r\n      <!-- 0 -->\r\n      <g transform=\"translate(15.579688 194.146058)scale(0.1 -0.1)\">\r\n       <use xlink:href=\"#DejaVuSans-48\"/>\r\n      </g>\r\n     </g>\r\n    </g>\r\n    <g id=\"ytick_6\">\r\n     <g id=\"line2d_17\">\r\n      <g>\r\n       <use style=\"stroke:#000000;stroke-width:0.8;\" x=\"28.942188\" xlink:href=\"#m5d41ffbfb5\" y=\"145.414323\"/>\r\n      </g>\r\n     </g>\r\n     <g id=\"text_17\">\r\n      <!-- 1 -->\r\n      <g transform=\"translate(15.579688 149.213542)scale(0.1 -0.1)\">\r\n       <use xlink:href=\"#DejaVuSans-49\"/>\r\n      </g>\r\n     </g>\r\n    </g>\r\n   </g>\r\n   <g id=\"line2d_18\">\r\n    <path clip-path=\"url(#p9dcbac4b99)\" d=\"M 44.160369 145.414323 \r\nL 47.39828 145.638799 \r\nL 50.636191 146.309982 \r\nL 53.874102 147.421167 \r\nL 57.112013 148.961251 \r\nL 60.349924 150.914847 \r\nL 63.587835 153.262434 \r\nL 66.825746 155.980556 \r\nL 70.063658 159.042054 \r\nL 73.301569 162.41634 \r\nL 76.53948 166.069697 \r\nL 79.777391 169.965624 \r\nL 83.015302 174.065194 \r\nL 86.253213 178.327444 \r\nL 89.491124 182.709788 \r\nL 92.729035 187.168439 \r\nL 95.966946 191.658847 \r\nL 99.204857 196.136147 \r\nL 102.442768 200.555601 \r\nL 105.680679 204.873053 \r\nL 108.91859 209.045364 \r\nL 112.156501 213.030845 \r\nL 115.394412 216.789675 \r\nL 118.632323 220.284297 \r\nL 121.870234 223.479794 \r\nL 125.108145 226.344238 \r\nL 128.346056 228.849007 \r\nL 131.583967 230.969075 \r\nL 134.821878 232.68326 \r\nL 138.059789 233.974433 \r\nL 141.2977 234.829693 \r\nL 144.535611 235.240496 \r\nL 147.773522 235.202735 \r\nL 151.011433 234.71679 \r\nL 154.249344 233.787515 \r\nL 157.487255 232.424194 \r\nL 160.725166 230.640451 \r\nL 163.963077 228.454108 \r\nL 167.200988 225.887009 \r\nL 170.438899 222.964804 \r\nL 173.67681 219.716692 \r\nL 176.914721 216.175126 \r\nL 180.152632 212.375492 \r\nL 183.390543 208.355755 \r\nL 186.628454 204.156078 \r\nL 189.866365 199.818425 \r\nL 193.104276 195.386135 \r\nL 196.342187 190.903493 \r\nL 199.580099 186.41529 \r\nL 202.81801 181.966369 \r\nL 206.055921 177.601184 \r\nL 209.293832 173.363348 \r\nL 212.531743 169.295207 \r\nL 215.769654 165.437406 \r\nL 219.007565 161.828492 \r\nL 222.245476 158.504523 \r\nL 225.483387 155.498713 \r\nL 228.721298 152.841094 \r\nL 231.959209 150.558219 \r\nL 235.19712 148.6729 \r\nL 238.435031 147.203973 \r\nL 241.672942 146.166115 \r\nL 244.910853 145.569696 \r\nL 248.148764 145.420675 \r\nL 251.386675 145.720542 \r\nL 254.624586 146.4663 \r\nL 257.862497 147.650498 \r\nL 261.100408 149.261304 \r\nL 264.338319 151.282623 \r\nL 267.57623 153.694258 \r\nL 270.814141 156.472114 \r\nL 274.052052 159.588435 \r\nL 277.289963 163.012084 \r\nL 280.527874 166.708853 \r\nL 283.765785 170.641805 \r\nL 287.003696 174.771642 \r\nL 290.241607 179.057102 \r\nL 293.479518 183.455366 \r\nL 296.717429 187.922487 \r\nL 299.95534 192.413831 \r\nL 303.193251 196.884522 \r\nL 306.431162 201.289891 \r\nL 309.669073 205.585921 \r\nL 312.906984 209.729686 \r\nL 316.144895 213.679785 \r\nL 319.382806 217.396749 \r\nL 322.620717 220.843439 \r\nL 325.858629 223.985417 \r\nL 329.09654 226.791289 \r\nL 332.334451 229.233021 \r\nL 335.572362 231.286214 \r\nL 338.810273 232.930355 \r\nL 342.048184 234.149016 \r\nL 345.286095 234.93002 \r\nL 348.524006 235.265563 \r\n\" style=\"fill:none;stroke:#1f77b4;stroke-linecap:square;stroke-width:1.5;\"/>\r\n   </g>\r\n   <g id=\"patch_8\">\r\n    <path d=\"M 28.942188 239.758125 \r\nL 28.942188 140.921761 \r\n\" style=\"fill:none;stroke:#000000;stroke-linecap:square;stroke-linejoin:miter;stroke-width:0.8;\"/>\r\n   </g>\r\n   <g id=\"patch_9\">\r\n    <path d=\"M 363.742188 239.758125 \r\nL 363.742188 140.921761 \r\n\" style=\"fill:none;stroke:#000000;stroke-linecap:square;stroke-linejoin:miter;stroke-width:0.8;\"/>\r\n   </g>\r\n   <g id=\"patch_10\">\r\n    <path d=\"M 28.942188 239.758125 \r\nL 363.742187 239.758125 \r\n\" style=\"fill:none;stroke:#000000;stroke-linecap:square;stroke-linejoin:miter;stroke-width:0.8;\"/>\r\n   </g>\r\n   <g id=\"patch_11\">\r\n    <path d=\"M 28.942188 140.921761 \r\nL 363.742187 140.921761 \r\n\" style=\"fill:none;stroke:#000000;stroke-linecap:square;stroke-linejoin:miter;stroke-width:0.8;\"/>\r\n   </g>\r\n   <g id=\"text_18\">\r\n    <!-- Cosine -->\r\n    <g transform=\"translate(176.194375 134.921761)scale(0.12 -0.12)\">\r\n     <defs>\r\n      <path d=\"M 64.40625 67.28125 \r\nL 64.40625 56.890625 \r\nQ 59.421875 61.53125 53.78125 63.8125 \r\nQ 48.140625 66.109375 41.796875 66.109375 \r\nQ 29.296875 66.109375 22.65625 58.46875 \r\nQ 16.015625 50.828125 16.015625 36.375 \r\nQ 16.015625 21.96875 22.65625 14.328125 \r\nQ 29.296875 6.6875 41.796875 6.6875 \r\nQ 48.140625 6.6875 53.78125 8.984375 \r\nQ 59.421875 11.28125 64.40625 15.921875 \r\nL 64.40625 5.609375 \r\nQ 59.234375 2.09375 53.4375 0.328125 \r\nQ 47.65625 -1.421875 41.21875 -1.421875 \r\nQ 24.65625 -1.421875 15.125 8.703125 \r\nQ 5.609375 18.84375 5.609375 36.375 \r\nQ 5.609375 53.953125 15.125 64.078125 \r\nQ 24.65625 74.21875 41.21875 74.21875 \r\nQ 47.75 74.21875 53.53125 72.484375 \r\nQ 59.328125 70.75 64.40625 67.28125 \r\nz\r\n\" id=\"DejaVuSans-67\"/>\r\n      <path d=\"M 30.609375 48.390625 \r\nQ 23.390625 48.390625 19.1875 42.75 \r\nQ 14.984375 37.109375 14.984375 27.296875 \r\nQ 14.984375 17.484375 19.15625 11.84375 \r\nQ 23.34375 6.203125 30.609375 6.203125 \r\nQ 37.796875 6.203125 41.984375 11.859375 \r\nQ 46.1875 17.53125 46.1875 27.296875 \r\nQ 46.1875 37.015625 41.984375 42.703125 \r\nQ 37.796875 48.390625 30.609375 48.390625 \r\nz\r\nM 30.609375 56 \r\nQ 42.328125 56 49.015625 48.375 \r\nQ 55.71875 40.765625 55.71875 27.296875 \r\nQ 55.71875 13.875 49.015625 6.21875 \r\nQ 42.328125 -1.421875 30.609375 -1.421875 \r\nQ 18.84375 -1.421875 12.171875 6.21875 \r\nQ 5.515625 13.875 5.515625 27.296875 \r\nQ 5.515625 40.765625 12.171875 48.375 \r\nQ 18.84375 56 30.609375 56 \r\nz\r\n\" id=\"DejaVuSans-111\"/>\r\n      <path d=\"M 44.28125 53.078125 \r\nL 44.28125 44.578125 \r\nQ 40.484375 46.53125 36.375 47.5 \r\nQ 32.28125 48.484375 27.875 48.484375 \r\nQ 21.1875 48.484375 17.84375 46.4375 \r\nQ 14.5 44.390625 14.5 40.28125 \r\nQ 14.5 37.15625 16.890625 35.375 \r\nQ 19.28125 33.59375 26.515625 31.984375 \r\nL 29.59375 31.296875 \r\nQ 39.15625 29.25 43.1875 25.515625 \r\nQ 47.21875 21.78125 47.21875 15.09375 \r\nQ 47.21875 7.46875 41.1875 3.015625 \r\nQ 35.15625 -1.421875 24.609375 -1.421875 \r\nQ 20.21875 -1.421875 15.453125 -0.5625 \r\nQ 10.6875 0.296875 5.421875 2 \r\nL 5.421875 11.28125 \r\nQ 10.40625 8.6875 15.234375 7.390625 \r\nQ 20.0625 6.109375 24.8125 6.109375 \r\nQ 31.15625 6.109375 34.5625 8.28125 \r\nQ 37.984375 10.453125 37.984375 14.40625 \r\nQ 37.984375 18.0625 35.515625 20.015625 \r\nQ 33.0625 21.96875 24.703125 23.78125 \r\nL 21.578125 24.515625 \r\nQ 13.234375 26.265625 9.515625 29.90625 \r\nQ 5.8125 33.546875 5.8125 39.890625 \r\nQ 5.8125 47.609375 11.28125 51.796875 \r\nQ 16.75 56 26.8125 56 \r\nQ 31.78125 56 36.171875 55.265625 \r\nQ 40.578125 54.546875 44.28125 53.078125 \r\nz\r\n\" id=\"DejaVuSans-115\"/>\r\n     </defs>\r\n     <use xlink:href=\"#DejaVuSans-67\"/>\r\n     <use x=\"69.824219\" xlink:href=\"#DejaVuSans-111\"/>\r\n     <use x=\"131.005859\" xlink:href=\"#DejaVuSans-115\"/>\r\n     <use x=\"183.105469\" xlink:href=\"#DejaVuSans-105\"/>\r\n     <use x=\"210.888672\" xlink:href=\"#DejaVuSans-110\"/>\r\n     <use x=\"274.267578\" xlink:href=\"#DejaVuSans-101\"/>\r\n    </g>\r\n   </g>\r\n  </g>\r\n </g>\r\n <defs>\r\n  <clipPath id=\"pb4c73c7d0c\">\r\n   <rect height=\"98.836364\" width=\"334.8\" x=\"28.942188\" y=\"22.318125\"/>\r\n  </clipPath>\r\n  <clipPath id=\"p9dcbac4b99\">\r\n   <rect height=\"98.836364\" width=\"334.8\" x=\"28.942188\" y=\"140.921761\"/>\r\n  </clipPath>\r\n </defs>\r\n</svg>\r\n",
            "image/png": "[encoded data removed]"
          },
          "metadata": {
            "needs_background": "light"
          }
        }
      ]
    },
    {
      "cell_type": "markdown",
      "metadata": {
        "id": "RfdV9IkflsT_"
      },
      "source": [
        "# OpenCV\n",
        "\n",
        "OpenCV is an extremely popular computer vision library built in C++, with many powerful tools for CV. It lets you read, write, and show images and videos, read from webcam streams, find matching keypoints between two images, and more.\n",
        "\n",
        "OpenCV is written in C++, however, there is a Python library that uses these optimized C++ libraries, and exposes an API using numpy arrays!\n",
        "\n",
        "Let's import OpenCV"
      ]
    },
    {
      "cell_type": "code",
      "metadata": {
        "id": "QvZMt995lsUA"
      },
      "source": [
        "import cv2"
      ],
      "execution_count": 77,
      "outputs": []
    },
    {
      "cell_type": "markdown",
      "metadata": {
        "id": "PFgfbGIAlsUD"
      },
      "source": [
        "## Reading, Writing, and Showing Images"
      ]
    },
    {
      "cell_type": "markdown",
      "metadata": {
        "id": "AKjPEnsTlsUD"
      },
      "source": [
        "### Reading\n",
        "\n",
        "You can use the `imread` function to read in an image from a filepath."
      ]
    },
    {
      "cell_type": "code",
      "metadata": {
        "id": "mhdy1tN_lsUE"
      },
      "source": [
        "phoenix_image = cv2.imread(os.path.join(rootpath, \"data\",\"phoenix.jpg\"))"
      ],
      "execution_count": 78,
      "outputs": []
    },
    {
      "cell_type": "markdown",
      "metadata": {
        "id": "1J28iYBklsUF"
      },
      "source": [
        "Images in OpenCV are represented as numpy arrays!"
      ]
    },
    {
      "cell_type": "code",
      "metadata": {
        "id": "BklZk6RJlsUG",
        "colab": {
          "base_uri": "https://localhost:8080/",
          "height": 34
        },
        "outputId": "de4c3e64-b541-4628-d48b-3a611cb29451"
      },
      "source": [
        "type(phoenix_image), phoenix_image.shape, phoenix_image.dtype"
      ],
      "execution_count": 79,
      "outputs": [
        {
          "output_type": "error",
          "ename": "AttributeError",
          "evalue": "'NoneType' object has no attribute 'shape'",
          "traceback": [
            "\u001b[1;31m---------------------------------------------------------------------------\u001b[0m",
            "\u001b[1;31mAttributeError\u001b[0m                            Traceback (most recent call last)",
            "\u001b[1;32m<ipython-input-79-3ec03abca634>\u001b[0m in \u001b[0;36m<module>\u001b[1;34m\u001b[0m\n\u001b[1;32m----> 1\u001b[1;33m \u001b[0mtype\u001b[0m\u001b[1;33m(\u001b[0m\u001b[0mphoenix_image\u001b[0m\u001b[1;33m)\u001b[0m\u001b[1;33m,\u001b[0m \u001b[0mphoenix_image\u001b[0m\u001b[1;33m.\u001b[0m\u001b[0mshape\u001b[0m\u001b[1;33m,\u001b[0m \u001b[0mphoenix_image\u001b[0m\u001b[1;33m.\u001b[0m\u001b[0mdtype\u001b[0m\u001b[1;33m\u001b[0m\u001b[1;33m\u001b[0m\u001b[0m\n\u001b[0m",
            "\u001b[1;31mAttributeError\u001b[0m: 'NoneType' object has no attribute 'shape'"
          ]
        }
      ]
    },
    {
      "cell_type": "markdown",
      "metadata": {
        "id": "Yrp_h0RllsUI"
      },
      "source": [
        "### Channels, Image Formats, and using images as arrays\n",
        "The shape of a color image is (height, width, colors BGR) \\\n",
        "While it may seem strange that the height is first, it's because OpenCV treats images as \"Rows\" and \"Columns\" of an image. The \"height\" of an image is the number of rows!"
      ]
    },
    {
      "cell_type": "code",
      "metadata": {
        "id": "ik6aUO75lsUJ",
        "colab": {
          "base_uri": "https://localhost:8080/",
          "height": 34
        },
        "outputId": "80127adc-9b64-4b0e-e6c1-39230f6eae47"
      },
      "source": [
        "phoenix_image.shape"
      ],
      "execution_count": null,
      "outputs": [
        {
          "output_type": "execute_result",
          "data": {
            "text/plain": [
              "(1280, 720, 3)"
            ]
          },
          "metadata": {
            "tags": []
          },
          "execution_count": 73
        }
      ]
    },
    {
      "cell_type": "markdown",
      "metadata": {
        "id": "s7XtSj29lsUN"
      },
      "source": [
        "You can see each pixel is represented by 3 values (uint8 means they are between 0 and 255)"
      ]
    },
    {
      "cell_type": "code",
      "metadata": {
        "id": "CUOUHsFdlsUQ",
        "colab": {
          "base_uri": "https://localhost:8080/",
          "height": 34
        },
        "outputId": "acd21542-1f99-427a-d0b2-e37d87c62832"
      },
      "source": [
        "phoenix_image[0,0] # Get the pixel located at (0,0) from the top left"
      ],
      "execution_count": null,
      "outputs": [
        {
          "output_type": "execute_result",
          "data": {
            "text/plain": [
              "array([0, 0, 0], dtype=uint8)"
            ]
          },
          "metadata": {
            "tags": []
          },
          "execution_count": 74
        }
      ]
    },
    {
      "cell_type": "markdown",
      "metadata": {
        "id": "Fzc0htGqlsUU"
      },
      "source": [
        "Color images consist of \"channels\" - each color we can render is some combination of red, green, and blue (OR, in the case of a grayscale image, gray).\n",
        "\n",
        "There are other sets of channels - you'll learn about these in the Color lecture!\n",
        "\n",
        "By default, color images are opened by OpenCV as BGR, meaning the values for a given pixel are ordered \"blue, green, red\".\n",
        "\n",
        "We can use the `cv2.cvtColor` function to change which color system our image is in. This will appear shortly."
      ]
    },
    {
      "cell_type": "code",
      "metadata": {
        "id": "nYFD7gb1lsUV"
      },
      "source": [
        "phoenix_image_rgb = cv2.cvtColor(phoenix_image, cv2.COLOR_BGR2RGB)"
      ],
      "execution_count": null,
      "outputs": []
    },
    {
      "cell_type": "markdown",
      "metadata": {
        "id": "uaa3_J_flsUY"
      },
      "source": [
        "### Showing the image "
      ]
    },
    {
      "cell_type": "markdown",
      "metadata": {
        "id": "C0QD2dOclsUZ"
      },
      "source": [
        "If you're running scripted Python (not Jupyter notebook) The `imshow` command will display an image. However, this doesn't work in jupyter notebook, so we'll use Matplotlib's `imshow` instead"
      ]
    },
    {
      "cell_type": "code",
      "metadata": {
        "id": "ZZdpYNjTlsUZ"
      },
      "source": [
        "# This line only works if you're running locally\n",
        "# cv2.imshow('test', phoenix_image)"
      ],
      "execution_count": null,
      "outputs": []
    },
    {
      "cell_type": "markdown",
      "metadata": {
        "id": "H1eFaTIelsUb"
      },
      "source": [
        "Matplotlib assumes images are in the **RGB** format. OpenCV assumes that images are in the **BGR** format. So, we'll convert colors before showing the image. Let's make a function to do this."
      ]
    },
    {
      "cell_type": "code",
      "metadata": {
        "id": "q1M69bUGlsUc"
      },
      "source": [
        "def imshow(image, *args, **kwargs):\n",
        "    if len(image.shape) == 3:\n",
        "      # Height, width, channels\n",
        "      # Assume BGR, do a conversion since \n",
        "      image = cv2.cvtColor(image, cv2.COLOR_BGR2RGB)\n",
        "    else:\n",
        "      # Height, width - must be grayscale\n",
        "      # convert to RGB, since matplotlib will plot in a weird colormap (instead of black = 0, white = 1)\n",
        "      image = cv2.cvtColor(image, cv2.COLOR_GRAY2RGB)\n",
        "    # Draw the image\n",
        "    plt.imshow(image, *args, **kwargs)\n",
        "    # We'll also disable drawing the axes and tick marks in the plot, since it's actually an image\n",
        "    plt.axis('off')\n",
        "    # Make sure it outputs\n",
        "    plt.show()"
      ],
      "execution_count": null,
      "outputs": []
    },
    {
      "cell_type": "markdown",
      "metadata": {
        "id": "-2-pNCzqlsUf"
      },
      "source": [
        "Let's show the image!"
      ]
    },
    {
      "cell_type": "code",
      "metadata": {
        "id": "nBlvKUMolsUg",
        "colab": {
          "base_uri": "https://localhost:8080/",
          "height": 269
        },
        "outputId": "c2dec781-51ae-4eb7-f65f-fe470219fb06"
      },
      "source": [
        "imshow(phoenix_image)"
      ],
      "execution_count": null,
      "outputs": [
        {
          "output_type": "display_data",
          "data": {
            "image/png": "[encoded data removed]",
            "text/plain": [
              "<Figure size 432x288 with 1 Axes>"
            ]
          },
          "metadata": {
            "tags": []
          }
        }
      ]
    },
    {
      "cell_type": "markdown",
      "metadata": {
        "id": "2HnYFtCOlsUi"
      },
      "source": [
        "### Manipulating images\n",
        "\n",
        "#### Changing color spaces\n",
        "\n",
        "OpenCV exposes several functions to work with images. Let's use the `cvtColor` function to convert the color image to gray. Grayscale images do not have a third dimension, instead, each pixel has a luminosity (\"whiteness\") value between 0 and 255"
      ]
    },
    {
      "cell_type": "code",
      "metadata": {
        "id": "BtholCvhlsUj",
        "colab": {
          "base_uri": "https://localhost:8080/",
          "height": 286
        },
        "outputId": "db5261d7-9bab-4310-cc97-f738d3ce8b13"
      },
      "source": [
        "phoenix_gray = cv2.cvtColor(phoenix_image, cv2.COLOR_BGR2GRAY)\n",
        "\n",
        "print(\"Created BW image of shape\",phoenix_gray.shape)\n",
        "imshow(phoenix_gray)"
      ],
      "execution_count": null,
      "outputs": [
        {
          "output_type": "stream",
          "text": [
            "Created BW image of shape (1280, 720)\n"
          ],
          "name": "stdout"
        },
        {
          "output_type": "display_data",
          "data": {
            "image/png": "[encoded data removed]",
            "text/plain": [
              "<Figure size 432x288 with 1 Axes>"
            ]
          },
          "metadata": {
            "tags": []
          }
        }
      ]
    },
    {
      "cell_type": "markdown",
      "metadata": {
        "id": "xp2T7RjElsUl"
      },
      "source": [
        "We also can manipulate it by doing anything we would to a normal array. Let's make an image that includes the the gray phoenix as the blue channel and red channels, and nothing in the green channels. (This is NOT the same as excluding the green channel from the original image)"
      ]
    },
    {
      "cell_type": "code",
      "metadata": {
        "id": "d1Zo26CFlsUm",
        "colab": {
          "base_uri": "https://localhost:8080/",
          "height": 286
        },
        "outputId": "63b57a51-eb52-48f8-d45b-b4cbe06e9530"
      },
      "source": [
        "empty_arr = np.zeros(phoenix_gray.shape, dtype=np.uint8)\n",
        "\n",
        "# Stack them, making the 3rd axis\n",
        "magenta_phoenix = np.stack([ phoenix_gray, empty_arr, phoenix_gray, ], axis=2)\n",
        "print(\"Created image of shape\",magenta_phoenix.shape)\n",
        "imshow(magenta_phoenix)"
      ],
      "execution_count": null,
      "outputs": [
        {
          "output_type": "stream",
          "text": [
            "Created image of shape (1280, 720, 3)\n"
          ],
          "name": "stdout"
        },
        {
          "output_type": "display_data",
          "data": {
            "image/png": "[encoded data removed]",
            "text/plain": [
              "<Figure size 432x288 with 1 Axes>"
            ]
          },
          "metadata": {
            "tags": []
          }
        }
      ]
    },
    {
      "cell_type": "markdown",
      "metadata": {
        "id": "YKLPU5EilsUo"
      },
      "source": [
        "#### Resizing images\n",
        "\n",
        "We can also resize images using `resize`. This needs the output size. Note that these are image sizes, which are expressed as (width, height), NOT to be confused with their shape."
      ]
    },
    {
      "cell_type": "code",
      "metadata": {
        "id": "IvNxmeKylsUq",
        "colab": {
          "base_uri": "https://localhost:8080/",
          "height": 286
        },
        "outputId": "9e9c5d32-fb7d-4c1c-8713-c062be43fa75"
      },
      "source": [
        "image_height, image_width, image_num_channels = magenta_phoenix.shape\n",
        "new_height = image_height * 2\n",
        "new_width = image_width * 3\n",
        "\n",
        "# Resize it to 3x the width, and 2x the height, so we expect some distortion. \n",
        "# (To display it in the browser, the image is being scaled down anyway, so resizing it 2 x 2 will not be obvious)\n",
        "\n",
        "bigger_magenta_phoenix = cv2.resize(magenta_phoenix, (new_width, new_height))\n",
        "print(\"Resized to image of shape\",bigger_magenta_phoenix.shape)\n",
        "imshow(bigger_magenta_phoenix)"
      ],
      "execution_count": null,
      "outputs": [
        {
          "output_type": "stream",
          "text": [
            "Resized to image of shape (2560, 2160, 3)\n"
          ],
          "name": "stdout"
        },
        {
          "output_type": "display_data",
          "data": {
            "image/png": "[encoded data removed]",
            "text/plain": [
              "<Figure size 432x288 with 1 Axes>"
            ]
          },
          "metadata": {
            "tags": []
          }
        }
      ]
    },
    {
      "cell_type": "markdown",
      "metadata": {
        "id": "gjWQYjYVlsUt"
      },
      "source": [
        "### Writing an Image"
      ]
    },
    {
      "cell_type": "markdown",
      "metadata": {
        "id": "6VM0EQJhlsUt"
      },
      "source": [
        "The `imwrite` function can write out an image. Let's write out the image we just made, so we can use it later!"
      ]
    },
    {
      "cell_type": "code",
      "metadata": {
        "id": "uB7vl5ehlsUu",
        "colab": {
          "base_uri": "https://localhost:8080/",
          "height": 34
        },
        "outputId": "265ed634-6fa8-4ee8-d2b5-c50408955c69"
      },
      "source": [
        "output_path = os.path.join(rootpath, \"data\", \"output_pinkphoenix.png\")\n",
        "cv2.imwrite(output_path, bigger_magenta_phoenix)"
      ],
      "execution_count": null,
      "outputs": [
        {
          "output_type": "execute_result",
          "data": {
            "text/plain": [
              "True"
            ]
          },
          "metadata": {
            "tags": []
          },
          "execution_count": 83
        }
      ]
    },
    {
      "cell_type": "markdown",
      "metadata": {
        "id": "OCG0F5m7lsUw"
      },
      "source": [
        "We should be able to read that image directly from the file. Let's try!"
      ]
    },
    {
      "cell_type": "code",
      "metadata": {
        "id": "T79N7N7DlsUx",
        "colab": {
          "base_uri": "https://localhost:8080/",
          "height": 286
        },
        "outputId": "4f0702f9-7e0b-43bb-88e6-c2f5cc184fa1"
      },
      "source": [
        "test_read_output = cv2.imread(output_path)\n",
        "print(\"Read file of shape:\",test_read_output.shape, \"type\",test_read_output.dtype)\n",
        "imshow(test_read_output)"
      ],
      "execution_count": null,
      "outputs": [
        {
          "output_type": "stream",
          "text": [
            "Read file of shape: (2560, 2160, 3) type uint8\n"
          ],
          "name": "stdout"
        },
        {
          "output_type": "display_data",
          "data": {
            "image/png": "[encoded data removed]",
            "text/plain": [
              "<Figure size 432x288 with 1 Axes>"
            ]
          },
          "metadata": {
            "tags": []
          }
        }
      ]
    },
    {
      "cell_type": "markdown",
      "metadata": {
        "id": "oEVrCiEQlsUz"
      },
      "source": [
        "Everything works as expected!"
      ]
    },
    {
      "cell_type": "markdown",
      "metadata": {
        "id": "clG-u520rvjJ"
      },
      "source": [
        "### Working with Video\n",
        "\n",
        "A video is nothing more than a series of images. We can use the `VideoCapture` object to read videos from webcams, IP cameras, and files. Since we're working in the cloud, we'll use files.\n",
        "\n",
        "We can use the `VideoWriter` object to write videos to a file. (If you were working locally, you could use `cv2.imshow` to display it in real time)\n",
        "\n",
        "Let's use what we've learned so far to crop the video!"
      ]
    },
    {
      "cell_type": "code",
      "metadata": {
        "id": "laInONEvs1UJ",
        "colab": {
          "base_uri": "https://localhost:8080/",
          "height": 34
        },
        "outputId": "fdbf8e74-bf5f-4d1a-9328-99b609d01e00"
      },
      "source": [
        "# function to crop a given frame\n",
        "def crop_frame(frame, crop_size):\n",
        "  # We're given a frame, either gray or RGB, and a crop-size (w,h)\n",
        "  crop_w, crop_h = crop_size\n",
        "  # This is an array! We can slice it\n",
        "  # Take the first pixels along the height, and along the width \n",
        "  cropped = frame[:crop_h, :crop_w]\n",
        "  return cropped\n",
        "\n",
        "capture = cv2.VideoCapture(os.path.join(rootpath, 'data','sample_video.mp4'))\n",
        "\n",
        "crop_size = (600, 400) # w,h\n",
        "output_path = os.path.join(rootpath, 'data','output_cropped.mp4')\n",
        "# Use the MJPG format\n",
        "output_format = cv2.VideoWriter_fourcc('M','P','4','V')\n",
        "output_fps = 30\n",
        "cropped_output = cv2.VideoWriter(output_path, output_format, output_fps, crop_size)\n",
        "n = 0\n",
        "while True:\n",
        "  successful, next_frame = capture.read()\n",
        "  if not successful:\n",
        "    # No more frames to read\n",
        "    print(\"Processed %d frames\" % n)\n",
        "    break\n",
        "  # We have an input frame. Use our function to crop it.\n",
        "  output_frame = crop_frame(next_frame, crop_size)\n",
        "  # Write the output frame to the output video\n",
        "  cropped_output.write(output_frame)\n",
        "  n += 1\n",
        "  # Now we have an image! We can process that as we would.\n",
        "\n",
        "# We have to give up the file at the end.\n",
        "capture.release()\n",
        "cropped_output.release()\n",
        "  "
      ],
      "execution_count": null,
      "outputs": [
        {
          "output_type": "stream",
          "text": [
            "Processed 132 frames\n"
          ],
          "name": "stdout"
        }
      ]
    },
    {
      "cell_type": "markdown",
      "metadata": {
        "id": "LkDYJvPv6HKU"
      },
      "source": [
        "### Display the Video\n",
        "\n",
        "Unfortunately, it's rather difficult to display videos in Jupyter, so check your google drive!"
      ]
    },
    {
      "cell_type": "markdown",
      "metadata": {
        "id": "tXV5YxS7lsU2"
      },
      "source": [
        "# Exercises\n",
        "\n",
        "All of these exercises are doable with the information you've been presented thus far.\n"
      ]
    },
    {
      "cell_type": "markdown",
      "metadata": {
        "id": "eLZxOOH-lsU3"
      },
      "source": [
        "## Exercise 1\n",
        "**Grading students**\n",
        "The class 6.869 has `num_students` students. Each student has `num_grades` grades, one for each assignment. \n",
        "The staff store our grades in a numpy ndarray, of shape `(num_students, num_grades)`. (Each row is a student, each column is an assignment)\n",
        "\n",
        "**(a)** Create an ndarray of the proper shape to hold the grades table, and fill it with the values `[0, num_students * num_grades)`, going left-to-right, then top-to-bottom.\n",
        "\n",
        "**(b)** We have a meeting with Julie, whose student index is `2`, and want to see how she's doing in the class. Use ndarray slicing to get an array containing all of her grades (index 2).\n",
        "\n",
        "**(c)** Xavier wants to know if PSet 4 (assignment index 4) is too hard. Use ndarray slicing to extract the whole classes grades for PSet 4."
      ]
    },
    {
      "cell_type": "code",
      "metadata": {
        "id": "w4oSQJq1lsU4",
        "colab": {
          "base_uri": "https://localhost:8080/",
          "height": 34
        },
        "outputId": "e5fdc6bf-5d33-4ec7-a97b-69413faa07e0"
      },
      "source": [
        "num_students = 4\n",
        "num_assignments = 5\n",
        "\n",
        "# (a)\n",
        "grades_table = np.array(range(num_students * num_assignments)).reshape((num_students,num_assignments))\n",
        "\n",
        "# (b)\n",
        "julies_grades = grades_table[2]\n",
        "\n",
        "# (c)\n",
        "pset4_grades = grades_table[:, 4]\n",
        "\n",
        "pset4_grades"
      ],
      "execution_count": null,
      "outputs": [
        {
          "output_type": "execute_result",
          "data": {
            "text/plain": [
              "array([ 4,  9, 14, 19])"
            ]
          },
          "metadata": {
            "tags": []
          },
          "execution_count": 23
        }
      ]
    },
    {
      "cell_type": "markdown",
      "metadata": {
        "id": "1-YEM3t2lsU-"
      },
      "source": [
        "# Exercise 2\n",
        "**Pose Estimation** The 6.869 staff have developed a ground-breaking pose estimation network. The output of the network is a matrix of shape `(num_keypoints, 3)` (each row is a key point on the body, the columns are X,Y,Z). A \"joint\" is a connection between two keypoints, expressed as a matrix of shape `(num_joints, 2)`, (each row is a joint, the columns are START_KEYPOINT_INDEX and END_KEYPOINT_INDEX).\n",
        "\n",
        "**(a)** Create a matrix of joint starts, and another matrix of joint ends, each of shape `(num_joints, 3)`. The starts table should contain the position of the start of each joint (according to `position`)  \n",
        "\n",
        "**(b)** Create a matrix of joint-displacements, of shape `(num_joints, 3)`. Each row represents a joint. The columns should be the difference in X, Y, and Z between the start of the joint, and the end of the joint, respectively `(endX - startX, endY - startY, endZ-startZ)`. \n",
        "\n",
        "**(c)** Find the magnitude (length) of each of these displacement vectors, and output the results in an array of length `num_joints`\n"
      ]
    },
    {
      "cell_type": "code",
      "metadata": {
        "id": "w028LM6llsU_",
        "colab": {
          "base_uri": "https://localhost:8080/",
          "height": 51
        },
        "outputId": "71969788-c4f8-4480-bc51-b0a96603c8f4"
      },
      "source": [
        "num_keypoints = 7\n",
        "num_joints = 5\n",
        "\n",
        "\n",
        "# All Z's in one plane, but makes it easier to see XYZ vs Start/end\n",
        "keypoint_positions = np.array(\n",
        "    [\n",
        "        [0, 1, 0], #Head\n",
        "        [0, 0, 0], #Torso\n",
        "        [1, 0, 0], #Right Arm\n",
        "        [-1, 0, 0], #Left Arm\n",
        "        [0, -1, 0], #Lower ,Torso\n",
        "        [1, -2, 0], #Right Leg\n",
        "        [-1, -2, 0] #Left Leg\n",
        "    ]\n",
        ")\n",
        "\n",
        "#   O\n",
        "#  _|_\n",
        "#   |\n",
        "#  /\\\n",
        "joints = np.array([\n",
        "    # Head to torso\n",
        "    [0, 1],\n",
        "    # Torso to Right arm\n",
        "    [1, 2],\n",
        "    # Torso to Left Arm\n",
        "    [1, 3],\n",
        "    # Torso to Lower Torso\n",
        "    [3, 4],\n",
        "    # Lower Torso to Right Leg\n",
        "    [4, 5],\n",
        "    # Lower Torso to Left Leg\n",
        "    [4, 6]\n",
        "])\n",
        "\n",
        "# (a)\n",
        "starts = keypoint_positions[joints[:, 0]]\n",
        "ends = keypoint_positions[joints[:, 1]]\n",
        "\n",
        "# (b)\n",
        "diffs = ends - starts\n",
        "\n",
        "# (c)\n",
        "lengths = np.sum(diffs ** 2, axis = 1) ** 0.5\n",
        "\n",
        "lengths\n"
      ],
      "execution_count": null,
      "outputs": [
        {
          "output_type": "execute_result",
          "data": {
            "text/plain": [
              "array([1.        , 1.        , 1.        , 1.41421356, 1.41421356,\n",
              "       1.41421356])"
            ]
          },
          "metadata": {
            "tags": []
          },
          "execution_count": 66
        }
      ]
    },
    {
      "cell_type": "markdown",
      "metadata": {
        "id": "JHyGmaqu9kTd"
      },
      "source": [
        "# Exercise 3\n",
        "\n",
        "**Edge detection** Our phoenix is lovely and bright - but what if we wanted to draw it? it might help to have the edges.\n",
        "\n",
        "**(a)** Load the image `phoenix.jpg`. Covert it to grayscale. \\\n",
        "**(b)** Use the scipy.signal.convolve2d (aliased as `conv2d`) to compute the convolution of the phoenix and the `kernel` (make sure to cast to a float32 between 0 and 1 first). Use imshow to show the results. Use `prep_to_draw` to convert a [0,1] BW image to a drawable image."
      ]
    },
    {
      "cell_type": "code",
      "metadata": {
        "id": "FZickyq-9n-9",
        "colab": {
          "base_uri": "https://localhost:8080/",
          "height": 1000
        },
        "outputId": "326a0e66-0532-438c-89c2-fb24d10d115b"
      },
      "source": [
        "import scipy\n",
        "import scipy.signal\n",
        "\n",
        "conv2d = scipy.signal.convolve2d\n",
        "# looks for horizontal edges\n",
        "horizontal_edge_detector = np.array(\n",
        "  [\n",
        "      [-1, 0, 1]\n",
        "  ]\n",
        ")\n",
        "\n",
        "box_blur_size = 15\n",
        "box_blur = np.ones((box_blur_size, box_blur_size)) / (box_blur_size ** 2)\n",
        "sharpen_kernel = np.array(\n",
        "    [\n",
        "        [0, -1, 0],\n",
        "        [-1, 5, -1],\n",
        "        [0,  -1, 0]\n",
        "    ]\n",
        ")\n",
        "\n",
        "all_edge_detector = np.array(\n",
        "    [\n",
        "        [0, -1, 0],\n",
        "        [-1, 4, -1],\n",
        "        [0,  -1, 0]\n",
        "    ]\n",
        ")\n",
        "\n",
        "\n",
        "\n",
        "def prep_to_draw(img):\n",
        "  # Scale to 0,255\n",
        "  prepped = img * 255\n",
        "  # Clamp to [0, 255]\n",
        "  prepped[prepped < 0] = 0.0\n",
        "  prepped[prepped > 255] = 255.0\n",
        "  prepped = prepped.astype(np.uint8)\n",
        "  return prepped\n",
        "\n",
        "'''\n",
        "SOLUTION:\n",
        "'''\n",
        "\n",
        "\n",
        "phoenix_image = cv2.imread(os.path.join(rootpath, \"data\",\"phoenix.jpg\"))\n",
        "bw = cv2.cvtColor(phoenix_image, cv2.COLOR_BGR2GRAY)\n",
        "bw_norm = (bw / 255.0).astype(np.float32)\n",
        "edges = conv2d(bw_norm, horizontal_edge_detector)\n",
        "blurred = conv2d(bw_norm, box_blur)\n",
        "sharpened = conv2d(blurred, sharpen_kernel)\n",
        "# Apply a second time for greater effect\n",
        "sharpened = conv2d(sharpened, sharpen_kernel)\n",
        "# Feel free to try convolving with other kernels! I've added a few I like to the top.\n",
        "print(\"Black and white image\")\n",
        "imshow(prep_to_draw(bw_norm))\n",
        "print(\"Edges\")\n",
        "imshow(prep_to_draw(edges))\n",
        "print(\"Box-blurred\")\n",
        "imshow(prep_to_draw(blurred))\n",
        "print(\"Sharpen of blurred img\")\n",
        "imshow(prep_to_draw(sharpened))\n",
        "\n",
        "#imshow(normed)"
      ],
      "execution_count": null,
      "outputs": [
        {
          "output_type": "stream",
          "text": [
            "Black and white image\n"
          ],
          "name": "stdout"
        },
        {
          "output_type": "display_data",
          "data": {
            "image/png": "[encoded data removed]",
            "text/plain": [
              "<Figure size 432x288 with 1 Axes>"
            ]
          },
          "metadata": {
            "tags": []
          }
        },
        {
          "output_type": "stream",
          "text": [
            "Edges\n"
          ],
          "name": "stdout"
        },
        {
          "output_type": "display_data",
          "data": {
            "image/png": "[encoded data removed]",
            "text/plain": [
              "<Figure size 432x288 with 1 Axes>"
            ]
          },
          "metadata": {
            "tags": []
          }
        },
        {
          "output_type": "stream",
          "text": [
            "Box-blurred\n"
          ],
          "name": "stdout"
        },
        {
          "output_type": "display_data",
          "data": {
            "image/png": "[encoded data removed]",
            "text/plain": [
              "<Figure size 432x288 with 1 Axes>"
            ]
          },
          "metadata": {
            "tags": []
          }
        },
        {
          "output_type": "stream",
          "text": [
            "Sharpen of blurred img\n"
          ],
          "name": "stdout"
        },
        {
          "output_type": "display_data",
          "data": {
            "image/png": "[encoded data removed]",
            "text/plain": [
              "<Figure size 432x288 with 1 Axes>"
            ]
          },
          "metadata": {
            "tags": []
          }
        }
      ]
    },
    {
      "cell_type": "code",
      "metadata": {
        "id": "rW4O5fiQ-U_t"
      },
      "source": [],
      "execution_count": null,
      "outputs": []
    }
  ]
}